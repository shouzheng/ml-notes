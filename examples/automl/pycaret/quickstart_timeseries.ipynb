{
 "cells": [
  {
   "cell_type": "markdown",
   "metadata": {},
   "source": [
    "# [Time Series](https://pycaret.gitbook.io/docs/get-started/quickstart#time-series)"
   ]
  },
  {
   "cell_type": "markdown",
   "metadata": {},
   "source": [
    "## Setup"
   ]
  },
  {
   "cell_type": "code",
   "execution_count": 1,
   "metadata": {},
   "outputs": [
    {
     "data": {
      "text/plain": [
       "Period\n",
       "1949-01    112.0\n",
       "1949-02    118.0\n",
       "1949-03    132.0\n",
       "1949-04    129.0\n",
       "1949-05    121.0\n",
       "Freq: M, Name: Number of airline passengers, dtype: float64"
      ]
     },
     "metadata": {},
     "output_type": "display_data"
    }
   ],
   "source": [
    "# load sample dataset\n",
    "from pycaret.datasets import get_data\n",
    "data = get_data('airline')"
   ]
  },
  {
   "cell_type": "code",
   "execution_count": 2,
   "metadata": {},
   "outputs": [
    {
     "data": {
      "text/html": [
       "<style type=\"text/css\">\n",
       "#T_6d6b5_row25_col1 {\n",
       "  background-color: lightgreen;\n",
       "}\n",
       "</style>\n",
       "<table id=\"T_6d6b5\">\n",
       "  <thead>\n",
       "    <tr>\n",
       "      <th class=\"blank level0\" >&nbsp;</th>\n",
       "      <th id=\"T_6d6b5_level0_col0\" class=\"col_heading level0 col0\" >Description</th>\n",
       "      <th id=\"T_6d6b5_level0_col1\" class=\"col_heading level0 col1\" >Value</th>\n",
       "    </tr>\n",
       "  </thead>\n",
       "  <tbody>\n",
       "    <tr>\n",
       "      <th id=\"T_6d6b5_level0_row0\" class=\"row_heading level0 row0\" >0</th>\n",
       "      <td id=\"T_6d6b5_row0_col0\" class=\"data row0 col0\" >session_id</td>\n",
       "      <td id=\"T_6d6b5_row0_col1\" class=\"data row0 col1\" >123</td>\n",
       "    </tr>\n",
       "    <tr>\n",
       "      <th id=\"T_6d6b5_level0_row1\" class=\"row_heading level0 row1\" >1</th>\n",
       "      <td id=\"T_6d6b5_row1_col0\" class=\"data row1 col0\" >Target</td>\n",
       "      <td id=\"T_6d6b5_row1_col1\" class=\"data row1 col1\" >Number of airline passengers</td>\n",
       "    </tr>\n",
       "    <tr>\n",
       "      <th id=\"T_6d6b5_level0_row2\" class=\"row_heading level0 row2\" >2</th>\n",
       "      <td id=\"T_6d6b5_row2_col0\" class=\"data row2 col0\" >Approach</td>\n",
       "      <td id=\"T_6d6b5_row2_col1\" class=\"data row2 col1\" >Univariate</td>\n",
       "    </tr>\n",
       "    <tr>\n",
       "      <th id=\"T_6d6b5_level0_row3\" class=\"row_heading level0 row3\" >3</th>\n",
       "      <td id=\"T_6d6b5_row3_col0\" class=\"data row3 col0\" >Exogenous Variables</td>\n",
       "      <td id=\"T_6d6b5_row3_col1\" class=\"data row3 col1\" >Not Present</td>\n",
       "    </tr>\n",
       "    <tr>\n",
       "      <th id=\"T_6d6b5_level0_row4\" class=\"row_heading level0 row4\" >4</th>\n",
       "      <td id=\"T_6d6b5_row4_col0\" class=\"data row4 col0\" >Original data shape</td>\n",
       "      <td id=\"T_6d6b5_row4_col1\" class=\"data row4 col1\" >(144, 1)</td>\n",
       "    </tr>\n",
       "    <tr>\n",
       "      <th id=\"T_6d6b5_level0_row5\" class=\"row_heading level0 row5\" >5</th>\n",
       "      <td id=\"T_6d6b5_row5_col0\" class=\"data row5 col0\" >Transformed data shape</td>\n",
       "      <td id=\"T_6d6b5_row5_col1\" class=\"data row5 col1\" >(144, 1)</td>\n",
       "    </tr>\n",
       "    <tr>\n",
       "      <th id=\"T_6d6b5_level0_row6\" class=\"row_heading level0 row6\" >6</th>\n",
       "      <td id=\"T_6d6b5_row6_col0\" class=\"data row6 col0\" >Transformed train set shape</td>\n",
       "      <td id=\"T_6d6b5_row6_col1\" class=\"data row6 col1\" >(141, 1)</td>\n",
       "    </tr>\n",
       "    <tr>\n",
       "      <th id=\"T_6d6b5_level0_row7\" class=\"row_heading level0 row7\" >7</th>\n",
       "      <td id=\"T_6d6b5_row7_col0\" class=\"data row7 col0\" >Transformed test set shape</td>\n",
       "      <td id=\"T_6d6b5_row7_col1\" class=\"data row7 col1\" >(3, 1)</td>\n",
       "    </tr>\n",
       "    <tr>\n",
       "      <th id=\"T_6d6b5_level0_row8\" class=\"row_heading level0 row8\" >8</th>\n",
       "      <td id=\"T_6d6b5_row8_col0\" class=\"data row8 col0\" >Rows with missing values</td>\n",
       "      <td id=\"T_6d6b5_row8_col1\" class=\"data row8 col1\" >0.0%</td>\n",
       "    </tr>\n",
       "    <tr>\n",
       "      <th id=\"T_6d6b5_level0_row9\" class=\"row_heading level0 row9\" >9</th>\n",
       "      <td id=\"T_6d6b5_row9_col0\" class=\"data row9 col0\" >Fold Generator</td>\n",
       "      <td id=\"T_6d6b5_row9_col1\" class=\"data row9 col1\" >ExpandingWindowSplitter</td>\n",
       "    </tr>\n",
       "    <tr>\n",
       "      <th id=\"T_6d6b5_level0_row10\" class=\"row_heading level0 row10\" >10</th>\n",
       "      <td id=\"T_6d6b5_row10_col0\" class=\"data row10 col0\" >Fold Number</td>\n",
       "      <td id=\"T_6d6b5_row10_col1\" class=\"data row10 col1\" >5</td>\n",
       "    </tr>\n",
       "    <tr>\n",
       "      <th id=\"T_6d6b5_level0_row11\" class=\"row_heading level0 row11\" >11</th>\n",
       "      <td id=\"T_6d6b5_row11_col0\" class=\"data row11 col0\" >Enforce Prediction Interval</td>\n",
       "      <td id=\"T_6d6b5_row11_col1\" class=\"data row11 col1\" >False</td>\n",
       "    </tr>\n",
       "    <tr>\n",
       "      <th id=\"T_6d6b5_level0_row12\" class=\"row_heading level0 row12\" >12</th>\n",
       "      <td id=\"T_6d6b5_row12_col0\" class=\"data row12 col0\" >Splits used for hyperparameters</td>\n",
       "      <td id=\"T_6d6b5_row12_col1\" class=\"data row12 col1\" >all</td>\n",
       "    </tr>\n",
       "    <tr>\n",
       "      <th id=\"T_6d6b5_level0_row13\" class=\"row_heading level0 row13\" >13</th>\n",
       "      <td id=\"T_6d6b5_row13_col0\" class=\"data row13 col0\" >User Defined Seasonal Period(s)</td>\n",
       "      <td id=\"T_6d6b5_row13_col1\" class=\"data row13 col1\" >None</td>\n",
       "    </tr>\n",
       "    <tr>\n",
       "      <th id=\"T_6d6b5_level0_row14\" class=\"row_heading level0 row14\" >14</th>\n",
       "      <td id=\"T_6d6b5_row14_col0\" class=\"data row14 col0\" >Ignore Seasonality Test</td>\n",
       "      <td id=\"T_6d6b5_row14_col1\" class=\"data row14 col1\" >False</td>\n",
       "    </tr>\n",
       "    <tr>\n",
       "      <th id=\"T_6d6b5_level0_row15\" class=\"row_heading level0 row15\" >15</th>\n",
       "      <td id=\"T_6d6b5_row15_col0\" class=\"data row15 col0\" >Seasonality Detection Algo</td>\n",
       "      <td id=\"T_6d6b5_row15_col1\" class=\"data row15 col1\" >auto</td>\n",
       "    </tr>\n",
       "    <tr>\n",
       "      <th id=\"T_6d6b5_level0_row16\" class=\"row_heading level0 row16\" >16</th>\n",
       "      <td id=\"T_6d6b5_row16_col0\" class=\"data row16 col0\" >Max Period to Consider</td>\n",
       "      <td id=\"T_6d6b5_row16_col1\" class=\"data row16 col1\" >60</td>\n",
       "    </tr>\n",
       "    <tr>\n",
       "      <th id=\"T_6d6b5_level0_row17\" class=\"row_heading level0 row17\" >17</th>\n",
       "      <td id=\"T_6d6b5_row17_col0\" class=\"data row17 col0\" >Seasonal Period(s) Tested</td>\n",
       "      <td id=\"T_6d6b5_row17_col1\" class=\"data row17 col1\" >[12, 24, 36, 11, 48]</td>\n",
       "    </tr>\n",
       "    <tr>\n",
       "      <th id=\"T_6d6b5_level0_row18\" class=\"row_heading level0 row18\" >18</th>\n",
       "      <td id=\"T_6d6b5_row18_col0\" class=\"data row18 col0\" >Significant Seasonal Period(s)</td>\n",
       "      <td id=\"T_6d6b5_row18_col1\" class=\"data row18 col1\" >[12, 24, 36, 11, 48]</td>\n",
       "    </tr>\n",
       "    <tr>\n",
       "      <th id=\"T_6d6b5_level0_row19\" class=\"row_heading level0 row19\" >19</th>\n",
       "      <td id=\"T_6d6b5_row19_col0\" class=\"data row19 col0\" >Significant Seasonal Period(s) without Harmonics</td>\n",
       "      <td id=\"T_6d6b5_row19_col1\" class=\"data row19 col1\" >[48, 36, 11]</td>\n",
       "    </tr>\n",
       "    <tr>\n",
       "      <th id=\"T_6d6b5_level0_row20\" class=\"row_heading level0 row20\" >20</th>\n",
       "      <td id=\"T_6d6b5_row20_col0\" class=\"data row20 col0\" >Remove Harmonics</td>\n",
       "      <td id=\"T_6d6b5_row20_col1\" class=\"data row20 col1\" >False</td>\n",
       "    </tr>\n",
       "    <tr>\n",
       "      <th id=\"T_6d6b5_level0_row21\" class=\"row_heading level0 row21\" >21</th>\n",
       "      <td id=\"T_6d6b5_row21_col0\" class=\"data row21 col0\" >Harmonics Order Method</td>\n",
       "      <td id=\"T_6d6b5_row21_col1\" class=\"data row21 col1\" >harmonic_max</td>\n",
       "    </tr>\n",
       "    <tr>\n",
       "      <th id=\"T_6d6b5_level0_row22\" class=\"row_heading level0 row22\" >22</th>\n",
       "      <td id=\"T_6d6b5_row22_col0\" class=\"data row22 col0\" >Num Seasonalities to Use</td>\n",
       "      <td id=\"T_6d6b5_row22_col1\" class=\"data row22 col1\" >1</td>\n",
       "    </tr>\n",
       "    <tr>\n",
       "      <th id=\"T_6d6b5_level0_row23\" class=\"row_heading level0 row23\" >23</th>\n",
       "      <td id=\"T_6d6b5_row23_col0\" class=\"data row23 col0\" >All Seasonalities to Use</td>\n",
       "      <td id=\"T_6d6b5_row23_col1\" class=\"data row23 col1\" >[12]</td>\n",
       "    </tr>\n",
       "    <tr>\n",
       "      <th id=\"T_6d6b5_level0_row24\" class=\"row_heading level0 row24\" >24</th>\n",
       "      <td id=\"T_6d6b5_row24_col0\" class=\"data row24 col0\" >Primary Seasonality</td>\n",
       "      <td id=\"T_6d6b5_row24_col1\" class=\"data row24 col1\" >12</td>\n",
       "    </tr>\n",
       "    <tr>\n",
       "      <th id=\"T_6d6b5_level0_row25\" class=\"row_heading level0 row25\" >25</th>\n",
       "      <td id=\"T_6d6b5_row25_col0\" class=\"data row25 col0\" >Seasonality Present</td>\n",
       "      <td id=\"T_6d6b5_row25_col1\" class=\"data row25 col1\" >True</td>\n",
       "    </tr>\n",
       "    <tr>\n",
       "      <th id=\"T_6d6b5_level0_row26\" class=\"row_heading level0 row26\" >26</th>\n",
       "      <td id=\"T_6d6b5_row26_col0\" class=\"data row26 col0\" >Seasonality Type</td>\n",
       "      <td id=\"T_6d6b5_row26_col1\" class=\"data row26 col1\" >mul</td>\n",
       "    </tr>\n",
       "    <tr>\n",
       "      <th id=\"T_6d6b5_level0_row27\" class=\"row_heading level0 row27\" >27</th>\n",
       "      <td id=\"T_6d6b5_row27_col0\" class=\"data row27 col0\" >Target Strictly Positive</td>\n",
       "      <td id=\"T_6d6b5_row27_col1\" class=\"data row27 col1\" >True</td>\n",
       "    </tr>\n",
       "    <tr>\n",
       "      <th id=\"T_6d6b5_level0_row28\" class=\"row_heading level0 row28\" >28</th>\n",
       "      <td id=\"T_6d6b5_row28_col0\" class=\"data row28 col0\" >Target White Noise</td>\n",
       "      <td id=\"T_6d6b5_row28_col1\" class=\"data row28 col1\" >No</td>\n",
       "    </tr>\n",
       "    <tr>\n",
       "      <th id=\"T_6d6b5_level0_row29\" class=\"row_heading level0 row29\" >29</th>\n",
       "      <td id=\"T_6d6b5_row29_col0\" class=\"data row29 col0\" >Recommended d</td>\n",
       "      <td id=\"T_6d6b5_row29_col1\" class=\"data row29 col1\" >1</td>\n",
       "    </tr>\n",
       "    <tr>\n",
       "      <th id=\"T_6d6b5_level0_row30\" class=\"row_heading level0 row30\" >30</th>\n",
       "      <td id=\"T_6d6b5_row30_col0\" class=\"data row30 col0\" >Recommended Seasonal D</td>\n",
       "      <td id=\"T_6d6b5_row30_col1\" class=\"data row30 col1\" >1</td>\n",
       "    </tr>\n",
       "    <tr>\n",
       "      <th id=\"T_6d6b5_level0_row31\" class=\"row_heading level0 row31\" >31</th>\n",
       "      <td id=\"T_6d6b5_row31_col0\" class=\"data row31 col0\" >Preprocess</td>\n",
       "      <td id=\"T_6d6b5_row31_col1\" class=\"data row31 col1\" >False</td>\n",
       "    </tr>\n",
       "    <tr>\n",
       "      <th id=\"T_6d6b5_level0_row32\" class=\"row_heading level0 row32\" >32</th>\n",
       "      <td id=\"T_6d6b5_row32_col0\" class=\"data row32 col0\" >CPU Jobs</td>\n",
       "      <td id=\"T_6d6b5_row32_col1\" class=\"data row32 col1\" >-1</td>\n",
       "    </tr>\n",
       "    <tr>\n",
       "      <th id=\"T_6d6b5_level0_row33\" class=\"row_heading level0 row33\" >33</th>\n",
       "      <td id=\"T_6d6b5_row33_col0\" class=\"data row33 col0\" >Use GPU</td>\n",
       "      <td id=\"T_6d6b5_row33_col1\" class=\"data row33 col1\" >False</td>\n",
       "    </tr>\n",
       "    <tr>\n",
       "      <th id=\"T_6d6b5_level0_row34\" class=\"row_heading level0 row34\" >34</th>\n",
       "      <td id=\"T_6d6b5_row34_col0\" class=\"data row34 col0\" >Log Experiment</td>\n",
       "      <td id=\"T_6d6b5_row34_col1\" class=\"data row34 col1\" >False</td>\n",
       "    </tr>\n",
       "    <tr>\n",
       "      <th id=\"T_6d6b5_level0_row35\" class=\"row_heading level0 row35\" >35</th>\n",
       "      <td id=\"T_6d6b5_row35_col0\" class=\"data row35 col0\" >Experiment Name</td>\n",
       "      <td id=\"T_6d6b5_row35_col1\" class=\"data row35 col1\" >ts-default-name</td>\n",
       "    </tr>\n",
       "    <tr>\n",
       "      <th id=\"T_6d6b5_level0_row36\" class=\"row_heading level0 row36\" >36</th>\n",
       "      <td id=\"T_6d6b5_row36_col0\" class=\"data row36 col0\" >USI</td>\n",
       "      <td id=\"T_6d6b5_row36_col1\" class=\"data row36 col1\" >5af1</td>\n",
       "    </tr>\n",
       "  </tbody>\n",
       "</table>\n"
      ],
      "text/plain": [
       "<pandas.io.formats.style.Styler at 0x276af4db5e0>"
      ]
     },
     "metadata": {},
     "output_type": "display_data"
    }
   ],
   "source": [
    "from pycaret.time_series import *\n",
    "s = setup(data, fh = 3, fold = 5, session_id = 123)"
   ]
  },
  {
   "cell_type": "markdown",
   "metadata": {},
   "source": [
    "## Compare Mpoels"
   ]
  },
  {
   "cell_type": "code",
   "execution_count": 3,
   "metadata": {},
   "outputs": [
    {
     "data": {
      "text/html": [],
      "text/plain": [
       "<IPython.core.display.HTML object>"
      ]
     },
     "metadata": {},
     "output_type": "display_data"
    },
    {
     "data": {
      "text/html": [
       "<style type=\"text/css\">\n",
       "#T_b3725 th {\n",
       "  text-align: left;\n",
       "}\n",
       "#T_b3725_row0_col0, #T_b3725_row1_col0, #T_b3725_row1_col1, #T_b3725_row1_col2, #T_b3725_row1_col3, #T_b3725_row1_col4, #T_b3725_row1_col5, #T_b3725_row1_col6, #T_b3725_row1_col7, #T_b3725_row2_col0, #T_b3725_row2_col1, #T_b3725_row2_col2, #T_b3725_row2_col3, #T_b3725_row2_col4, #T_b3725_row2_col5, #T_b3725_row2_col6, #T_b3725_row2_col7, #T_b3725_row3_col0, #T_b3725_row3_col1, #T_b3725_row3_col2, #T_b3725_row3_col3, #T_b3725_row3_col4, #T_b3725_row3_col5, #T_b3725_row3_col6, #T_b3725_row3_col7, #T_b3725_row4_col0, #T_b3725_row4_col1, #T_b3725_row4_col2, #T_b3725_row4_col3, #T_b3725_row4_col4, #T_b3725_row4_col5, #T_b3725_row4_col6, #T_b3725_row4_col7, #T_b3725_row5_col0, #T_b3725_row5_col1, #T_b3725_row5_col2, #T_b3725_row5_col3, #T_b3725_row5_col4, #T_b3725_row5_col5, #T_b3725_row5_col6, #T_b3725_row5_col7, #T_b3725_row6_col0, #T_b3725_row6_col1, #T_b3725_row6_col2, #T_b3725_row6_col3, #T_b3725_row6_col4, #T_b3725_row6_col5, #T_b3725_row6_col6, #T_b3725_row6_col7, #T_b3725_row7_col0, #T_b3725_row7_col1, #T_b3725_row7_col2, #T_b3725_row7_col3, #T_b3725_row7_col4, #T_b3725_row7_col5, #T_b3725_row7_col6, #T_b3725_row7_col7, #T_b3725_row8_col0, #T_b3725_row8_col1, #T_b3725_row8_col2, #T_b3725_row8_col3, #T_b3725_row8_col4, #T_b3725_row8_col5, #T_b3725_row8_col6, #T_b3725_row8_col7, #T_b3725_row9_col0, #T_b3725_row9_col1, #T_b3725_row9_col2, #T_b3725_row9_col3, #T_b3725_row9_col4, #T_b3725_row9_col5, #T_b3725_row9_col6, #T_b3725_row9_col7, #T_b3725_row10_col0, #T_b3725_row10_col1, #T_b3725_row10_col2, #T_b3725_row10_col3, #T_b3725_row10_col4, #T_b3725_row10_col5, #T_b3725_row10_col6, #T_b3725_row10_col7, #T_b3725_row11_col0, #T_b3725_row11_col1, #T_b3725_row11_col2, #T_b3725_row11_col3, #T_b3725_row11_col4, #T_b3725_row11_col5, #T_b3725_row11_col6, #T_b3725_row11_col7, #T_b3725_row12_col0, #T_b3725_row12_col1, #T_b3725_row12_col2, #T_b3725_row12_col3, #T_b3725_row12_col4, #T_b3725_row12_col5, #T_b3725_row12_col6, #T_b3725_row12_col7, #T_b3725_row13_col0, #T_b3725_row13_col1, #T_b3725_row13_col2, #T_b3725_row13_col3, #T_b3725_row13_col4, #T_b3725_row13_col5, #T_b3725_row13_col6, #T_b3725_row13_col7, #T_b3725_row14_col0, #T_b3725_row14_col1, #T_b3725_row14_col2, #T_b3725_row14_col3, #T_b3725_row14_col4, #T_b3725_row14_col5, #T_b3725_row14_col6, #T_b3725_row14_col7, #T_b3725_row15_col0, #T_b3725_row15_col1, #T_b3725_row15_col2, #T_b3725_row15_col3, #T_b3725_row15_col4, #T_b3725_row15_col5, #T_b3725_row15_col6, #T_b3725_row15_col7, #T_b3725_row16_col0, #T_b3725_row16_col1, #T_b3725_row16_col2, #T_b3725_row16_col3, #T_b3725_row16_col4, #T_b3725_row16_col5, #T_b3725_row16_col6, #T_b3725_row16_col7, #T_b3725_row17_col0, #T_b3725_row17_col1, #T_b3725_row17_col2, #T_b3725_row17_col3, #T_b3725_row17_col4, #T_b3725_row17_col5, #T_b3725_row17_col6, #T_b3725_row17_col7, #T_b3725_row18_col0, #T_b3725_row18_col1, #T_b3725_row18_col2, #T_b3725_row18_col3, #T_b3725_row18_col4, #T_b3725_row18_col5, #T_b3725_row18_col6, #T_b3725_row18_col7, #T_b3725_row19_col0, #T_b3725_row19_col1, #T_b3725_row19_col2, #T_b3725_row19_col3, #T_b3725_row19_col4, #T_b3725_row19_col5, #T_b3725_row19_col6, #T_b3725_row19_col7, #T_b3725_row20_col0, #T_b3725_row20_col1, #T_b3725_row20_col2, #T_b3725_row20_col3, #T_b3725_row20_col4, #T_b3725_row20_col5, #T_b3725_row20_col6, #T_b3725_row20_col7, #T_b3725_row21_col0, #T_b3725_row21_col1, #T_b3725_row21_col2, #T_b3725_row21_col3, #T_b3725_row21_col4, #T_b3725_row21_col5, #T_b3725_row21_col6, #T_b3725_row21_col7, #T_b3725_row22_col0, #T_b3725_row22_col1, #T_b3725_row22_col2, #T_b3725_row22_col3, #T_b3725_row22_col4, #T_b3725_row22_col5, #T_b3725_row22_col6, #T_b3725_row22_col7, #T_b3725_row23_col0, #T_b3725_row23_col1, #T_b3725_row23_col2, #T_b3725_row23_col3, #T_b3725_row23_col4, #T_b3725_row23_col5, #T_b3725_row23_col6, #T_b3725_row23_col7, #T_b3725_row24_col0, #T_b3725_row24_col1, #T_b3725_row24_col2, #T_b3725_row24_col3, #T_b3725_row24_col4, #T_b3725_row24_col5, #T_b3725_row24_col6, #T_b3725_row24_col7, #T_b3725_row25_col0, #T_b3725_row25_col1, #T_b3725_row25_col2, #T_b3725_row25_col3, #T_b3725_row25_col4, #T_b3725_row25_col5, #T_b3725_row25_col6, #T_b3725_row25_col7, #T_b3725_row26_col0, #T_b3725_row26_col1, #T_b3725_row26_col2, #T_b3725_row26_col3, #T_b3725_row26_col4, #T_b3725_row26_col5, #T_b3725_row26_col6, #T_b3725_row26_col7, #T_b3725_row27_col0, #T_b3725_row27_col1, #T_b3725_row27_col2, #T_b3725_row27_col3, #T_b3725_row27_col4, #T_b3725_row27_col5, #T_b3725_row27_col6, #T_b3725_row27_col7 {\n",
       "  text-align: left;\n",
       "}\n",
       "#T_b3725_row0_col1, #T_b3725_row0_col2, #T_b3725_row0_col3, #T_b3725_row0_col4, #T_b3725_row0_col5, #T_b3725_row0_col6, #T_b3725_row0_col7 {\n",
       "  text-align: left;\n",
       "  background-color: yellow;\n",
       "}\n",
       "#T_b3725_row0_col8, #T_b3725_row1_col8, #T_b3725_row2_col8, #T_b3725_row3_col8, #T_b3725_row4_col8, #T_b3725_row5_col8, #T_b3725_row6_col8, #T_b3725_row7_col8, #T_b3725_row8_col8, #T_b3725_row9_col8, #T_b3725_row10_col8, #T_b3725_row11_col8, #T_b3725_row12_col8, #T_b3725_row13_col8, #T_b3725_row14_col8, #T_b3725_row15_col8, #T_b3725_row16_col8, #T_b3725_row17_col8, #T_b3725_row18_col8, #T_b3725_row19_col8, #T_b3725_row20_col8, #T_b3725_row21_col8, #T_b3725_row22_col8, #T_b3725_row23_col8, #T_b3725_row24_col8, #T_b3725_row27_col8 {\n",
       "  text-align: left;\n",
       "  background-color: lightgrey;\n",
       "}\n",
       "#T_b3725_row25_col8, #T_b3725_row26_col8 {\n",
       "  text-align: left;\n",
       "  background-color: yellow;\n",
       "  background-color: lightgrey;\n",
       "}\n",
       "</style>\n",
       "<table id=\"T_b3725\">\n",
       "  <thead>\n",
       "    <tr>\n",
       "      <th class=\"blank level0\" >&nbsp;</th>\n",
       "      <th id=\"T_b3725_level0_col0\" class=\"col_heading level0 col0\" >Model</th>\n",
       "      <th id=\"T_b3725_level0_col1\" class=\"col_heading level0 col1\" >MASE</th>\n",
       "      <th id=\"T_b3725_level0_col2\" class=\"col_heading level0 col2\" >RMSSE</th>\n",
       "      <th id=\"T_b3725_level0_col3\" class=\"col_heading level0 col3\" >MAE</th>\n",
       "      <th id=\"T_b3725_level0_col4\" class=\"col_heading level0 col4\" >RMSE</th>\n",
       "      <th id=\"T_b3725_level0_col5\" class=\"col_heading level0 col5\" >MAPE</th>\n",
       "      <th id=\"T_b3725_level0_col6\" class=\"col_heading level0 col6\" >SMAPE</th>\n",
       "      <th id=\"T_b3725_level0_col7\" class=\"col_heading level0 col7\" >R2</th>\n",
       "      <th id=\"T_b3725_level0_col8\" class=\"col_heading level0 col8\" >TT (Sec)</th>\n",
       "    </tr>\n",
       "  </thead>\n",
       "  <tbody>\n",
       "    <tr>\n",
       "      <th id=\"T_b3725_level0_row0\" class=\"row_heading level0 row0\" >stlf</th>\n",
       "      <td id=\"T_b3725_row0_col0\" class=\"data row0 col0\" >STLF</td>\n",
       "      <td id=\"T_b3725_row0_col1\" class=\"data row0 col1\" >0.4240</td>\n",
       "      <td id=\"T_b3725_row0_col2\" class=\"data row0 col2\" >0.4429</td>\n",
       "      <td id=\"T_b3725_row0_col3\" class=\"data row0 col3\" >12.8002</td>\n",
       "      <td id=\"T_b3725_row0_col4\" class=\"data row0 col4\" >15.1933</td>\n",
       "      <td id=\"T_b3725_row0_col5\" class=\"data row0 col5\" >0.0266</td>\n",
       "      <td id=\"T_b3725_row0_col6\" class=\"data row0 col6\" >0.0268</td>\n",
       "      <td id=\"T_b3725_row0_col7\" class=\"data row0 col7\" >0.4296</td>\n",
       "      <td id=\"T_b3725_row0_col8\" class=\"data row0 col8\" >0.0660</td>\n",
       "    </tr>\n",
       "    <tr>\n",
       "      <th id=\"T_b3725_level0_row1\" class=\"row_heading level0 row1\" >exp_smooth</th>\n",
       "      <td id=\"T_b3725_row1_col0\" class=\"data row1 col0\" >Exponential Smoothing</td>\n",
       "      <td id=\"T_b3725_row1_col1\" class=\"data row1 col1\" >0.5063</td>\n",
       "      <td id=\"T_b3725_row1_col2\" class=\"data row1 col2\" >0.5378</td>\n",
       "      <td id=\"T_b3725_row1_col3\" class=\"data row1 col3\" >15.2893</td>\n",
       "      <td id=\"T_b3725_row1_col4\" class=\"data row1 col4\" >18.4452</td>\n",
       "      <td id=\"T_b3725_row1_col5\" class=\"data row1 col5\" >0.0334</td>\n",
       "      <td id=\"T_b3725_row1_col6\" class=\"data row1 col6\" >0.0335</td>\n",
       "      <td id=\"T_b3725_row1_col7\" class=\"data row1 col7\" >-0.0519</td>\n",
       "      <td id=\"T_b3725_row1_col8\" class=\"data row1 col8\" >0.0740</td>\n",
       "    </tr>\n",
       "    <tr>\n",
       "      <th id=\"T_b3725_level0_row2\" class=\"row_heading level0 row2\" >ets</th>\n",
       "      <td id=\"T_b3725_row2_col0\" class=\"data row2 col0\" >ETS</td>\n",
       "      <td id=\"T_b3725_row2_col1\" class=\"data row2 col1\" >0.5520</td>\n",
       "      <td id=\"T_b3725_row2_col2\" class=\"data row2 col2\" >0.5801</td>\n",
       "      <td id=\"T_b3725_row2_col3\" class=\"data row2 col3\" >16.6159</td>\n",
       "      <td id=\"T_b3725_row2_col4\" class=\"data row2 col4\" >19.8384</td>\n",
       "      <td id=\"T_b3725_row2_col5\" class=\"data row2 col5\" >0.0354</td>\n",
       "      <td id=\"T_b3725_row2_col6\" class=\"data row2 col6\" >0.0357</td>\n",
       "      <td id=\"T_b3725_row2_col7\" class=\"data row2 col7\" >-0.0740</td>\n",
       "      <td id=\"T_b3725_row2_col8\" class=\"data row2 col8\" >0.1580</td>\n",
       "    </tr>\n",
       "    <tr>\n",
       "      <th id=\"T_b3725_level0_row3\" class=\"row_heading level0 row3\" >arima</th>\n",
       "      <td id=\"T_b3725_row3_col0\" class=\"data row3 col0\" >ARIMA</td>\n",
       "      <td id=\"T_b3725_row3_col1\" class=\"data row3 col1\" >0.6480</td>\n",
       "      <td id=\"T_b3725_row3_col2\" class=\"data row3 col2\" >0.6501</td>\n",
       "      <td id=\"T_b3725_row3_col3\" class=\"data row3 col3\" >19.5728</td>\n",
       "      <td id=\"T_b3725_row3_col4\" class=\"data row3 col4\" >22.3027</td>\n",
       "      <td id=\"T_b3725_row3_col5\" class=\"data row3 col5\" >0.0412</td>\n",
       "      <td id=\"T_b3725_row3_col6\" class=\"data row3 col6\" >0.0420</td>\n",
       "      <td id=\"T_b3725_row3_col7\" class=\"data row3 col7\" >-0.0796</td>\n",
       "      <td id=\"T_b3725_row3_col8\" class=\"data row3 col8\" >0.1160</td>\n",
       "    </tr>\n",
       "    <tr>\n",
       "      <th id=\"T_b3725_level0_row4\" class=\"row_heading level0 row4\" >auto_arima</th>\n",
       "      <td id=\"T_b3725_row4_col0\" class=\"data row4 col0\" >Auto ARIMA</td>\n",
       "      <td id=\"T_b3725_row4_col1\" class=\"data row4 col1\" >0.6525</td>\n",
       "      <td id=\"T_b3725_row4_col2\" class=\"data row4 col2\" >0.6298</td>\n",
       "      <td id=\"T_b3725_row4_col3\" class=\"data row4 col3\" >19.7365</td>\n",
       "      <td id=\"T_b3725_row4_col4\" class=\"data row4 col4\" >21.6149</td>\n",
       "      <td id=\"T_b3725_row4_col5\" class=\"data row4 col5\" >0.0414</td>\n",
       "      <td id=\"T_b3725_row4_col6\" class=\"data row4 col6\" >0.0420</td>\n",
       "      <td id=\"T_b3725_row4_col7\" class=\"data row4 col7\" >-0.0557</td>\n",
       "      <td id=\"T_b3725_row4_col8\" class=\"data row4 col8\" >19.9180</td>\n",
       "    </tr>\n",
       "    <tr>\n",
       "      <th id=\"T_b3725_level0_row5\" class=\"row_heading level0 row5\" >theta</th>\n",
       "      <td id=\"T_b3725_row5_col0\" class=\"data row5 col0\" >Theta Forecaster</td>\n",
       "      <td id=\"T_b3725_row5_col1\" class=\"data row5 col1\" >0.8458</td>\n",
       "      <td id=\"T_b3725_row5_col2\" class=\"data row5 col2\" >0.8223</td>\n",
       "      <td id=\"T_b3725_row5_col3\" class=\"data row5 col3\" >25.7024</td>\n",
       "      <td id=\"T_b3725_row5_col4\" class=\"data row5 col4\" >28.3332</td>\n",
       "      <td id=\"T_b3725_row5_col5\" class=\"data row5 col5\" >0.0524</td>\n",
       "      <td id=\"T_b3725_row5_col6\" class=\"data row5 col6\" >0.0541</td>\n",
       "      <td id=\"T_b3725_row5_col7\" class=\"data row5 col7\" >-0.7710</td>\n",
       "      <td id=\"T_b3725_row5_col8\" class=\"data row5 col8\" >0.0460</td>\n",
       "    </tr>\n",
       "    <tr>\n",
       "      <th id=\"T_b3725_level0_row6\" class=\"row_heading level0 row6\" >huber_cds_dt</th>\n",
       "      <td id=\"T_b3725_row6_col0\" class=\"data row6 col0\" >Huber w/ Cond. Deseasonalize & Detrending</td>\n",
       "      <td id=\"T_b3725_row6_col1\" class=\"data row6 col1\" >0.9002</td>\n",
       "      <td id=\"T_b3725_row6_col2\" class=\"data row6 col2\" >0.8900</td>\n",
       "      <td id=\"T_b3725_row6_col3\" class=\"data row6 col3\" >27.2568</td>\n",
       "      <td id=\"T_b3725_row6_col4\" class=\"data row6 col4\" >30.5782</td>\n",
       "      <td id=\"T_b3725_row6_col5\" class=\"data row6 col5\" >0.0550</td>\n",
       "      <td id=\"T_b3725_row6_col6\" class=\"data row6 col6\" >0.0572</td>\n",
       "      <td id=\"T_b3725_row6_col7\" class=\"data row6 col7\" >-0.0309</td>\n",
       "      <td id=\"T_b3725_row6_col8\" class=\"data row6 col8\" >0.1360</td>\n",
       "    </tr>\n",
       "    <tr>\n",
       "      <th id=\"T_b3725_level0_row7\" class=\"row_heading level0 row7\" >knn_cds_dt</th>\n",
       "      <td id=\"T_b3725_row7_col0\" class=\"data row7 col0\" >K Neighbors w/ Cond. Deseasonalize & Detrending</td>\n",
       "      <td id=\"T_b3725_row7_col1\" class=\"data row7 col1\" >0.9381</td>\n",
       "      <td id=\"T_b3725_row7_col2\" class=\"data row7 col2\" >0.8830</td>\n",
       "      <td id=\"T_b3725_row7_col3\" class=\"data row7 col3\" >28.5678</td>\n",
       "      <td id=\"T_b3725_row7_col4\" class=\"data row7 col4\" >30.5007</td>\n",
       "      <td id=\"T_b3725_row7_col5\" class=\"data row7 col5\" >0.0555</td>\n",
       "      <td id=\"T_b3725_row7_col6\" class=\"data row7 col6\" >0.0575</td>\n",
       "      <td id=\"T_b3725_row7_col7\" class=\"data row7 col7\" >0.0908</td>\n",
       "      <td id=\"T_b3725_row7_col8\" class=\"data row7 col8\" >0.1420</td>\n",
       "    </tr>\n",
       "    <tr>\n",
       "      <th id=\"T_b3725_level0_row8\" class=\"row_heading level0 row8\" >lr_cds_dt</th>\n",
       "      <td id=\"T_b3725_row8_col0\" class=\"data row8 col0\" >Linear w/ Cond. Deseasonalize & Detrending</td>\n",
       "      <td id=\"T_b3725_row8_col1\" class=\"data row8 col1\" >0.9469</td>\n",
       "      <td id=\"T_b3725_row8_col2\" class=\"data row8 col2\" >0.9297</td>\n",
       "      <td id=\"T_b3725_row8_col3\" class=\"data row8 col3\" >28.6337</td>\n",
       "      <td id=\"T_b3725_row8_col4\" class=\"data row8 col4\" >31.9163</td>\n",
       "      <td id=\"T_b3725_row8_col5\" class=\"data row8 col5\" >0.0581</td>\n",
       "      <td id=\"T_b3725_row8_col6\" class=\"data row8 col6\" >0.0605</td>\n",
       "      <td id=\"T_b3725_row8_col7\" class=\"data row8 col7\" >-0.1620</td>\n",
       "      <td id=\"T_b3725_row8_col8\" class=\"data row8 col8\" >2.7500</td>\n",
       "    </tr>\n",
       "    <tr>\n",
       "      <th id=\"T_b3725_level0_row9\" class=\"row_heading level0 row9\" >ridge_cds_dt</th>\n",
       "      <td id=\"T_b3725_row9_col0\" class=\"data row9 col0\" >Ridge w/ Cond. Deseasonalize & Detrending</td>\n",
       "      <td id=\"T_b3725_row9_col1\" class=\"data row9 col1\" >0.9469</td>\n",
       "      <td id=\"T_b3725_row9_col2\" class=\"data row9 col2\" >0.9297</td>\n",
       "      <td id=\"T_b3725_row9_col3\" class=\"data row9 col3\" >28.6340</td>\n",
       "      <td id=\"T_b3725_row9_col4\" class=\"data row9 col4\" >31.9164</td>\n",
       "      <td id=\"T_b3725_row9_col5\" class=\"data row9 col5\" >0.0581</td>\n",
       "      <td id=\"T_b3725_row9_col6\" class=\"data row9 col6\" >0.0605</td>\n",
       "      <td id=\"T_b3725_row9_col7\" class=\"data row9 col7\" >-0.1620</td>\n",
       "      <td id=\"T_b3725_row9_col8\" class=\"data row9 col8\" >0.1000</td>\n",
       "    </tr>\n",
       "    <tr>\n",
       "      <th id=\"T_b3725_level0_row10\" class=\"row_heading level0 row10\" >en_cds_dt</th>\n",
       "      <td id=\"T_b3725_row10_col0\" class=\"data row10 col0\" >Elastic Net w/ Cond. Deseasonalize & Detrending</td>\n",
       "      <td id=\"T_b3725_row10_col1\" class=\"data row10 col1\" >0.9499</td>\n",
       "      <td id=\"T_b3725_row10_col2\" class=\"data row10 col2\" >0.9320</td>\n",
       "      <td id=\"T_b3725_row10_col3\" class=\"data row10 col3\" >28.7271</td>\n",
       "      <td id=\"T_b3725_row10_col4\" class=\"data row10 col4\" >31.9952</td>\n",
       "      <td id=\"T_b3725_row10_col5\" class=\"data row10 col5\" >0.0582</td>\n",
       "      <td id=\"T_b3725_row10_col6\" class=\"data row10 col6\" >0.0606</td>\n",
       "      <td id=\"T_b3725_row10_col7\" class=\"data row10 col7\" >-0.1579</td>\n",
       "      <td id=\"T_b3725_row10_col8\" class=\"data row10 col8\" >0.4820</td>\n",
       "    </tr>\n",
       "    <tr>\n",
       "      <th id=\"T_b3725_level0_row11\" class=\"row_heading level0 row11\" >llar_cds_dt</th>\n",
       "      <td id=\"T_b3725_row11_col0\" class=\"data row11 col0\" >Lasso Least Angular Regressor w/ Cond. Deseasonalize & Detrending</td>\n",
       "      <td id=\"T_b3725_row11_col1\" class=\"data row11 col1\" >0.9520</td>\n",
       "      <td id=\"T_b3725_row11_col2\" class=\"data row11 col2\" >0.9336</td>\n",
       "      <td id=\"T_b3725_row11_col3\" class=\"data row11 col3\" >28.7917</td>\n",
       "      <td id=\"T_b3725_row11_col4\" class=\"data row11 col4\" >32.0528</td>\n",
       "      <td id=\"T_b3725_row11_col5\" class=\"data row11 col5\" >0.0583</td>\n",
       "      <td id=\"T_b3725_row11_col6\" class=\"data row11 col6\" >0.0607</td>\n",
       "      <td id=\"T_b3725_row11_col7\" class=\"data row11 col7\" >-0.1559</td>\n",
       "      <td id=\"T_b3725_row11_col8\" class=\"data row11 col8\" >0.1200</td>\n",
       "    </tr>\n",
       "    <tr>\n",
       "      <th id=\"T_b3725_level0_row12\" class=\"row_heading level0 row12\" >lasso_cds_dt</th>\n",
       "      <td id=\"T_b3725_row12_col0\" class=\"data row12 col0\" >Lasso w/ Cond. Deseasonalize & Detrending</td>\n",
       "      <td id=\"T_b3725_row12_col1\" class=\"data row12 col1\" >0.9521</td>\n",
       "      <td id=\"T_b3725_row12_col2\" class=\"data row12 col2\" >0.9337</td>\n",
       "      <td id=\"T_b3725_row12_col3\" class=\"data row12 col3\" >28.7941</td>\n",
       "      <td id=\"T_b3725_row12_col4\" class=\"data row12 col4\" >32.0557</td>\n",
       "      <td id=\"T_b3725_row12_col5\" class=\"data row12 col5\" >0.0583</td>\n",
       "      <td id=\"T_b3725_row12_col6\" class=\"data row12 col6\" >0.0607</td>\n",
       "      <td id=\"T_b3725_row12_col7\" class=\"data row12 col7\" >-0.1560</td>\n",
       "      <td id=\"T_b3725_row12_col8\" class=\"data row12 col8\" >0.1120</td>\n",
       "    </tr>\n",
       "    <tr>\n",
       "      <th id=\"T_b3725_level0_row13\" class=\"row_heading level0 row13\" >br_cds_dt</th>\n",
       "      <td id=\"T_b3725_row13_col0\" class=\"data row13 col0\" >Bayesian Ridge w/ Cond. Deseasonalize & Detrending</td>\n",
       "      <td id=\"T_b3725_row13_col1\" class=\"data row13 col1\" >0.9551</td>\n",
       "      <td id=\"T_b3725_row13_col2\" class=\"data row13 col2\" >0.9347</td>\n",
       "      <td id=\"T_b3725_row13_col3\" class=\"data row13 col3\" >28.9018</td>\n",
       "      <td id=\"T_b3725_row13_col4\" class=\"data row13 col4\" >32.1013</td>\n",
       "      <td id=\"T_b3725_row13_col5\" class=\"data row13 col5\" >0.0582</td>\n",
       "      <td id=\"T_b3725_row13_col6\" class=\"data row13 col6\" >0.0606</td>\n",
       "      <td id=\"T_b3725_row13_col7\" class=\"data row13 col7\" >-0.1377</td>\n",
       "      <td id=\"T_b3725_row13_col8\" class=\"data row13 col8\" >0.1200</td>\n",
       "    </tr>\n",
       "    <tr>\n",
       "      <th id=\"T_b3725_level0_row14\" class=\"row_heading level0 row14\" >et_cds_dt</th>\n",
       "      <td id=\"T_b3725_row14_col0\" class=\"data row14 col0\" >Extra Trees w/ Cond. Deseasonalize & Detrending</td>\n",
       "      <td id=\"T_b3725_row14_col1\" class=\"data row14 col1\" >1.0200</td>\n",
       "      <td id=\"T_b3725_row14_col2\" class=\"data row14 col2\" >0.9744</td>\n",
       "      <td id=\"T_b3725_row14_col3\" class=\"data row14 col3\" >31.0374</td>\n",
       "      <td id=\"T_b3725_row14_col4\" class=\"data row14 col4\" >33.6229</td>\n",
       "      <td id=\"T_b3725_row14_col5\" class=\"data row14 col5\" >0.0602</td>\n",
       "      <td id=\"T_b3725_row14_col6\" class=\"data row14 col6\" >0.0628</td>\n",
       "      <td id=\"T_b3725_row14_col7\" class=\"data row14 col7\" >-0.1173</td>\n",
       "      <td id=\"T_b3725_row14_col8\" class=\"data row14 col8\" >0.2300</td>\n",
       "    </tr>\n",
       "    <tr>\n",
       "      <th id=\"T_b3725_level0_row15\" class=\"row_heading level0 row15\" >rf_cds_dt</th>\n",
       "      <td id=\"T_b3725_row15_col0\" class=\"data row15 col0\" >Random Forest w/ Cond. Deseasonalize & Detrending</td>\n",
       "      <td id=\"T_b3725_row15_col1\" class=\"data row15 col1\" >1.0582</td>\n",
       "      <td id=\"T_b3725_row15_col2\" class=\"data row15 col2\" >1.0114</td>\n",
       "      <td id=\"T_b3725_row15_col3\" class=\"data row15 col3\" >32.2072</td>\n",
       "      <td id=\"T_b3725_row15_col4\" class=\"data row15 col4\" >34.9195</td>\n",
       "      <td id=\"T_b3725_row15_col5\" class=\"data row15 col5\" >0.0628</td>\n",
       "      <td id=\"T_b3725_row15_col6\" class=\"data row15 col6\" >0.0655</td>\n",
       "      <td id=\"T_b3725_row15_col7\" class=\"data row15 col7\" >-0.3960</td>\n",
       "      <td id=\"T_b3725_row15_col8\" class=\"data row15 col8\" >0.2400</td>\n",
       "    </tr>\n",
       "    <tr>\n",
       "      <th id=\"T_b3725_level0_row16\" class=\"row_heading level0 row16\" >dt_cds_dt</th>\n",
       "      <td id=\"T_b3725_row16_col0\" class=\"data row16 col0\" >Decision Tree w/ Cond. Deseasonalize & Detrending</td>\n",
       "      <td id=\"T_b3725_row16_col1\" class=\"data row16 col1\" >1.0916</td>\n",
       "      <td id=\"T_b3725_row16_col2\" class=\"data row16 col2\" >1.0463</td>\n",
       "      <td id=\"T_b3725_row16_col3\" class=\"data row16 col3\" >33.1479</td>\n",
       "      <td id=\"T_b3725_row16_col4\" class=\"data row16 col4\" >36.0389</td>\n",
       "      <td id=\"T_b3725_row16_col5\" class=\"data row16 col5\" >0.0664</td>\n",
       "      <td id=\"T_b3725_row16_col6\" class=\"data row16 col6\" >0.0694</td>\n",
       "      <td id=\"T_b3725_row16_col7\" class=\"data row16 col7\" >-0.4206</td>\n",
       "      <td id=\"T_b3725_row16_col8\" class=\"data row16 col8\" >0.0960</td>\n",
       "    </tr>\n",
       "    <tr>\n",
       "      <th id=\"T_b3725_level0_row17\" class=\"row_heading level0 row17\" >xgboost_cds_dt</th>\n",
       "      <td id=\"T_b3725_row17_col0\" class=\"data row17 col0\" >Extreme Gradient Boosting w/ Cond. Deseasonalize & Detrending</td>\n",
       "      <td id=\"T_b3725_row17_col1\" class=\"data row17 col1\" >1.1029</td>\n",
       "      <td id=\"T_b3725_row17_col2\" class=\"data row17 col2\" >1.0444</td>\n",
       "      <td id=\"T_b3725_row17_col3\" class=\"data row17 col3\" >33.5079</td>\n",
       "      <td id=\"T_b3725_row17_col4\" class=\"data row17 col4\" >35.9923</td>\n",
       "      <td id=\"T_b3725_row17_col5\" class=\"data row17 col5\" >0.0664</td>\n",
       "      <td id=\"T_b3725_row17_col6\" class=\"data row17 col6\" >0.0692</td>\n",
       "      <td id=\"T_b3725_row17_col7\" class=\"data row17 col7\" >-0.3741</td>\n",
       "      <td id=\"T_b3725_row17_col8\" class=\"data row17 col8\" >0.2760</td>\n",
       "    </tr>\n",
       "    <tr>\n",
       "      <th id=\"T_b3725_level0_row18\" class=\"row_heading level0 row18\" >ada_cds_dt</th>\n",
       "      <td id=\"T_b3725_row18_col0\" class=\"data row18 col0\" >AdaBoost w/ Cond. Deseasonalize & Detrending</td>\n",
       "      <td id=\"T_b3725_row18_col1\" class=\"data row18 col1\" >1.1304</td>\n",
       "      <td id=\"T_b3725_row18_col2\" class=\"data row18 col2\" >1.0753</td>\n",
       "      <td id=\"T_b3725_row18_col3\" class=\"data row18 col3\" >34.3660</td>\n",
       "      <td id=\"T_b3725_row18_col4\" class=\"data row18 col4\" >37.0925</td>\n",
       "      <td id=\"T_b3725_row18_col5\" class=\"data row18 col5\" >0.0658</td>\n",
       "      <td id=\"T_b3725_row18_col6\" class=\"data row18 col6\" >0.0689</td>\n",
       "      <td id=\"T_b3725_row18_col7\" class=\"data row18 col7\" >-0.3161</td>\n",
       "      <td id=\"T_b3725_row18_col8\" class=\"data row18 col8\" >0.1680</td>\n",
       "    </tr>\n",
       "    <tr>\n",
       "      <th id=\"T_b3725_level0_row19\" class=\"row_heading level0 row19\" >lightgbm_cds_dt</th>\n",
       "      <td id=\"T_b3725_row19_col0\" class=\"data row19 col0\" >Light Gradient Boosting w/ Cond. Deseasonalize & Detrending</td>\n",
       "      <td id=\"T_b3725_row19_col1\" class=\"data row19 col1\" >1.1409</td>\n",
       "      <td id=\"T_b3725_row19_col2\" class=\"data row19 col2\" >1.1040</td>\n",
       "      <td id=\"T_b3725_row19_col3\" class=\"data row19 col3\" >34.5999</td>\n",
       "      <td id=\"T_b3725_row19_col4\" class=\"data row19 col4\" >37.9918</td>\n",
       "      <td id=\"T_b3725_row19_col5\" class=\"data row19 col5\" >0.0670</td>\n",
       "      <td id=\"T_b3725_row19_col6\" class=\"data row19 col6\" >0.0701</td>\n",
       "      <td id=\"T_b3725_row19_col7\" class=\"data row19 col7\" >-0.3994</td>\n",
       "      <td id=\"T_b3725_row19_col8\" class=\"data row19 col8\" >0.8480</td>\n",
       "    </tr>\n",
       "    <tr>\n",
       "      <th id=\"T_b3725_level0_row20\" class=\"row_heading level0 row20\" >catboost_cds_dt</th>\n",
       "      <td id=\"T_b3725_row20_col0\" class=\"data row20 col0\" >CatBoost Regressor w/ Cond. Deseasonalize & Detrending</td>\n",
       "      <td id=\"T_b3725_row20_col1\" class=\"data row20 col1\" >1.1492</td>\n",
       "      <td id=\"T_b3725_row20_col2\" class=\"data row20 col2\" >1.0948</td>\n",
       "      <td id=\"T_b3725_row20_col3\" class=\"data row20 col3\" >34.8893</td>\n",
       "      <td id=\"T_b3725_row20_col4\" class=\"data row20 col4\" >37.6965</td>\n",
       "      <td id=\"T_b3725_row20_col5\" class=\"data row20 col5\" >0.0674</td>\n",
       "      <td id=\"T_b3725_row20_col6\" class=\"data row20 col6\" >0.0706</td>\n",
       "      <td id=\"T_b3725_row20_col7\" class=\"data row20 col7\" >-0.3946</td>\n",
       "      <td id=\"T_b3725_row20_col8\" class=\"data row20 col8\" >1.9520</td>\n",
       "    </tr>\n",
       "    <tr>\n",
       "      <th id=\"T_b3725_level0_row21\" class=\"row_heading level0 row21\" >omp_cds_dt</th>\n",
       "      <td id=\"T_b3725_row21_col0\" class=\"data row21 col0\" >Orthogonal Matching Pursuit w/ Cond. Deseasonalize & Detrending</td>\n",
       "      <td id=\"T_b3725_row21_col1\" class=\"data row21 col1\" >1.1793</td>\n",
       "      <td id=\"T_b3725_row21_col2\" class=\"data row21 col2\" >1.1250</td>\n",
       "      <td id=\"T_b3725_row21_col3\" class=\"data row21 col3\" >35.7348</td>\n",
       "      <td id=\"T_b3725_row21_col4\" class=\"data row21 col4\" >38.6755</td>\n",
       "      <td id=\"T_b3725_row21_col5\" class=\"data row21 col5\" >0.0706</td>\n",
       "      <td id=\"T_b3725_row21_col6\" class=\"data row21 col6\" >0.0732</td>\n",
       "      <td id=\"T_b3725_row21_col7\" class=\"data row21 col7\" >-0.5095</td>\n",
       "      <td id=\"T_b3725_row21_col8\" class=\"data row21 col8\" >0.1140</td>\n",
       "    </tr>\n",
       "    <tr>\n",
       "      <th id=\"T_b3725_level0_row22\" class=\"row_heading level0 row22\" >gbr_cds_dt</th>\n",
       "      <td id=\"T_b3725_row22_col0\" class=\"data row22 col0\" >Gradient Boosting w/ Cond. Deseasonalize & Detrending</td>\n",
       "      <td id=\"T_b3725_row22_col1\" class=\"data row22 col1\" >1.2030</td>\n",
       "      <td id=\"T_b3725_row22_col2\" class=\"data row22 col2\" >1.1400</td>\n",
       "      <td id=\"T_b3725_row22_col3\" class=\"data row22 col3\" >36.4501</td>\n",
       "      <td id=\"T_b3725_row22_col4\" class=\"data row22 col4\" >39.1850</td>\n",
       "      <td id=\"T_b3725_row22_col5\" class=\"data row22 col5\" >0.0721</td>\n",
       "      <td id=\"T_b3725_row22_col6\" class=\"data row22 col6\" >0.0755</td>\n",
       "      <td id=\"T_b3725_row22_col7\" class=\"data row22 col7\" >-0.5832</td>\n",
       "      <td id=\"T_b3725_row22_col8\" class=\"data row22 col8\" >0.1800</td>\n",
       "    </tr>\n",
       "    <tr>\n",
       "      <th id=\"T_b3725_level0_row23\" class=\"row_heading level0 row23\" >snaive</th>\n",
       "      <td id=\"T_b3725_row23_col0\" class=\"data row23 col0\" >Seasonal Naive Forecaster</td>\n",
       "      <td id=\"T_b3725_row23_col1\" class=\"data row23 col1\" >1.7700</td>\n",
       "      <td id=\"T_b3725_row23_col2\" class=\"data row23 col2\" >1.5999</td>\n",
       "      <td id=\"T_b3725_row23_col3\" class=\"data row23 col3\" >53.5333</td>\n",
       "      <td id=\"T_b3725_row23_col4\" class=\"data row23 col4\" >54.9143</td>\n",
       "      <td id=\"T_b3725_row23_col5\" class=\"data row23 col5\" >0.1136</td>\n",
       "      <td id=\"T_b3725_row23_col6\" class=\"data row23 col6\" >0.1211</td>\n",
       "      <td id=\"T_b3725_row23_col7\" class=\"data row23 col7\" >-4.1630</td>\n",
       "      <td id=\"T_b3725_row23_col8\" class=\"data row23 col8\" >0.0600</td>\n",
       "    </tr>\n",
       "    <tr>\n",
       "      <th id=\"T_b3725_level0_row24\" class=\"row_heading level0 row24\" >naive</th>\n",
       "      <td id=\"T_b3725_row24_col0\" class=\"data row24 col0\" >Naive Forecaster</td>\n",
       "      <td id=\"T_b3725_row24_col1\" class=\"data row24 col1\" >1.8145</td>\n",
       "      <td id=\"T_b3725_row24_col2\" class=\"data row24 col2\" >1.7444</td>\n",
       "      <td id=\"T_b3725_row24_col3\" class=\"data row24 col3\" >54.8667</td>\n",
       "      <td id=\"T_b3725_row24_col4\" class=\"data row24 col4\" >59.8160</td>\n",
       "      <td id=\"T_b3725_row24_col5\" class=\"data row24 col5\" >0.1135</td>\n",
       "      <td id=\"T_b3725_row24_col6\" class=\"data row24 col6\" >0.1151</td>\n",
       "      <td id=\"T_b3725_row24_col7\" class=\"data row24 col7\" >-3.7710</td>\n",
       "      <td id=\"T_b3725_row24_col8\" class=\"data row24 col8\" >14.4880</td>\n",
       "    </tr>\n",
       "    <tr>\n",
       "      <th id=\"T_b3725_level0_row25\" class=\"row_heading level0 row25\" >polytrend</th>\n",
       "      <td id=\"T_b3725_row25_col0\" class=\"data row25 col0\" >Polynomial Trend Forecaster</td>\n",
       "      <td id=\"T_b3725_row25_col1\" class=\"data row25 col1\" >2.3154</td>\n",
       "      <td id=\"T_b3725_row25_col2\" class=\"data row25 col2\" >2.2507</td>\n",
       "      <td id=\"T_b3725_row25_col3\" class=\"data row25 col3\" >70.1138</td>\n",
       "      <td id=\"T_b3725_row25_col4\" class=\"data row25 col4\" >77.3400</td>\n",
       "      <td id=\"T_b3725_row25_col5\" class=\"data row25 col5\" >0.1363</td>\n",
       "      <td id=\"T_b3725_row25_col6\" class=\"data row25 col6\" >0.1468</td>\n",
       "      <td id=\"T_b3725_row25_col7\" class=\"data row25 col7\" >-4.6202</td>\n",
       "      <td id=\"T_b3725_row25_col8\" class=\"data row25 col8\" >0.0260</td>\n",
       "    </tr>\n",
       "    <tr>\n",
       "      <th id=\"T_b3725_level0_row26\" class=\"row_heading level0 row26\" >croston</th>\n",
       "      <td id=\"T_b3725_row26_col0\" class=\"data row26 col0\" >Croston</td>\n",
       "      <td id=\"T_b3725_row26_col1\" class=\"data row26 col1\" >2.6211</td>\n",
       "      <td id=\"T_b3725_row26_col2\" class=\"data row26 col2\" >2.4985</td>\n",
       "      <td id=\"T_b3725_row26_col3\" class=\"data row26 col3\" >79.3645</td>\n",
       "      <td id=\"T_b3725_row26_col4\" class=\"data row26 col4\" >85.8439</td>\n",
       "      <td id=\"T_b3725_row26_col5\" class=\"data row26 col5\" >0.1515</td>\n",
       "      <td id=\"T_b3725_row26_col6\" class=\"data row26 col6\" >0.1684</td>\n",
       "      <td id=\"T_b3725_row26_col7\" class=\"data row26 col7\" >-5.2294</td>\n",
       "      <td id=\"T_b3725_row26_col8\" class=\"data row26 col8\" >0.0260</td>\n",
       "    </tr>\n",
       "    <tr>\n",
       "      <th id=\"T_b3725_level0_row27\" class=\"row_heading level0 row27\" >grand_means</th>\n",
       "      <td id=\"T_b3725_row27_col0\" class=\"data row27 col0\" >Grand Means Forecaster</td>\n",
       "      <td id=\"T_b3725_row27_col1\" class=\"data row27 col1\" >7.1261</td>\n",
       "      <td id=\"T_b3725_row27_col2\" class=\"data row27 col2\" >6.3506</td>\n",
       "      <td id=\"T_b3725_row27_col3\" class=\"data row27 col3\" >216.0214</td>\n",
       "      <td id=\"T_b3725_row27_col4\" class=\"data row27 col4\" >218.4259</td>\n",
       "      <td id=\"T_b3725_row27_col5\" class=\"data row27 col5\" >0.4377</td>\n",
       "      <td id=\"T_b3725_row27_col6\" class=\"data row27 col6\" >0.5682</td>\n",
       "      <td id=\"T_b3725_row27_col7\" class=\"data row27 col7\" >-59.2684</td>\n",
       "      <td id=\"T_b3725_row27_col8\" class=\"data row27 col8\" >3.7960</td>\n",
       "    </tr>\n",
       "  </tbody>\n",
       "</table>\n"
      ],
      "text/plain": [
       "<pandas.io.formats.style.Styler at 0x276b19e23e0>"
      ]
     },
     "metadata": {},
     "output_type": "display_data"
    },
    {
     "data": {
      "text/html": [],
      "text/plain": [
       "<IPython.core.display.HTML object>"
      ]
     },
     "metadata": {},
     "output_type": "display_data"
    }
   ],
   "source": [
    "# functional API\n",
    "best = compare_models()"
   ]
  },
  {
   "cell_type": "markdown",
   "metadata": {},
   "source": [
    "## Analyze Model"
   ]
  },
  {
   "cell_type": "code",
   "execution_count": 4,
   "metadata": {},
   "outputs": [
    {
     "data": {
      "application/vnd.plotly.v1+json": {
       "config": {
        "plotlyServerURL": "https://plot.ly"
       },
       "data": [
        {
         "line": {
          "color": "rgb(31, 119, 180)",
          "width": 2
         },
         "marker": {
          "color": "rgb(31, 119, 180)",
          "size": 5
         },
         "mode": "lines+markers",
         "name": "Number of airline passengers",
         "type": "scattergl",
         "x": [
          "1949-01-01T00:00:00",
          "1949-02-01T00:00:00",
          "1949-03-01T00:00:00",
          "1949-04-01T00:00:00",
          "1949-05-01T00:00:00",
          "1949-06-01T00:00:00",
          "1949-07-01T00:00:00",
          "1949-08-01T00:00:00",
          "1949-09-01T00:00:00",
          "1949-10-01T00:00:00",
          "1949-11-01T00:00:00",
          "1949-12-01T00:00:00",
          "1950-01-01T00:00:00",
          "1950-02-01T00:00:00",
          "1950-03-01T00:00:00",
          "1950-04-01T00:00:00",
          "1950-05-01T00:00:00",
          "1950-06-01T00:00:00",
          "1950-07-01T00:00:00",
          "1950-08-01T00:00:00",
          "1950-09-01T00:00:00",
          "1950-10-01T00:00:00",
          "1950-11-01T00:00:00",
          "1950-12-01T00:00:00",
          "1951-01-01T00:00:00",
          "1951-02-01T00:00:00",
          "1951-03-01T00:00:00",
          "1951-04-01T00:00:00",
          "1951-05-01T00:00:00",
          "1951-06-01T00:00:00",
          "1951-07-01T00:00:00",
          "1951-08-01T00:00:00",
          "1951-09-01T00:00:00",
          "1951-10-01T00:00:00",
          "1951-11-01T00:00:00",
          "1951-12-01T00:00:00",
          "1952-01-01T00:00:00",
          "1952-02-01T00:00:00",
          "1952-03-01T00:00:00",
          "1952-04-01T00:00:00",
          "1952-05-01T00:00:00",
          "1952-06-01T00:00:00",
          "1952-07-01T00:00:00",
          "1952-08-01T00:00:00",
          "1952-09-01T00:00:00",
          "1952-10-01T00:00:00",
          "1952-11-01T00:00:00",
          "1952-12-01T00:00:00",
          "1953-01-01T00:00:00",
          "1953-02-01T00:00:00",
          "1953-03-01T00:00:00",
          "1953-04-01T00:00:00",
          "1953-05-01T00:00:00",
          "1953-06-01T00:00:00",
          "1953-07-01T00:00:00",
          "1953-08-01T00:00:00",
          "1953-09-01T00:00:00",
          "1953-10-01T00:00:00",
          "1953-11-01T00:00:00",
          "1953-12-01T00:00:00",
          "1954-01-01T00:00:00",
          "1954-02-01T00:00:00",
          "1954-03-01T00:00:00",
          "1954-04-01T00:00:00",
          "1954-05-01T00:00:00",
          "1954-06-01T00:00:00",
          "1954-07-01T00:00:00",
          "1954-08-01T00:00:00",
          "1954-09-01T00:00:00",
          "1954-10-01T00:00:00",
          "1954-11-01T00:00:00",
          "1954-12-01T00:00:00",
          "1955-01-01T00:00:00",
          "1955-02-01T00:00:00",
          "1955-03-01T00:00:00",
          "1955-04-01T00:00:00",
          "1955-05-01T00:00:00",
          "1955-06-01T00:00:00",
          "1955-07-01T00:00:00",
          "1955-08-01T00:00:00",
          "1955-09-01T00:00:00",
          "1955-10-01T00:00:00",
          "1955-11-01T00:00:00",
          "1955-12-01T00:00:00",
          "1956-01-01T00:00:00",
          "1956-02-01T00:00:00",
          "1956-03-01T00:00:00",
          "1956-04-01T00:00:00",
          "1956-05-01T00:00:00",
          "1956-06-01T00:00:00",
          "1956-07-01T00:00:00",
          "1956-08-01T00:00:00",
          "1956-09-01T00:00:00",
          "1956-10-01T00:00:00",
          "1956-11-01T00:00:00",
          "1956-12-01T00:00:00",
          "1957-01-01T00:00:00",
          "1957-02-01T00:00:00",
          "1957-03-01T00:00:00",
          "1957-04-01T00:00:00",
          "1957-05-01T00:00:00",
          "1957-06-01T00:00:00",
          "1957-07-01T00:00:00",
          "1957-08-01T00:00:00",
          "1957-09-01T00:00:00",
          "1957-10-01T00:00:00",
          "1957-11-01T00:00:00",
          "1957-12-01T00:00:00",
          "1958-01-01T00:00:00",
          "1958-02-01T00:00:00",
          "1958-03-01T00:00:00",
          "1958-04-01T00:00:00",
          "1958-05-01T00:00:00",
          "1958-06-01T00:00:00",
          "1958-07-01T00:00:00",
          "1958-08-01T00:00:00",
          "1958-09-01T00:00:00",
          "1958-10-01T00:00:00",
          "1958-11-01T00:00:00",
          "1958-12-01T00:00:00",
          "1959-01-01T00:00:00",
          "1959-02-01T00:00:00",
          "1959-03-01T00:00:00",
          "1959-04-01T00:00:00",
          "1959-05-01T00:00:00",
          "1959-06-01T00:00:00",
          "1959-07-01T00:00:00",
          "1959-08-01T00:00:00",
          "1959-09-01T00:00:00",
          "1959-10-01T00:00:00",
          "1959-11-01T00:00:00",
          "1959-12-01T00:00:00",
          "1960-01-01T00:00:00",
          "1960-02-01T00:00:00",
          "1960-03-01T00:00:00",
          "1960-04-01T00:00:00",
          "1960-05-01T00:00:00",
          "1960-06-01T00:00:00",
          "1960-07-01T00:00:00",
          "1960-08-01T00:00:00",
          "1960-09-01T00:00:00",
          "1960-10-01T00:00:00",
          "1960-11-01T00:00:00",
          "1960-12-01T00:00:00",
          "1961-01-01T00:00:00",
          "1961-02-01T00:00:00",
          "1961-03-01T00:00:00",
          "1961-04-01T00:00:00",
          "1961-05-01T00:00:00",
          "1961-06-01T00:00:00",
          "1961-07-01T00:00:00",
          "1961-08-01T00:00:00",
          "1961-09-01T00:00:00",
          "1961-10-01T00:00:00",
          "1961-11-01T00:00:00",
          "1961-12-01T00:00:00",
          "1962-01-01T00:00:00",
          "1962-02-01T00:00:00",
          "1962-03-01T00:00:00",
          "1962-04-01T00:00:00",
          "1962-05-01T00:00:00",
          "1962-06-01T00:00:00",
          "1962-07-01T00:00:00",
          "1962-08-01T00:00:00",
          "1962-09-01T00:00:00"
         ],
         "xaxis": "x",
         "y": [
          112,
          118,
          132,
          129,
          121,
          135,
          148,
          148,
          136,
          119,
          104,
          118,
          115,
          126,
          141,
          135,
          125,
          149,
          170,
          170,
          158,
          133,
          114,
          140,
          145,
          150,
          178,
          163,
          172,
          178,
          199,
          199,
          184,
          162,
          146,
          166,
          171,
          180,
          193,
          181,
          183,
          218,
          230,
          242,
          209,
          191,
          172,
          194,
          196,
          196,
          236,
          235,
          229,
          243,
          264,
          272,
          237,
          211,
          180,
          201,
          204,
          188,
          235,
          227,
          234,
          264,
          302,
          293,
          259,
          229,
          203,
          229,
          242,
          233,
          267,
          269,
          270,
          315,
          364,
          347,
          312,
          274,
          237,
          278,
          284,
          277,
          317,
          313,
          318,
          374,
          413,
          405,
          355,
          306,
          271,
          306,
          315,
          301,
          356,
          348,
          355,
          422,
          465,
          467,
          404,
          347,
          305,
          336,
          340,
          318,
          362,
          348,
          363,
          435,
          491,
          505,
          404,
          359,
          310,
          337,
          360,
          342,
          406,
          396,
          420,
          472,
          548,
          559,
          463,
          407,
          362,
          405,
          417,
          391,
          419,
          461,
          472,
          535,
          622,
          606,
          508,
          461,
          390,
          432,
          null,
          null,
          null,
          null,
          null,
          null,
          null,
          null,
          null,
          null,
          null,
          null,
          null,
          null,
          null,
          null,
          null,
          null,
          null,
          null,
          null
         ],
         "yaxis": "y"
        },
        {
         "line": {
          "color": "rgb(255, 127, 14)",
          "width": 2
         },
         "marker": {
          "color": "rgb(255, 127, 14)",
          "size": 5
         },
         "mode": "lines+markers",
         "name": "STLF",
         "type": "scattergl",
         "x": [
          "1949-01-01T00:00:00",
          "1949-02-01T00:00:00",
          "1949-03-01T00:00:00",
          "1949-04-01T00:00:00",
          "1949-05-01T00:00:00",
          "1949-06-01T00:00:00",
          "1949-07-01T00:00:00",
          "1949-08-01T00:00:00",
          "1949-09-01T00:00:00",
          "1949-10-01T00:00:00",
          "1949-11-01T00:00:00",
          "1949-12-01T00:00:00",
          "1950-01-01T00:00:00",
          "1950-02-01T00:00:00",
          "1950-03-01T00:00:00",
          "1950-04-01T00:00:00",
          "1950-05-01T00:00:00",
          "1950-06-01T00:00:00",
          "1950-07-01T00:00:00",
          "1950-08-01T00:00:00",
          "1950-09-01T00:00:00",
          "1950-10-01T00:00:00",
          "1950-11-01T00:00:00",
          "1950-12-01T00:00:00",
          "1951-01-01T00:00:00",
          "1951-02-01T00:00:00",
          "1951-03-01T00:00:00",
          "1951-04-01T00:00:00",
          "1951-05-01T00:00:00",
          "1951-06-01T00:00:00",
          "1951-07-01T00:00:00",
          "1951-08-01T00:00:00",
          "1951-09-01T00:00:00",
          "1951-10-01T00:00:00",
          "1951-11-01T00:00:00",
          "1951-12-01T00:00:00",
          "1952-01-01T00:00:00",
          "1952-02-01T00:00:00",
          "1952-03-01T00:00:00",
          "1952-04-01T00:00:00",
          "1952-05-01T00:00:00",
          "1952-06-01T00:00:00",
          "1952-07-01T00:00:00",
          "1952-08-01T00:00:00",
          "1952-09-01T00:00:00",
          "1952-10-01T00:00:00",
          "1952-11-01T00:00:00",
          "1952-12-01T00:00:00",
          "1953-01-01T00:00:00",
          "1953-02-01T00:00:00",
          "1953-03-01T00:00:00",
          "1953-04-01T00:00:00",
          "1953-05-01T00:00:00",
          "1953-06-01T00:00:00",
          "1953-07-01T00:00:00",
          "1953-08-01T00:00:00",
          "1953-09-01T00:00:00",
          "1953-10-01T00:00:00",
          "1953-11-01T00:00:00",
          "1953-12-01T00:00:00",
          "1954-01-01T00:00:00",
          "1954-02-01T00:00:00",
          "1954-03-01T00:00:00",
          "1954-04-01T00:00:00",
          "1954-05-01T00:00:00",
          "1954-06-01T00:00:00",
          "1954-07-01T00:00:00",
          "1954-08-01T00:00:00",
          "1954-09-01T00:00:00",
          "1954-10-01T00:00:00",
          "1954-11-01T00:00:00",
          "1954-12-01T00:00:00",
          "1955-01-01T00:00:00",
          "1955-02-01T00:00:00",
          "1955-03-01T00:00:00",
          "1955-04-01T00:00:00",
          "1955-05-01T00:00:00",
          "1955-06-01T00:00:00",
          "1955-07-01T00:00:00",
          "1955-08-01T00:00:00",
          "1955-09-01T00:00:00",
          "1955-10-01T00:00:00",
          "1955-11-01T00:00:00",
          "1955-12-01T00:00:00",
          "1956-01-01T00:00:00",
          "1956-02-01T00:00:00",
          "1956-03-01T00:00:00",
          "1956-04-01T00:00:00",
          "1956-05-01T00:00:00",
          "1956-06-01T00:00:00",
          "1956-07-01T00:00:00",
          "1956-08-01T00:00:00",
          "1956-09-01T00:00:00",
          "1956-10-01T00:00:00",
          "1956-11-01T00:00:00",
          "1956-12-01T00:00:00",
          "1957-01-01T00:00:00",
          "1957-02-01T00:00:00",
          "1957-03-01T00:00:00",
          "1957-04-01T00:00:00",
          "1957-05-01T00:00:00",
          "1957-06-01T00:00:00",
          "1957-07-01T00:00:00",
          "1957-08-01T00:00:00",
          "1957-09-01T00:00:00",
          "1957-10-01T00:00:00",
          "1957-11-01T00:00:00",
          "1957-12-01T00:00:00",
          "1958-01-01T00:00:00",
          "1958-02-01T00:00:00",
          "1958-03-01T00:00:00",
          "1958-04-01T00:00:00",
          "1958-05-01T00:00:00",
          "1958-06-01T00:00:00",
          "1958-07-01T00:00:00",
          "1958-08-01T00:00:00",
          "1958-09-01T00:00:00",
          "1958-10-01T00:00:00",
          "1958-11-01T00:00:00",
          "1958-12-01T00:00:00",
          "1959-01-01T00:00:00",
          "1959-02-01T00:00:00",
          "1959-03-01T00:00:00",
          "1959-04-01T00:00:00",
          "1959-05-01T00:00:00",
          "1959-06-01T00:00:00",
          "1959-07-01T00:00:00",
          "1959-08-01T00:00:00",
          "1959-09-01T00:00:00",
          "1959-10-01T00:00:00",
          "1959-11-01T00:00:00",
          "1959-12-01T00:00:00",
          "1960-01-01T00:00:00",
          "1960-02-01T00:00:00",
          "1960-03-01T00:00:00",
          "1960-04-01T00:00:00",
          "1960-05-01T00:00:00",
          "1960-06-01T00:00:00",
          "1960-07-01T00:00:00",
          "1960-08-01T00:00:00",
          "1960-09-01T00:00:00",
          "1960-10-01T00:00:00",
          "1960-11-01T00:00:00",
          "1960-12-01T00:00:00",
          "1961-01-01T00:00:00",
          "1961-02-01T00:00:00",
          "1961-03-01T00:00:00",
          "1961-04-01T00:00:00",
          "1961-05-01T00:00:00",
          "1961-06-01T00:00:00",
          "1961-07-01T00:00:00",
          "1961-08-01T00:00:00",
          "1961-09-01T00:00:00",
          "1961-10-01T00:00:00",
          "1961-11-01T00:00:00",
          "1961-12-01T00:00:00",
          "1962-01-01T00:00:00",
          "1962-02-01T00:00:00",
          "1962-03-01T00:00:00",
          "1962-04-01T00:00:00",
          "1962-05-01T00:00:00",
          "1962-06-01T00:00:00",
          "1962-07-01T00:00:00",
          "1962-08-01T00:00:00",
          "1962-09-01T00:00:00"
         ],
         "xaxis": "x",
         "y": [
          null,
          null,
          null,
          null,
          null,
          null,
          null,
          null,
          null,
          null,
          null,
          null,
          null,
          null,
          null,
          null,
          null,
          null,
          null,
          null,
          null,
          null,
          null,
          null,
          null,
          null,
          null,
          null,
          null,
          null,
          null,
          null,
          null,
          null,
          null,
          null,
          null,
          null,
          null,
          null,
          null,
          null,
          null,
          null,
          null,
          null,
          null,
          null,
          null,
          null,
          null,
          null,
          null,
          null,
          null,
          null,
          null,
          null,
          null,
          null,
          null,
          null,
          null,
          null,
          null,
          null,
          null,
          null,
          null,
          null,
          null,
          null,
          null,
          null,
          null,
          null,
          null,
          null,
          null,
          null,
          null,
          null,
          null,
          null,
          null,
          null,
          null,
          null,
          null,
          null,
          null,
          null,
          null,
          null,
          null,
          null,
          null,
          null,
          null,
          null,
          null,
          null,
          null,
          null,
          null,
          null,
          null,
          null,
          null,
          null,
          null,
          null,
          null,
          null,
          null,
          null,
          null,
          null,
          null,
          null,
          null,
          null,
          null,
          null,
          null,
          null,
          null,
          null,
          null,
          null,
          null,
          null,
          null,
          null,
          null,
          null,
          null,
          null,
          null,
          null,
          null,
          455.2909,
          406.4324,
          441.514,
          456.2386,
          430.1439,
          471.7323,
          490.5395,
          507.232,
          567.3178,
          650.992,
          647.6881,
          540.2424,
          486.5606,
          437.702,
          472.7837,
          487.5083,
          461.4136,
          503.002,
          521.8092,
          538.5017,
          598.5875,
          682.2617,
          678.9578,
          571.5121
         ],
         "yaxis": "y"
        }
       ],
       "layout": {
        "showlegend": true,
        "template": {
         "data": {
          "bar": [
           {
            "error_x": {
             "color": "rgb(51,51,51)"
            },
            "error_y": {
             "color": "rgb(51,51,51)"
            },
            "marker": {
             "line": {
              "color": "rgb(237,237,237)",
              "width": 0.5
             },
             "pattern": {
              "fillmode": "overlay",
              "size": 10,
              "solidity": 0.2
             }
            },
            "type": "bar"
           }
          ],
          "barpolar": [
           {
            "marker": {
             "line": {
              "color": "rgb(237,237,237)",
              "width": 0.5
             },
             "pattern": {
              "fillmode": "overlay",
              "size": 10,
              "solidity": 0.2
             }
            },
            "type": "barpolar"
           }
          ],
          "carpet": [
           {
            "aaxis": {
             "endlinecolor": "rgb(51,51,51)",
             "gridcolor": "white",
             "linecolor": "white",
             "minorgridcolor": "white",
             "startlinecolor": "rgb(51,51,51)"
            },
            "baxis": {
             "endlinecolor": "rgb(51,51,51)",
             "gridcolor": "white",
             "linecolor": "white",
             "minorgridcolor": "white",
             "startlinecolor": "rgb(51,51,51)"
            },
            "type": "carpet"
           }
          ],
          "choropleth": [
           {
            "colorbar": {
             "outlinewidth": 0,
             "tickcolor": "rgb(237,237,237)",
             "ticklen": 6,
             "ticks": "inside"
            },
            "type": "choropleth"
           }
          ],
          "contour": [
           {
            "colorbar": {
             "outlinewidth": 0,
             "tickcolor": "rgb(237,237,237)",
             "ticklen": 6,
             "ticks": "inside"
            },
            "colorscale": [
             [
              0,
              "rgb(20,44,66)"
             ],
             [
              1,
              "rgb(90,179,244)"
             ]
            ],
            "type": "contour"
           }
          ],
          "contourcarpet": [
           {
            "colorbar": {
             "outlinewidth": 0,
             "tickcolor": "rgb(237,237,237)",
             "ticklen": 6,
             "ticks": "inside"
            },
            "type": "contourcarpet"
           }
          ],
          "heatmap": [
           {
            "colorbar": {
             "outlinewidth": 0,
             "tickcolor": "rgb(237,237,237)",
             "ticklen": 6,
             "ticks": "inside"
            },
            "colorscale": [
             [
              0,
              "rgb(20,44,66)"
             ],
             [
              1,
              "rgb(90,179,244)"
             ]
            ],
            "type": "heatmap"
           }
          ],
          "heatmapgl": [
           {
            "colorbar": {
             "outlinewidth": 0,
             "tickcolor": "rgb(237,237,237)",
             "ticklen": 6,
             "ticks": "inside"
            },
            "colorscale": [
             [
              0,
              "rgb(20,44,66)"
             ],
             [
              1,
              "rgb(90,179,244)"
             ]
            ],
            "type": "heatmapgl"
           }
          ],
          "histogram": [
           {
            "marker": {
             "pattern": {
              "fillmode": "overlay",
              "size": 10,
              "solidity": 0.2
             }
            },
            "type": "histogram"
           }
          ],
          "histogram2d": [
           {
            "colorbar": {
             "outlinewidth": 0,
             "tickcolor": "rgb(237,237,237)",
             "ticklen": 6,
             "ticks": "inside"
            },
            "colorscale": [
             [
              0,
              "rgb(20,44,66)"
             ],
             [
              1,
              "rgb(90,179,244)"
             ]
            ],
            "type": "histogram2d"
           }
          ],
          "histogram2dcontour": [
           {
            "colorbar": {
             "outlinewidth": 0,
             "tickcolor": "rgb(237,237,237)",
             "ticklen": 6,
             "ticks": "inside"
            },
            "colorscale": [
             [
              0,
              "rgb(20,44,66)"
             ],
             [
              1,
              "rgb(90,179,244)"
             ]
            ],
            "type": "histogram2dcontour"
           }
          ],
          "mesh3d": [
           {
            "colorbar": {
             "outlinewidth": 0,
             "tickcolor": "rgb(237,237,237)",
             "ticklen": 6,
             "ticks": "inside"
            },
            "type": "mesh3d"
           }
          ],
          "parcoords": [
           {
            "line": {
             "colorbar": {
              "outlinewidth": 0,
              "tickcolor": "rgb(237,237,237)",
              "ticklen": 6,
              "ticks": "inside"
             }
            },
            "type": "parcoords"
           }
          ],
          "pie": [
           {
            "automargin": true,
            "type": "pie"
           }
          ],
          "scatter": [
           {
            "fillpattern": {
             "fillmode": "overlay",
             "size": 10,
             "solidity": 0.2
            },
            "type": "scatter"
           }
          ],
          "scatter3d": [
           {
            "line": {
             "colorbar": {
              "outlinewidth": 0,
              "tickcolor": "rgb(237,237,237)",
              "ticklen": 6,
              "ticks": "inside"
             }
            },
            "marker": {
             "colorbar": {
              "outlinewidth": 0,
              "tickcolor": "rgb(237,237,237)",
              "ticklen": 6,
              "ticks": "inside"
             }
            },
            "type": "scatter3d"
           }
          ],
          "scattercarpet": [
           {
            "marker": {
             "colorbar": {
              "outlinewidth": 0,
              "tickcolor": "rgb(237,237,237)",
              "ticklen": 6,
              "ticks": "inside"
             }
            },
            "type": "scattercarpet"
           }
          ],
          "scattergeo": [
           {
            "marker": {
             "colorbar": {
              "outlinewidth": 0,
              "tickcolor": "rgb(237,237,237)",
              "ticklen": 6,
              "ticks": "inside"
             }
            },
            "type": "scattergeo"
           }
          ],
          "scattergl": [
           {
            "marker": {
             "colorbar": {
              "outlinewidth": 0,
              "tickcolor": "rgb(237,237,237)",
              "ticklen": 6,
              "ticks": "inside"
             }
            },
            "type": "scattergl"
           }
          ],
          "scattermapbox": [
           {
            "marker": {
             "colorbar": {
              "outlinewidth": 0,
              "tickcolor": "rgb(237,237,237)",
              "ticklen": 6,
              "ticks": "inside"
             }
            },
            "type": "scattermapbox"
           }
          ],
          "scatterpolar": [
           {
            "marker": {
             "colorbar": {
              "outlinewidth": 0,
              "tickcolor": "rgb(237,237,237)",
              "ticklen": 6,
              "ticks": "inside"
             }
            },
            "type": "scatterpolar"
           }
          ],
          "scatterpolargl": [
           {
            "marker": {
             "colorbar": {
              "outlinewidth": 0,
              "tickcolor": "rgb(237,237,237)",
              "ticklen": 6,
              "ticks": "inside"
             }
            },
            "type": "scatterpolargl"
           }
          ],
          "scatterternary": [
           {
            "marker": {
             "colorbar": {
              "outlinewidth": 0,
              "tickcolor": "rgb(237,237,237)",
              "ticklen": 6,
              "ticks": "inside"
             }
            },
            "type": "scatterternary"
           }
          ],
          "surface": [
           {
            "colorbar": {
             "outlinewidth": 0,
             "tickcolor": "rgb(237,237,237)",
             "ticklen": 6,
             "ticks": "inside"
            },
            "colorscale": [
             [
              0,
              "rgb(20,44,66)"
             ],
             [
              1,
              "rgb(90,179,244)"
             ]
            ],
            "type": "surface"
           }
          ],
          "table": [
           {
            "cells": {
             "fill": {
              "color": "rgb(237,237,237)"
             },
             "line": {
              "color": "white"
             }
            },
            "header": {
             "fill": {
              "color": "rgb(217,217,217)"
             },
             "line": {
              "color": "white"
             }
            },
            "type": "table"
           }
          ]
         },
         "layout": {
          "annotationdefaults": {
           "arrowhead": 0,
           "arrowwidth": 1
          },
          "autotypenumbers": "strict",
          "coloraxis": {
           "colorbar": {
            "outlinewidth": 0,
            "tickcolor": "rgb(237,237,237)",
            "ticklen": 6,
            "ticks": "inside"
           }
          },
          "colorscale": {
           "sequential": [
            [
             0,
             "rgb(20,44,66)"
            ],
            [
             1,
             "rgb(90,179,244)"
            ]
           ],
           "sequentialminus": [
            [
             0,
             "rgb(20,44,66)"
            ],
            [
             1,
             "rgb(90,179,244)"
            ]
           ]
          },
          "colorway": [
           "#F8766D",
           "#A3A500",
           "#00BF7D",
           "#00B0F6",
           "#E76BF3"
          ],
          "font": {
           "color": "rgb(51,51,51)"
          },
          "geo": {
           "bgcolor": "white",
           "lakecolor": "white",
           "landcolor": "rgb(237,237,237)",
           "showlakes": true,
           "showland": true,
           "subunitcolor": "white"
          },
          "hoverlabel": {
           "align": "left"
          },
          "hovermode": "closest",
          "paper_bgcolor": "white",
          "plot_bgcolor": "rgb(237,237,237)",
          "polar": {
           "angularaxis": {
            "gridcolor": "white",
            "linecolor": "white",
            "showgrid": true,
            "tickcolor": "rgb(51,51,51)",
            "ticks": "outside"
           },
           "bgcolor": "rgb(237,237,237)",
           "radialaxis": {
            "gridcolor": "white",
            "linecolor": "white",
            "showgrid": true,
            "tickcolor": "rgb(51,51,51)",
            "ticks": "outside"
           }
          },
          "scene": {
           "xaxis": {
            "backgroundcolor": "rgb(237,237,237)",
            "gridcolor": "white",
            "gridwidth": 2,
            "linecolor": "white",
            "showbackground": true,
            "showgrid": true,
            "tickcolor": "rgb(51,51,51)",
            "ticks": "outside",
            "zerolinecolor": "white"
           },
           "yaxis": {
            "backgroundcolor": "rgb(237,237,237)",
            "gridcolor": "white",
            "gridwidth": 2,
            "linecolor": "white",
            "showbackground": true,
            "showgrid": true,
            "tickcolor": "rgb(51,51,51)",
            "ticks": "outside",
            "zerolinecolor": "white"
           },
           "zaxis": {
            "backgroundcolor": "rgb(237,237,237)",
            "gridcolor": "white",
            "gridwidth": 2,
            "linecolor": "white",
            "showbackground": true,
            "showgrid": true,
            "tickcolor": "rgb(51,51,51)",
            "ticks": "outside",
            "zerolinecolor": "white"
           }
          },
          "shapedefaults": {
           "fillcolor": "black",
           "line": {
            "width": 0
           },
           "opacity": 0.3
          },
          "ternary": {
           "aaxis": {
            "gridcolor": "white",
            "linecolor": "white",
            "showgrid": true,
            "tickcolor": "rgb(51,51,51)",
            "ticks": "outside"
           },
           "baxis": {
            "gridcolor": "white",
            "linecolor": "white",
            "showgrid": true,
            "tickcolor": "rgb(51,51,51)",
            "ticks": "outside"
           },
           "bgcolor": "rgb(237,237,237)",
           "caxis": {
            "gridcolor": "white",
            "linecolor": "white",
            "showgrid": true,
            "tickcolor": "rgb(51,51,51)",
            "ticks": "outside"
           }
          },
          "xaxis": {
           "automargin": true,
           "gridcolor": "white",
           "linecolor": "white",
           "showgrid": true,
           "tickcolor": "rgb(51,51,51)",
           "ticks": "outside",
           "title": {
            "standoff": 15
           },
           "zerolinecolor": "white"
          },
          "yaxis": {
           "automargin": true,
           "gridcolor": "white",
           "linecolor": "white",
           "showgrid": true,
           "tickcolor": "rgb(51,51,51)",
           "ticks": "outside",
           "title": {
            "standoff": 15
           },
           "zerolinecolor": "white"
          }
         }
        },
        "title": {
         "text": "Actual vs. Forecast (Out-of-Sample)"
        },
        "xaxis": {
         "anchor": "y",
         "domain": [
          0,
          1
         ]
        },
        "yaxis": {
         "anchor": "x",
         "domain": [
          0,
          1
         ]
        }
       }
      }
     },
     "metadata": {},
     "output_type": "display_data"
    }
   ],
   "source": [
    "# functional API\n",
    "plot_model(best, plot = 'forecast', data_kwargs = {'fh' : 24})"
   ]
  },
  {
   "cell_type": "code",
   "execution_count": 5,
   "metadata": {},
   "outputs": [
    {
     "data": {
      "application/vnd.plotly.v1+json": {
       "config": {
        "plotlyServerURL": "https://plot.ly"
       },
       "data": [
        {
         "line": {
          "color": "rgb(31, 119, 180)",
          "width": 2
         },
         "marker": {
          "color": "rgb(31, 119, 180)",
          "size": 5
         },
         "mode": "lines+markers",
         "name": "STLF",
         "showlegend": false,
         "type": "scattergl",
         "x": [
          "1949-01-01T00:00:00",
          "1950-01-01T00:00:00",
          "1950-02-01T00:00:00",
          "1950-03-01T00:00:00",
          "1950-04-01T00:00:00",
          "1950-05-01T00:00:00",
          "1950-06-01T00:00:00",
          "1950-07-01T00:00:00",
          "1950-08-01T00:00:00",
          "1950-09-01T00:00:00",
          "1950-10-01T00:00:00",
          "1950-11-01T00:00:00",
          "1950-12-01T00:00:00",
          "1951-01-01T00:00:00",
          "1951-02-01T00:00:00",
          "1951-03-01T00:00:00",
          "1951-04-01T00:00:00",
          "1951-05-01T00:00:00",
          "1951-06-01T00:00:00",
          "1951-07-01T00:00:00",
          "1951-08-01T00:00:00",
          "1951-09-01T00:00:00",
          "1951-10-01T00:00:00",
          "1951-11-01T00:00:00",
          "1951-12-01T00:00:00",
          "1952-01-01T00:00:00",
          "1952-02-01T00:00:00",
          "1952-03-01T00:00:00",
          "1952-04-01T00:00:00",
          "1952-05-01T00:00:00",
          "1952-06-01T00:00:00",
          "1952-07-01T00:00:00",
          "1952-08-01T00:00:00",
          "1952-09-01T00:00:00",
          "1952-10-01T00:00:00",
          "1952-11-01T00:00:00",
          "1952-12-01T00:00:00",
          "1953-01-01T00:00:00",
          "1953-02-01T00:00:00",
          "1953-03-01T00:00:00",
          "1953-04-01T00:00:00",
          "1953-05-01T00:00:00",
          "1953-06-01T00:00:00",
          "1953-07-01T00:00:00",
          "1953-08-01T00:00:00",
          "1953-09-01T00:00:00",
          "1953-10-01T00:00:00",
          "1953-11-01T00:00:00",
          "1953-12-01T00:00:00",
          "1954-01-01T00:00:00",
          "1954-02-01T00:00:00",
          "1954-03-01T00:00:00",
          "1954-04-01T00:00:00",
          "1954-05-01T00:00:00",
          "1954-06-01T00:00:00",
          "1954-07-01T00:00:00",
          "1954-08-01T00:00:00",
          "1954-09-01T00:00:00",
          "1954-10-01T00:00:00",
          "1954-11-01T00:00:00",
          "1954-12-01T00:00:00",
          "1955-01-01T00:00:00",
          "1955-02-01T00:00:00",
          "1955-03-01T00:00:00",
          "1955-04-01T00:00:00",
          "1955-05-01T00:00:00",
          "1955-06-01T00:00:00",
          "1955-07-01T00:00:00",
          "1955-08-01T00:00:00",
          "1955-09-01T00:00:00",
          "1955-10-01T00:00:00",
          "1955-11-01T00:00:00",
          "1955-12-01T00:00:00",
          "1956-01-01T00:00:00",
          "1956-02-01T00:00:00",
          "1956-03-01T00:00:00",
          "1956-04-01T00:00:00",
          "1956-05-01T00:00:00",
          "1956-06-01T00:00:00",
          "1956-07-01T00:00:00",
          "1956-08-01T00:00:00",
          "1956-09-01T00:00:00",
          "1956-10-01T00:00:00",
          "1956-11-01T00:00:00",
          "1956-12-01T00:00:00",
          "1957-01-01T00:00:00",
          "1957-02-01T00:00:00",
          "1957-03-01T00:00:00",
          "1957-04-01T00:00:00",
          "1957-05-01T00:00:00",
          "1957-06-01T00:00:00",
          "1957-07-01T00:00:00",
          "1957-08-01T00:00:00",
          "1957-09-01T00:00:00",
          "1957-10-01T00:00:00",
          "1957-11-01T00:00:00",
          "1957-12-01T00:00:00",
          "1958-01-01T00:00:00",
          "1958-02-01T00:00:00",
          "1958-03-01T00:00:00",
          "1958-04-01T00:00:00",
          "1958-05-01T00:00:00",
          "1958-06-01T00:00:00",
          "1958-07-01T00:00:00",
          "1958-08-01T00:00:00",
          "1958-09-01T00:00:00",
          "1958-10-01T00:00:00",
          "1958-11-01T00:00:00",
          "1958-12-01T00:00:00",
          "1959-01-01T00:00:00",
          "1959-02-01T00:00:00",
          "1959-03-01T00:00:00",
          "1959-04-01T00:00:00",
          "1959-05-01T00:00:00",
          "1959-06-01T00:00:00",
          "1959-07-01T00:00:00",
          "1959-08-01T00:00:00",
          "1959-09-01T00:00:00",
          "1959-10-01T00:00:00",
          "1959-11-01T00:00:00",
          "1959-12-01T00:00:00",
          "1960-01-01T00:00:00",
          "1960-02-01T00:00:00",
          "1960-03-01T00:00:00",
          "1960-04-01T00:00:00",
          "1960-05-01T00:00:00",
          "1960-06-01T00:00:00",
          "1960-07-01T00:00:00",
          "1960-08-01T00:00:00",
          "1960-09-01T00:00:00"
         ],
         "xaxis": "x",
         "y": [
          2.1835999999999984,
          -5.204599999999999,
          -0.5956000000000046,
          -0.11719999999999686,
          -3.7807999999999993,
          -6.599899999999991,
          2.412700000000001,
          9.235000000000014,
          7.8548999999999864,
          6.2642999999999915,
          -3.4861999999999966,
          -9.310699999999997,
          0.8713999999999942,
          5.000400000000013,
          0.9311999999999898,
          11.099700000000013,
          0.26669999999998595,
          15.711600000000004,
          0.7316999999999894,
          3.2198999999999955,
          1.4200999999999908,
          1.04140000000001,
          0.34780000000000655,
          2.3625999999999863,
          1.4558000000000106,
          4.007499999999993,
          7.004300000000001,
          -4.0660000000000025,
          -7.477100000000007,
          -5.738400000000013,
          12.035300000000007,
          3.7066000000000088,
          13.028400000000005,
          -1.7235000000000014,
          1.8504000000000076,
          1.0486999999999966,
          0.7161000000000115,
          -2.0560999999999865,
          -6.942599999999999,
          7.928799999999995,
          17.688999999999993,
          9.890299999999996,
          2.5283000000000015,
          5.566199999999981,
          9.427999999999997,
          3.2327999999999975,
          1.2180999999999926,
          -7.0353000000000065,
          -6.68010000000001,
          -6.413800000000009,
          -20.399400000000014,
          -5.174499999999995,
          -5.8577999999999975,
          0.21629999999998972,
          5.3740999999999985,
          18.892999999999972,
          5.727300000000014,
          3.7849999999999966,
          -2.1038000000000068,
          -3.3680999999999983,
          -2.6637000000000057,
          3.7660999999999945,
          0.5305999999999926,
          -5.777600000000007,
          -0.7409999999999854,
          -3.1544000000000096,
          8.880200000000002,
          23.256100000000004,
          8.308499999999981,
          8.2303,
          -0.13110000000000355,
          -8.617999999999995,
          3.0541000000000054,
          0.5162000000000262,
          2.8111000000000104,
          0.7375000000000114,
          -0.329400000000021,
          0.8777999999999793,
          14.593200000000024,
          12.78109999999998,
          13.410900000000026,
          4.154200000000003,
          -6.231299999999976,
          -7.650800000000004,
          -5.783200000000022,
          -5.026400000000024,
          -7.973799999999983,
          3.807900000000018,
          0.19990000000001373,
          1.2683999999999855,
          13.87439999999998,
          13.089800000000025,
          22.021000000000015,
          12.161900000000003,
          2.2302999999999997,
          -0.47980000000001155,
          -1.8702000000000112,
          -4.673099999999977,
          -10.884999999999991,
          -12.477599999999995,
          -16.932999999999993,
          -9.359699999999975,
          2.6567999999999756,
          11.712400000000002,
          25.663900000000012,
          -6.629799999999989,
          -1.374900000000025,
          -9.367200000000025,
          -17.143500000000017,
          -5.5131000000000085,
          -6.620200000000011,
          9.095899999999972,
          -0.4390000000000214,
          9.349199999999996,
          -2.917100000000005,
          11.96270000000004,
          18.9461,
          4.43040000000002,
          -1.3351999999999862,
          -2.585300000000018,
          5.11930000000001,
          2.570600000000013,
          -2.9225999999999885,
          -22.425400000000025,
          12.119899999999973,
          6.3349999999999795,
          6.826000000000022,
          21.288999999999987,
          2.967999999999961,
          -0.1752999999999929
         ],
         "yaxis": "y"
        },
        {
         "hoverinfo": "text",
         "hovertext": [
          "Freq: 0.0077<br>Ampl: 11.9628<br>Time period: 130.0",
          "Freq: 0.0154<br>Ampl: 20.1389<br>Time period: 65.0",
          "Freq: 0.0231<br>Ampl: 21.141<br>Time period: 43.3333",
          "Freq: 0.0308<br>Ampl: 20.5546<br>Time period: 32.5",
          "Freq: 0.0385<br>Ampl: 22.0798<br>Time period: 26.0",
          "Freq: 0.0462<br>Ampl: 7.1208<br>Time period: 21.6667",
          "Freq: 0.0538<br>Ampl: 22.9438<br>Time period: 18.5714",
          "Freq: 0.0615<br>Ampl: 23.1532<br>Time period: 16.25",
          "Freq: 0.0692<br>Ampl: 16.7184<br>Time period: 14.4444",
          "Freq: 0.0769<br>Ampl: 31.0896<br>Time period: 13.0",
          "Freq: 0.0846<br>Ampl: 32.8857<br>Time period: 11.8182",
          "Freq: 0.0923<br>Ampl: 27.7771<br>Time period: 10.8333",
          "Freq: 0.1<br>Ampl: 16.4372<br>Time period: 10.0",
          "Freq: 0.1077<br>Ampl: 8.7544<br>Time period: 9.2857",
          "Freq: 0.1154<br>Ampl: 5.4213<br>Time period: 8.6667",
          "Freq: 0.1231<br>Ampl: 16.053<br>Time period: 8.125",
          "Freq: 0.1308<br>Ampl: 14.54<br>Time period: 7.6471",
          "Freq: 0.1385<br>Ampl: 21.4927<br>Time period: 7.2222",
          "Freq: 0.1462<br>Ampl: 23.3493<br>Time period: 6.8421",
          "Freq: 0.1538<br>Ampl: 25.224<br>Time period: 6.5",
          "Freq: 0.1615<br>Ampl: 27.1393<br>Time period: 6.1905",
          "Freq: 0.1692<br>Ampl: 26.4632<br>Time period: 5.9091",
          "Freq: 0.1769<br>Ampl: 23.0073<br>Time period: 5.6522",
          "Freq: 0.1846<br>Ampl: 19.7998<br>Time period: 5.4167",
          "Freq: 0.1923<br>Ampl: 17.7278<br>Time period: 5.2",
          "Freq: 0.2<br>Ampl: 5.3825<br>Time period: 5.0",
          "Freq: 0.2077<br>Ampl: 14.0387<br>Time period: 4.8148",
          "Freq: 0.2154<br>Ampl: 11.1926<br>Time period: 4.6429",
          "Freq: 0.2231<br>Ampl: 13.6286<br>Time period: 4.4828",
          "Freq: 0.2308<br>Ampl: 15.0446<br>Time period: 4.3333",
          "Freq: 0.2385<br>Ampl: 5.2918<br>Time period: 4.1935",
          "Freq: 0.2462<br>Ampl: 14.2896<br>Time period: 4.0625",
          "Freq: 0.2538<br>Ampl: 16.6931<br>Time period: 3.9394",
          "Freq: 0.2615<br>Ampl: 12.6022<br>Time period: 3.8235",
          "Freq: 0.2692<br>Ampl: 16.2854<br>Time period: 3.7143",
          "Freq: 0.2769<br>Ampl: 14.6634<br>Time period: 3.6111",
          "Freq: 0.2846<br>Ampl: 8.8529<br>Time period: 3.5135",
          "Freq: 0.2923<br>Ampl: -2.8076<br>Time period: 3.4211",
          "Freq: 0.3<br>Ampl: 6.1363<br>Time period: 3.3333",
          "Freq: 0.3077<br>Ampl: 13.099<br>Time period: 3.25",
          "Freq: 0.3154<br>Ampl: 14.005<br>Time period: 3.1707",
          "Freq: 0.3231<br>Ampl: 15.0592<br>Time period: 3.0952",
          "Freq: 0.3308<br>Ampl: 19.1242<br>Time period: 3.0233",
          "Freq: 0.3385<br>Ampl: 22.0783<br>Time period: 2.9545",
          "Freq: 0.3462<br>Ampl: 22.646<br>Time period: 2.8889",
          "Freq: 0.3538<br>Ampl: 17.8174<br>Time period: 2.8261",
          "Freq: 0.3615<br>Ampl: 11.655<br>Time period: 2.766",
          "Freq: 0.3692<br>Ampl: 13.4564<br>Time period: 2.7083",
          "Freq: 0.3769<br>Ampl: 17.758<br>Time period: 2.6531",
          "Freq: 0.3846<br>Ampl: 18.5297<br>Time period: 2.6",
          "Freq: 0.3923<br>Ampl: 17.1061<br>Time period: 2.549",
          "Freq: 0.4<br>Ampl: 16.6971<br>Time period: 2.5",
          "Freq: 0.4077<br>Ampl: 9.4471<br>Time period: 2.4528",
          "Freq: 0.4154<br>Ampl: 5.6424<br>Time period: 2.4074",
          "Freq: 0.4231<br>Ampl: 8.0538<br>Time period: 2.3636",
          "Freq: 0.4308<br>Ampl: 20.0769<br>Time period: 2.3214",
          "Freq: 0.4385<br>Ampl: 19.4169<br>Time period: 2.2807",
          "Freq: 0.4462<br>Ampl: 11.9295<br>Time period: 2.2414",
          "Freq: 0.4538<br>Ampl: -8.1468<br>Time period: 2.2034",
          "Freq: 0.4615<br>Ampl: 7.5481<br>Time period: 2.1667",
          "Freq: 0.4692<br>Ampl: 16.5922<br>Time period: 2.1311",
          "Freq: 0.4769<br>Ampl: 18.0989<br>Time period: 2.0968",
          "Freq: 0.4846<br>Ampl: 17.3036<br>Time period: 2.0635",
          "Freq: 0.4923<br>Ampl: 12.3359<br>Time period: 2.0312",
          "Freq: 0.5<br>Ampl: 1.2461<br>Time period: 2.0"
         ],
         "line": {
          "color": "#1f77b4",
          "width": 2
         },
         "marker": {
          "size": 5
         },
         "mode": "lines+markers",
         "name": "STLF",
         "showlegend": false,
         "type": "scattergl",
         "x": [
          0.007692307692307693,
          0.015384615384615385,
          0.023076923076923078,
          0.03076923076923077,
          0.038461538461538464,
          0.046153846153846156,
          0.05384615384615385,
          0.06153846153846154,
          0.06923076923076923,
          0.07692307692307693,
          0.08461538461538462,
          0.09230769230769231,
          0.1,
          0.1076923076923077,
          0.11538461538461539,
          0.12307692307692308,
          0.13076923076923078,
          0.13846153846153847,
          0.14615384615384616,
          0.15384615384615385,
          0.16153846153846155,
          0.16923076923076924,
          0.17692307692307693,
          0.18461538461538463,
          0.19230769230769232,
          0.2,
          0.2076923076923077,
          0.2153846153846154,
          0.2230769230769231,
          0.23076923076923078,
          0.23846153846153847,
          0.24615384615384617,
          0.25384615384615383,
          0.26153846153846155,
          0.2692307692307693,
          0.27692307692307694,
          0.2846153846153846,
          0.2923076923076923,
          0.30000000000000004,
          0.3076923076923077,
          0.3153846153846154,
          0.3230769230769231,
          0.3307692307692308,
          0.3384615384615385,
          0.34615384615384615,
          0.35384615384615387,
          0.3615384615384616,
          0.36923076923076925,
          0.3769230769230769,
          0.38461538461538464,
          0.39230769230769236,
          0.4,
          0.4076923076923077,
          0.4153846153846154,
          0.42307692307692313,
          0.4307692307692308,
          0.43846153846153846,
          0.4461538461538462,
          0.4538461538461539,
          0.46153846153846156,
          0.46923076923076923,
          0.47692307692307695,
          0.48461538461538467,
          0.49230769230769234,
          0.5
         ],
         "xaxis": "x2",
         "y": [
          11.962800306072172,
          20.138873134465133,
          21.14103955316489,
          20.55464552957471,
          22.0798363022795,
          7.12083125178018,
          22.94381318551747,
          23.153221339800055,
          16.71836215914346,
          31.08955482071872,
          32.88572452133533,
          27.777112001754777,
          16.437174349175784,
          8.754401676617247,
          5.421307481218719,
          16.052973368853674,
          14.53995511465056,
          21.49271501426327,
          23.349283599774814,
          25.224016596851698,
          27.139267157183518,
          26.463166533622267,
          23.007251105022807,
          19.799840438468944,
          17.727835572707036,
          5.382544532870908,
          14.038704589869848,
          11.192647637303864,
          13.628582329620496,
          15.044565645268836,
          5.291822869980029,
          14.28956843853773,
          16.693128220147127,
          12.602183759273299,
          16.285390484590337,
          14.663411312359578,
          8.852886950361134,
          -2.8075871937642516,
          6.136314408635425,
          13.098971787573987,
          14.004962278763157,
          15.059183395181348,
          19.12416915360869,
          22.07834855990525,
          22.646028468286175,
          17.81741126086455,
          11.655047373055464,
          13.456391952704967,
          17.758005377475495,
          18.529698961190025,
          17.10608171229438,
          16.6971119716665,
          9.447064511324546,
          5.642371457850399,
          8.053836799434848,
          20.076891095885763,
          19.41691489204785,
          11.929527601302823,
          -8.146764958842654,
          7.548119833907166,
          16.592164854663366,
          18.098865399340955,
          17.303632282808053,
          12.335875963688403,
          1.2461113537147843
         ],
         "yaxis": "y2"
        },
        {
         "alignmentgroup": "True",
         "bingroup": "x",
         "hovertemplate": "variable=STLF<br>value=%{x}<br>count=%{y}<extra></extra>",
         "legendgroup": "STLF",
         "marker": {
          "color": "#1f77b4",
          "pattern": {
           "shape": ""
          }
         },
         "name": "STLF",
         "offsetgroup": "STLF",
         "orientation": "v",
         "showlegend": false,
         "type": "histogram",
         "x": [
          2.1835999999999984,
          -5.204599999999999,
          -0.5956000000000046,
          -0.11719999999999686,
          -3.7807999999999993,
          -6.599899999999991,
          2.412700000000001,
          9.235000000000014,
          7.8548999999999864,
          6.2642999999999915,
          -3.4861999999999966,
          -9.310699999999997,
          0.8713999999999942,
          5.000400000000013,
          0.9311999999999898,
          11.099700000000013,
          0.26669999999998595,
          15.711600000000004,
          0.7316999999999894,
          3.2198999999999955,
          1.4200999999999908,
          1.04140000000001,
          0.34780000000000655,
          2.3625999999999863,
          1.4558000000000106,
          4.007499999999993,
          7.004300000000001,
          -4.0660000000000025,
          -7.477100000000007,
          -5.738400000000013,
          12.035300000000007,
          3.7066000000000088,
          13.028400000000005,
          -1.7235000000000014,
          1.8504000000000076,
          1.0486999999999966,
          0.7161000000000115,
          -2.0560999999999865,
          -6.942599999999999,
          7.928799999999995,
          17.688999999999993,
          9.890299999999996,
          2.5283000000000015,
          5.566199999999981,
          9.427999999999997,
          3.2327999999999975,
          1.2180999999999926,
          -7.0353000000000065,
          -6.68010000000001,
          -6.413800000000009,
          -20.399400000000014,
          -5.174499999999995,
          -5.8577999999999975,
          0.21629999999998972,
          5.3740999999999985,
          18.892999999999972,
          5.727300000000014,
          3.7849999999999966,
          -2.1038000000000068,
          -3.3680999999999983,
          -2.6637000000000057,
          3.7660999999999945,
          0.5305999999999926,
          -5.777600000000007,
          -0.7409999999999854,
          -3.1544000000000096,
          8.880200000000002,
          23.256100000000004,
          8.308499999999981,
          8.2303,
          -0.13110000000000355,
          -8.617999999999995,
          3.0541000000000054,
          0.5162000000000262,
          2.8111000000000104,
          0.7375000000000114,
          -0.329400000000021,
          0.8777999999999793,
          14.593200000000024,
          12.78109999999998,
          13.410900000000026,
          4.154200000000003,
          -6.231299999999976,
          -7.650800000000004,
          -5.783200000000022,
          -5.026400000000024,
          -7.973799999999983,
          3.807900000000018,
          0.19990000000001373,
          1.2683999999999855,
          13.87439999999998,
          13.089800000000025,
          22.021000000000015,
          12.161900000000003,
          2.2302999999999997,
          -0.47980000000001155,
          -1.8702000000000112,
          -4.673099999999977,
          -10.884999999999991,
          -12.477599999999995,
          -16.932999999999993,
          -9.359699999999975,
          2.6567999999999756,
          11.712400000000002,
          25.663900000000012,
          -6.629799999999989,
          -1.374900000000025,
          -9.367200000000025,
          -17.143500000000017,
          -5.5131000000000085,
          -6.620200000000011,
          9.095899999999972,
          -0.4390000000000214,
          9.349199999999996,
          -2.917100000000005,
          11.96270000000004,
          18.9461,
          4.43040000000002,
          -1.3351999999999862,
          -2.585300000000018,
          5.11930000000001,
          2.570600000000013,
          -2.9225999999999885,
          -22.425400000000025,
          12.119899999999973,
          6.3349999999999795,
          6.826000000000022,
          21.288999999999987,
          2.967999999999961,
          -0.1752999999999929
         ],
         "xaxis": "x3",
         "yaxis": "y3"
        },
        {
         "marker": {
          "color": "#1f77b4"
         },
         "mode": "markers",
         "name": "STLF",
         "showlegend": false,
         "type": "scattergl",
         "x": [
          -2.425978479480954,
          -2.1630887898809994,
          -1.9972178140451935,
          -1.8729977022308695,
          -1.7723536065008698,
          -1.6870015525016093,
          -1.612421593855674,
          -1.545864049227724,
          -1.4855258530384319,
          -1.4301577248003308,
          -1.3788567306540664,
          -1.3309480449865991,
          -1.2859134118557967,
          -1.2433457340271463,
          -1.2029190864185093,
          -1.1643682488312117,
          -1.1274743373229812,
          -1.0920544694673433,
          -1.0579541724242603,
          -1.0250417014463717,
          -0.9932037176048187,
          -0.9623419509665682,
          -0.9323705903834314,
          -0.9032142172269347,
          -0.8748061519479718,
          -0.8470871178776481,
          -0.8200041516065739,
          -0.7935097070283725,
          -0.7675609129539825,
          -0.7421189535860683,
          -0.7171485480924329,
          -0.6926175107223087,
          -0.668496376848144,
          -0.6447580833248175,
          -0.6213776938780912,
          -0.5983321620375304,
          -0.5756001255421157,
          -0.5531617272620122,
          -0.5309984585663384,
          -0.5090930217758403,
          -0.4874292089100864,
          -0.4659917944008472,
          -0.4447664398194128,
          -0.4237396089733445,
          -0.4028984919811759,
          -0.38223093714258394,
          -0.36172538959493156,
          -0.3413708358915132,
          -0.3211567537575786,
          -0.30107306638154513,
          -0.281110100684088,
          -0.26125854907980633,
          -0.24150943430710659,
          -0.22185407695363235,
          -0.202284065348496,
          -0.18279122752992422,
          -0.1633676050287281,
          -0.14400542823505125,
          -0.12469709313882915,
          -0.10543513925384881,
          -0.08621222855170138,
          -0.06702112524563479,
          -0.04785467627566239,
          -0.02870579235549915,
          -0.009567429449189264,
          0.009567429449189126,
          0.028705792355499006,
          0.04785467627566239,
          0.06702112524563479,
          0.08621222855170138,
          0.10543513925384881,
          0.12469709313882915,
          0.14400542823505139,
          0.16336760502872824,
          0.18279122752992408,
          0.20228406534849586,
          0.22185407695363235,
          0.24150943430710659,
          0.26125854907980633,
          0.281110100684088,
          0.3010730663815453,
          0.32115675375757874,
          0.341370835891513,
          0.36172538959493145,
          0.3822309371425837,
          0.4028984919811759,
          0.4237396089733445,
          0.4447664398194128,
          0.4659917944008472,
          0.4874292089100865,
          0.5090930217758404,
          0.5309984585663383,
          0.553161727262012,
          0.5756001255421157,
          0.5983321620375304,
          0.6213776938780912,
          0.6447580833248175,
          0.668496376848144,
          0.6926175107223087,
          0.717148548092433,
          0.742118953586068,
          0.7675609129539825,
          0.7935097070283725,
          0.8200041516065739,
          0.8470871178776481,
          0.8748061519479718,
          0.9032142172269347,
          0.9323705903834314,
          0.9623419509665685,
          0.9932037176048183,
          1.0250417014463717,
          1.0579541724242603,
          1.0920544694673433,
          1.1274743373229812,
          1.1643682488312117,
          1.2029190864185093,
          1.2433457340271463,
          1.2859134118557967,
          1.3309480449865987,
          1.378856730654066,
          1.4301577248003308,
          1.4855258530384319,
          1.545864049227724,
          1.612421593855674,
          1.6870015525016093,
          1.7723536065008703,
          1.8729977022308688,
          1.9972178140451926,
          2.163088789880999,
          2.4259784794809534
         ],
         "xaxis": "x4",
         "y": [
          -22.425400000000025,
          -20.399400000000014,
          -17.143500000000017,
          -16.932999999999993,
          -12.477599999999995,
          -10.884999999999991,
          -9.367200000000025,
          -9.359699999999975,
          -9.310699999999997,
          -8.617999999999995,
          -7.973799999999983,
          -7.650800000000004,
          -7.477100000000007,
          -7.0353000000000065,
          -6.942599999999999,
          -6.68010000000001,
          -6.629799999999989,
          -6.620200000000011,
          -6.599899999999991,
          -6.413800000000009,
          -6.231299999999976,
          -5.8577999999999975,
          -5.783200000000022,
          -5.777600000000007,
          -5.738400000000013,
          -5.5131000000000085,
          -5.204599999999999,
          -5.174499999999995,
          -5.026400000000024,
          -4.673099999999977,
          -4.0660000000000025,
          -3.7807999999999993,
          -3.4861999999999966,
          -3.3680999999999983,
          -3.1544000000000096,
          -2.9225999999999885,
          -2.917100000000005,
          -2.6637000000000057,
          -2.585300000000018,
          -2.1038000000000068,
          -2.0560999999999865,
          -1.8702000000000112,
          -1.7235000000000014,
          -1.374900000000025,
          -1.3351999999999862,
          -0.7409999999999854,
          -0.5956000000000046,
          -0.47980000000001155,
          -0.4390000000000214,
          -0.329400000000021,
          -0.1752999999999929,
          -0.13110000000000355,
          -0.11719999999999686,
          0.19990000000001373,
          0.21629999999998972,
          0.26669999999998595,
          0.34780000000000655,
          0.5162000000000262,
          0.5305999999999926,
          0.7161000000000115,
          0.7316999999999894,
          0.7375000000000114,
          0.8713999999999942,
          0.8777999999999793,
          0.9311999999999898,
          1.04140000000001,
          1.0486999999999966,
          1.2180999999999926,
          1.2683999999999855,
          1.4200999999999908,
          1.4558000000000106,
          1.8504000000000076,
          2.1835999999999984,
          2.2302999999999997,
          2.3625999999999863,
          2.412700000000001,
          2.5283000000000015,
          2.570600000000013,
          2.6567999999999756,
          2.8111000000000104,
          2.967999999999961,
          3.0541000000000054,
          3.2198999999999955,
          3.2327999999999975,
          3.7066000000000088,
          3.7660999999999945,
          3.7849999999999966,
          3.807900000000018,
          4.007499999999993,
          4.154200000000003,
          4.43040000000002,
          5.000400000000013,
          5.11930000000001,
          5.3740999999999985,
          5.566199999999981,
          5.727300000000014,
          6.2642999999999915,
          6.3349999999999795,
          6.826000000000022,
          7.004300000000001,
          7.8548999999999864,
          7.928799999999995,
          8.2303,
          8.308499999999981,
          8.880200000000002,
          9.095899999999972,
          9.235000000000014,
          9.349199999999996,
          9.427999999999997,
          9.890299999999996,
          11.099700000000013,
          11.712400000000002,
          11.96270000000004,
          12.035300000000007,
          12.119899999999973,
          12.161900000000003,
          12.78109999999998,
          13.028400000000005,
          13.089800000000025,
          13.410900000000026,
          13.87439999999998,
          14.593200000000024,
          15.711600000000004,
          17.688999999999993,
          18.892999999999972,
          18.9461,
          21.288999999999987,
          22.021000000000015,
          23.256100000000004,
          25.663900000000012
         ],
         "yaxis": "y4"
        },
        {
         "line": {
          "color": "#3f3f3f"
         },
         "mode": "lines",
         "name": "STLF",
         "showlegend": false,
         "type": "scattergl",
         "x": [
          -2.425978479480954,
          -2.1630887898809994,
          -1.9972178140451935,
          -1.8729977022308695,
          -1.7723536065008698,
          -1.6870015525016093,
          -1.612421593855674,
          -1.545864049227724,
          -1.4855258530384319,
          -1.4301577248003308,
          -1.3788567306540664,
          -1.3309480449865991,
          -1.2859134118557967,
          -1.2433457340271463,
          -1.2029190864185093,
          -1.1643682488312117,
          -1.1274743373229812,
          -1.0920544694673433,
          -1.0579541724242603,
          -1.0250417014463717,
          -0.9932037176048187,
          -0.9623419509665682,
          -0.9323705903834314,
          -0.9032142172269347,
          -0.8748061519479718,
          -0.8470871178776481,
          -0.8200041516065739,
          -0.7935097070283725,
          -0.7675609129539825,
          -0.7421189535860683,
          -0.7171485480924329,
          -0.6926175107223087,
          -0.668496376848144,
          -0.6447580833248175,
          -0.6213776938780912,
          -0.5983321620375304,
          -0.5756001255421157,
          -0.5531617272620122,
          -0.5309984585663384,
          -0.5090930217758403,
          -0.4874292089100864,
          -0.4659917944008472,
          -0.4447664398194128,
          -0.4237396089733445,
          -0.4028984919811759,
          -0.38223093714258394,
          -0.36172538959493156,
          -0.3413708358915132,
          -0.3211567537575786,
          -0.30107306638154513,
          -0.281110100684088,
          -0.26125854907980633,
          -0.24150943430710659,
          -0.22185407695363235,
          -0.202284065348496,
          -0.18279122752992422,
          -0.1633676050287281,
          -0.14400542823505125,
          -0.12469709313882915,
          -0.10543513925384881,
          -0.08621222855170138,
          -0.06702112524563479,
          -0.04785467627566239,
          -0.02870579235549915,
          -0.009567429449189264,
          0.009567429449189126,
          0.028705792355499006,
          0.04785467627566239,
          0.06702112524563479,
          0.08621222855170138,
          0.10543513925384881,
          0.12469709313882915,
          0.14400542823505139,
          0.16336760502872824,
          0.18279122752992408,
          0.20228406534849586,
          0.22185407695363235,
          0.24150943430710659,
          0.26125854907980633,
          0.281110100684088,
          0.3010730663815453,
          0.32115675375757874,
          0.341370835891513,
          0.36172538959493145,
          0.3822309371425837,
          0.4028984919811759,
          0.4237396089733445,
          0.4447664398194128,
          0.4659917944008472,
          0.4874292089100865,
          0.5090930217758404,
          0.5309984585663383,
          0.553161727262012,
          0.5756001255421157,
          0.5983321620375304,
          0.6213776938780912,
          0.6447580833248175,
          0.668496376848144,
          0.6926175107223087,
          0.717148548092433,
          0.742118953586068,
          0.7675609129539825,
          0.7935097070283725,
          0.8200041516065739,
          0.8470871178776481,
          0.8748061519479718,
          0.9032142172269347,
          0.9323705903834314,
          0.9623419509665685,
          0.9932037176048183,
          1.0250417014463717,
          1.0579541724242603,
          1.0920544694673433,
          1.1274743373229812,
          1.1643682488312117,
          1.2029190864185093,
          1.2433457340271463,
          1.2859134118557967,
          1.3309480449865987,
          1.378856730654066,
          1.4301577248003308,
          1.4855258530384319,
          1.545864049227724,
          1.612421593855674,
          1.6870015525016093,
          1.7723536065008703,
          1.8729977022308688,
          1.9972178140451926,
          2.163088789880999,
          2.4259784794809534
         ],
         "xaxis": "x4",
         "y": [
          -18.74284209700924,
          -16.52127008162318,
          -15.119563081845623,
          -14.069830303908342,
          -13.219328685043628,
          -12.498053784879152,
          -11.867809406377333,
          -11.305359130053189,
          -10.795465994582619,
          -10.32757284736467,
          -9.894049367876926,
          -9.489192884023437,
          -9.108623829227817,
          -8.748901993167967,
          -8.407273117802452,
          -8.081495936947777,
          -7.769720752955058,
          -7.4704021020924145,
          -7.182234598290551,
          -6.904104921189301,
          -6.635055290386587,
          -6.3742552673303585,
          -6.120979697505375,
          -5.874591249281357,
          -5.634526441372605,
          -5.4002843511716865,
          -5.1714174068155945,
          -4.947523815828071,
          -4.728241291525184,
          -4.513241817660852,
          -4.30222725051705,
          -4.094925601628546,
          -3.891087877616739,
          -3.690485379037611,
          -3.492907379753138,
          -3.2981591235754752,
          -3.1060600868738213,
          -2.916442465258381,
          -2.72914984994617,
          -2.5440360654054643,
          -2.3609641446985075,
          -2.179805422846658,
          -2.0004387317203687,
          -1.822749682556952,
          -1.6466300243472876,
          -1.471977068098825,
          -1.2986931684473995,
          -1.1266852553109123,
          -0.9558644092982724,
          -0.7861454754433403,
          -0.6174467105542727,
          -0.4496894600771808,
          -0.2827978608880246,
          -0.1166985668634537,
          0.04867950554748868,
          0.2134054142131958,
          0.3775464128645474,
          0.5411681592603308,
          0.704334911743997,
          0.8671097157983002,
          1.0295545820657501,
          1.1917306571869095,
          1.3536983887126695,
          1.5155176852687493,
          1.6772480730890562,
          1.8389488499878617,
          2.0006792378081686,
          2.16249853436425,
          2.3244662658900097,
          2.4866423410111693,
          2.649087207278619,
          2.8118620113329222,
          2.9750287638165895,
          3.138650510212373,
          3.3027915088637223,
          3.4675174175294297,
          3.632895489940373,
          3.798994783964944,
          3.9658863831541,
          4.133643633631192,
          4.302342398520261,
          4.472061332375193,
          4.64288217838783,
          4.814890091524318,
          4.988173991175742,
          5.162826947424207,
          5.338946605633871,
          5.516635654797288,
          5.696002345923578,
          5.877161067775427,
          6.060232988482384,
          6.245346773023088,
          6.432639388335298,
          6.62225700995074,
          6.814356046652394,
          7.009104302830057,
          7.20668230211453,
          7.407284800693658,
          7.611122524705465,
          7.81842417359397,
          8.029438740737769,
          8.244438214602104,
          8.46372073890499,
          8.687614329892513,
          8.916481274248605,
          9.150723364449524,
          9.390788172358276,
          9.637176620582295,
          9.89045219040728,
          10.151252213463502,
          10.42030184426622,
          10.69843152136747,
          10.986599025169333,
          11.285917676031977,
          11.597692860024695,
          11.923470040879371,
          12.265098916244886,
          12.624820752304736,
          13.005389807100352,
          13.410246290953841,
          13.84376977044159,
          14.311662917659538,
          14.821556053130108,
          15.384006329454252,
          16.014250707956073,
          16.73552560812055,
          17.586027226985255,
          18.635760004922535,
          20.037467004700094,
          22.259039020086156
         ],
         "yaxis": "y4"
        },
        {
         "line": {
          "color": "#3f3f3f"
         },
         "mode": "lines",
         "name": "ACF",
         "showlegend": false,
         "type": "scattergl",
         "x": [
          0,
          0
         ],
         "xaxis": "x5",
         "y": [
          0,
          1
         ],
         "yaxis": "y5"
        },
        {
         "line": {
          "color": "#3f3f3f"
         },
         "mode": "lines",
         "name": "ACF",
         "showlegend": false,
         "type": "scattergl",
         "x": [
          1,
          1
         ],
         "xaxis": "x5",
         "y": [
          0,
          0.419999876950072
         ],
         "yaxis": "y5"
        },
        {
         "line": {
          "color": "#3f3f3f"
         },
         "mode": "lines",
         "name": "ACF",
         "showlegend": false,
         "type": "scattergl",
         "x": [
          2,
          2
         ],
         "xaxis": "x5",
         "y": [
          0,
          0.1742680135616083
         ],
         "yaxis": "y5"
        },
        {
         "line": {
          "color": "#3f3f3f"
         },
         "mode": "lines",
         "name": "ACF",
         "showlegend": false,
         "type": "scattergl",
         "x": [
          3,
          3
         ],
         "xaxis": "x5",
         "y": [
          0,
          -0.11043345032592668
         ],
         "yaxis": "y5"
        },
        {
         "line": {
          "color": "#3f3f3f"
         },
         "mode": "lines",
         "name": "ACF",
         "showlegend": false,
         "type": "scattergl",
         "x": [
          4,
          4
         ],
         "xaxis": "x5",
         "y": [
          0,
          -0.2695940021069744
         ],
         "yaxis": "y5"
        },
        {
         "line": {
          "color": "#3f3f3f"
         },
         "mode": "lines",
         "name": "ACF",
         "showlegend": false,
         "type": "scattergl",
         "x": [
          5,
          5
         ],
         "xaxis": "x5",
         "y": [
          0,
          -0.23369119659547696
         ],
         "yaxis": "y5"
        },
        {
         "line": {
          "color": "#3f3f3f"
         },
         "mode": "lines",
         "name": "ACF",
         "showlegend": false,
         "type": "scattergl",
         "x": [
          6,
          6
         ],
         "xaxis": "x5",
         "y": [
          0,
          -0.26476298733083076
         ],
         "yaxis": "y5"
        },
        {
         "line": {
          "color": "#3f3f3f"
         },
         "mode": "lines",
         "name": "ACF",
         "showlegend": false,
         "type": "scattergl",
         "x": [
          7,
          7
         ],
         "xaxis": "x5",
         "y": [
          0,
          -0.25262736879887276
         ],
         "yaxis": "y5"
        },
        {
         "line": {
          "color": "#3f3f3f"
         },
         "mode": "lines",
         "name": "ACF",
         "showlegend": false,
         "type": "scattergl",
         "x": [
          8,
          8
         ],
         "xaxis": "x5",
         "y": [
          0,
          -0.2131853245326504
         ],
         "yaxis": "y5"
        },
        {
         "line": {
          "color": "#3f3f3f"
         },
         "mode": "lines",
         "name": "ACF",
         "showlegend": false,
         "type": "scattergl",
         "x": [
          9,
          9
         ],
         "xaxis": "x5",
         "y": [
          0,
          -0.011934999510597701
         ],
         "yaxis": "y5"
        },
        {
         "line": {
          "color": "#3f3f3f"
         },
         "mode": "lines",
         "name": "ACF",
         "showlegend": false,
         "type": "scattergl",
         "x": [
          10,
          10
         ],
         "xaxis": "x5",
         "y": [
          0,
          0.01921465469431824
         ],
         "yaxis": "y5"
        },
        {
         "line": {
          "color": "#3f3f3f"
         },
         "mode": "lines",
         "name": "ACF",
         "showlegend": false,
         "type": "scattergl",
         "x": [
          11,
          11
         ],
         "xaxis": "x5",
         "y": [
          0,
          0.24099599121482312
         ],
         "yaxis": "y5"
        },
        {
         "line": {
          "color": "#3f3f3f"
         },
         "mode": "lines",
         "name": "ACF",
         "showlegend": false,
         "type": "scattergl",
         "x": [
          12,
          12
         ],
         "xaxis": "x5",
         "y": [
          0,
          0.29982621033217177
         ],
         "yaxis": "y5"
        },
        {
         "line": {
          "color": "#3f3f3f"
         },
         "mode": "lines",
         "name": "ACF",
         "showlegend": false,
         "type": "scattergl",
         "x": [
          13,
          13
         ],
         "xaxis": "x5",
         "y": [
          0,
          0.2508510550371102
         ],
         "yaxis": "y5"
        },
        {
         "line": {
          "color": "#3f3f3f"
         },
         "mode": "lines",
         "name": "ACF",
         "showlegend": false,
         "type": "scattergl",
         "x": [
          14,
          14
         ],
         "xaxis": "x5",
         "y": [
          0,
          0.14412134416889977
         ],
         "yaxis": "y5"
        },
        {
         "line": {
          "color": "#3f3f3f"
         },
         "mode": "lines",
         "name": "ACF",
         "showlegend": false,
         "type": "scattergl",
         "x": [
          15,
          15
         ],
         "xaxis": "x5",
         "y": [
          0,
          -0.020251059771707
         ],
         "yaxis": "y5"
        },
        {
         "line": {
          "color": "#3f3f3f"
         },
         "mode": "lines",
         "name": "ACF",
         "showlegend": false,
         "type": "scattergl",
         "x": [
          16,
          16
         ],
         "xaxis": "x5",
         "y": [
          0,
          -0.18467475643765438
         ],
         "yaxis": "y5"
        },
        {
         "line": {
          "color": "#3f3f3f"
         },
         "mode": "lines",
         "name": "ACF",
         "showlegend": false,
         "type": "scattergl",
         "x": [
          17,
          17
         ],
         "xaxis": "x5",
         "y": [
          0,
          -0.20912398640181473
         ],
         "yaxis": "y5"
        },
        {
         "line": {
          "color": "#3f3f3f"
         },
         "mode": "lines",
         "name": "ACF",
         "showlegend": false,
         "type": "scattergl",
         "x": [
          18,
          18
         ],
         "xaxis": "x5",
         "y": [
          0,
          -0.2329923485784691
         ],
         "yaxis": "y5"
        },
        {
         "line": {
          "color": "#3f3f3f"
         },
         "mode": "lines",
         "name": "ACF",
         "showlegend": false,
         "type": "scattergl",
         "x": [
          19,
          19
         ],
         "xaxis": "x5",
         "y": [
          0,
          -0.3049503988532859
         ],
         "yaxis": "y5"
        },
        {
         "line": {
          "color": "#3f3f3f"
         },
         "mode": "lines",
         "name": "ACF",
         "showlegend": false,
         "type": "scattergl",
         "x": [
          20,
          20
         ],
         "xaxis": "x5",
         "y": [
          0,
          -0.21815125736345253
         ],
         "yaxis": "y5"
        },
        {
         "line": {
          "color": "#3f3f3f"
         },
         "mode": "lines",
         "name": "ACF",
         "showlegend": false,
         "type": "scattergl",
         "x": [
          21,
          21
         ],
         "xaxis": "x5",
         "y": [
          0,
          -0.06554866880836425
         ],
         "yaxis": "y5"
        },
        {
         "line": {
          "color": "#3f3f3f"
         },
         "mode": "lines",
         "name": "ACF",
         "showlegend": false,
         "type": "scattergl",
         "x": [
          22,
          22
         ],
         "xaxis": "x5",
         "y": [
          0,
          0.07031899175804837
         ],
         "yaxis": "y5"
        },
        {
         "line": {
          "color": "#3f3f3f"
         },
         "mode": "lines",
         "name": "ACF",
         "showlegend": false,
         "type": "scattergl",
         "x": [
          23,
          23
         ],
         "xaxis": "x5",
         "y": [
          0,
          0.3826827443934582
         ],
         "yaxis": "y5"
        },
        {
         "line": {
          "color": "#3f3f3f"
         },
         "mode": "lines",
         "name": "ACF",
         "showlegend": false,
         "type": "scattergl",
         "x": [
          24,
          24
         ],
         "xaxis": "x5",
         "y": [
          0,
          0.34046622971067714
         ],
         "yaxis": "y5"
        },
        {
         "line": {
          "color": "#3f3f3f"
         },
         "mode": "lines",
         "name": "ACF",
         "showlegend": false,
         "type": "scattergl",
         "x": [
          25,
          25
         ],
         "xaxis": "x5",
         "y": [
          0,
          0.2524445834546773
         ],
         "yaxis": "y5"
        },
        {
         "line": {
          "color": "#3f3f3f"
         },
         "mode": "lines",
         "name": "ACF",
         "showlegend": false,
         "type": "scattergl",
         "x": [
          26,
          26
         ],
         "xaxis": "x5",
         "y": [
          0,
          0.10018464074775507
         ],
         "yaxis": "y5"
        },
        {
         "line": {
          "color": "#3f3f3f"
         },
         "mode": "lines",
         "name": "ACF",
         "showlegend": false,
         "type": "scattergl",
         "x": [
          27,
          27
         ],
         "xaxis": "x5",
         "y": [
          0,
          -0.09037514988142871
         ],
         "yaxis": "y5"
        },
        {
         "line": {
          "color": "#3f3f3f"
         },
         "mode": "lines",
         "name": "ACF",
         "showlegend": false,
         "type": "scattergl",
         "x": [
          28,
          28
         ],
         "xaxis": "x5",
         "y": [
          0,
          -0.1717874286400206
         ],
         "yaxis": "y5"
        },
        {
         "line": {
          "color": "#3f3f3f"
         },
         "mode": "lines",
         "name": "ACF",
         "showlegend": false,
         "type": "scattergl",
         "x": [
          29,
          29
         ],
         "xaxis": "x5",
         "y": [
          0,
          -0.22245970214837918
         ],
         "yaxis": "y5"
        },
        {
         "line": {
          "color": "#3f3f3f"
         },
         "mode": "lines",
         "name": "ACF",
         "showlegend": false,
         "type": "scattergl",
         "x": [
          30,
          30
         ],
         "xaxis": "x5",
         "y": [
          0,
          -0.25532831277012175
         ],
         "yaxis": "y5"
        },
        {
         "line": {
          "color": "#3f3f3f"
         },
         "mode": "lines",
         "name": "ACF",
         "showlegend": false,
         "type": "scattergl",
         "x": [
          31,
          31
         ],
         "xaxis": "x5",
         "y": [
          0,
          -0.23589370837575724
         ],
         "yaxis": "y5"
        },
        {
         "line": {
          "color": "#3f3f3f"
         },
         "mode": "lines",
         "name": "ACF",
         "showlegend": false,
         "type": "scattergl",
         "x": [
          32,
          32
         ],
         "xaxis": "x5",
         "y": [
          0,
          -0.11180564964396195
         ],
         "yaxis": "y5"
        },
        {
         "line": {
          "color": "#3f3f3f"
         },
         "mode": "lines",
         "name": "ACF",
         "showlegend": false,
         "type": "scattergl",
         "x": [
          33,
          33
         ],
         "xaxis": "x5",
         "y": [
          0,
          -0.10979339445513976
         ],
         "yaxis": "y5"
        },
        {
         "line": {
          "color": "#3f3f3f"
         },
         "mode": "lines",
         "name": "ACF",
         "showlegend": false,
         "type": "scattergl",
         "x": [
          34,
          34
         ],
         "xaxis": "x5",
         "y": [
          0,
          0.06675052470395466
         ],
         "yaxis": "y5"
        },
        {
         "line": {
          "color": "#3f3f3f"
         },
         "mode": "lines",
         "name": "ACF",
         "showlegend": false,
         "type": "scattergl",
         "x": [
          35,
          35
         ],
         "xaxis": "x5",
         "y": [
          0,
          0.203882890903905
         ],
         "yaxis": "y5"
        },
        {
         "line": {
          "color": "#3f3f3f"
         },
         "mode": "lines",
         "name": "ACF",
         "showlegend": false,
         "type": "scattergl",
         "x": [
          36,
          36
         ],
         "xaxis": "x5",
         "y": [
          0,
          0.2521710733838222
         ],
         "yaxis": "y5"
        },
        {
         "line": {
          "color": "#3f3f3f"
         },
         "mode": "lines",
         "name": "ACF",
         "showlegend": false,
         "type": "scattergl",
         "x": [
          37,
          37
         ],
         "xaxis": "x5",
         "y": [
          0,
          0.3083574909648843
         ],
         "yaxis": "y5"
        },
        {
         "line": {
          "color": "#3f3f3f"
         },
         "mode": "lines",
         "name": "ACF",
         "showlegend": false,
         "type": "scattergl",
         "x": [
          38,
          38
         ],
         "xaxis": "x5",
         "y": [
          0,
          0.10711374044279433
         ],
         "yaxis": "y5"
        },
        {
         "line": {
          "color": "#3f3f3f"
         },
         "mode": "lines",
         "name": "ACF",
         "showlegend": false,
         "type": "scattergl",
         "x": [
          39,
          39
         ],
         "xaxis": "x5",
         "y": [
          0,
          -0.04474303242368493
         ],
         "yaxis": "y5"
        },
        {
         "line": {
          "color": "#3f3f3f"
         },
         "mode": "lines",
         "name": "ACF",
         "showlegend": false,
         "type": "scattergl",
         "x": [
          40,
          40
         ],
         "xaxis": "x5",
         "y": [
          0,
          -0.1097712501908549
         ],
         "yaxis": "y5"
        },
        {
         "marker": {
          "color": "#1f77b4",
          "size": 6
         },
         "mode": "markers",
         "name": "ACF",
         "showlegend": false,
         "type": "scattergl",
         "x": [
          0,
          1,
          2,
          3,
          4,
          5,
          6,
          7,
          8,
          9,
          10,
          11,
          12,
          13,
          14,
          15,
          16,
          17,
          18,
          19,
          20,
          21,
          22,
          23,
          24,
          25,
          26,
          27,
          28,
          29,
          30,
          31,
          32,
          33,
          34,
          35,
          36,
          37,
          38,
          39,
          40
         ],
         "xaxis": "x5",
         "y": [
          1,
          0.419999876950072,
          0.1742680135616083,
          -0.11043345032592668,
          -0.2695940021069744,
          -0.23369119659547696,
          -0.26476298733083076,
          -0.25262736879887276,
          -0.2131853245326504,
          -0.011934999510597701,
          0.01921465469431824,
          0.24099599121482312,
          0.29982621033217177,
          0.2508510550371102,
          0.14412134416889977,
          -0.020251059771707,
          -0.18467475643765438,
          -0.20912398640181473,
          -0.2329923485784691,
          -0.3049503988532859,
          -0.21815125736345253,
          -0.06554866880836425,
          0.07031899175804837,
          0.3826827443934582,
          0.34046622971067714,
          0.2524445834546773,
          0.10018464074775507,
          -0.09037514988142871,
          -0.1717874286400206,
          -0.22245970214837918,
          -0.25532831277012175,
          -0.23589370837575724,
          -0.11180564964396195,
          -0.10979339445513976,
          0.06675052470395466,
          0.203882890903905,
          0.2521710733838222,
          0.3083574909648843,
          0.10711374044279433,
          -0.04474303242368493,
          -0.1097712501908549
         ],
         "yaxis": "y5"
        },
        {
         "line": {
          "color": "rgba(255,255,255,0)"
         },
         "mode": "lines",
         "name": "UC",
         "showlegend": false,
         "type": "scatter",
         "x": [
          0,
          1,
          2,
          3,
          4,
          5,
          6,
          7,
          8,
          9,
          10,
          11,
          12,
          13,
          14,
          15,
          16,
          17,
          18,
          19,
          20,
          21,
          22,
          23,
          24,
          25,
          26,
          27,
          28,
          29,
          30,
          31,
          32,
          33,
          34,
          35,
          36,
          37,
          38,
          39,
          40
         ],
         "xaxis": "x5",
         "y": [
          0,
          0.1719002130193813,
          0.19993700351156493,
          0.2043761584919079,
          0.20613190742456436,
          0.21630016166903754,
          0.2236364671609831,
          0.23271463621012203,
          0.2406820686996625,
          0.246198710744834,
          0.24621580683453928,
          0.24626011288051625,
          0.2531333231858561,
          0.2634184153756585,
          0.27038521256839504,
          0.27264576626406145,
          0.27269021037128743,
          0.27636121449443674,
          0.2809984058934593,
          0.2866502030385719,
          0.2960815250260668,
          0.3007936279304593,
          0.3012154288799015,
          0.3017001273023101,
          0.3157179715084139,
          0.3263870000211025,
          0.33210657029203644,
          0.3329984266343202,
          0.33372242377237593,
          0.33632533779403434,
          0.3406456533520882,
          0.34625467418062605,
          0.3509714139076496,
          0.3520223078236576,
          0.35303275174693943,
          0.35340550203251064,
          0.35686426707438407,
          0.36209149205444424,
          0.36976975674827695,
          0.3706855013652922,
          0.3708450542290226
         ],
         "yaxis": "y5"
        },
        {
         "fill": "tonexty",
         "fillcolor": "rgba(32, 146, 230,0.3)",
         "line": {
          "color": "rgba(255,255,255,0)"
         },
         "mode": "lines",
         "name": "LC",
         "showlegend": false,
         "type": "scatter",
         "x": [
          0,
          1,
          2,
          3,
          4,
          5,
          6,
          7,
          8,
          9,
          10,
          11,
          12,
          13,
          14,
          15,
          16,
          17,
          18,
          19,
          20,
          21,
          22,
          23,
          24,
          25,
          26,
          27,
          28,
          29,
          30,
          31,
          32,
          33,
          34,
          35,
          36,
          37,
          38,
          39,
          40
         ],
         "xaxis": "x5",
         "y": [
          0,
          -0.17190021301938124,
          -0.19993700351156496,
          -0.20437615849190793,
          -0.20613190742456433,
          -0.21630016166903757,
          -0.22363646716098312,
          -0.23271463621012206,
          -0.2406820686996625,
          -0.246198710744834,
          -0.24621580683453928,
          -0.24626011288051625,
          -0.2531333231858561,
          -0.2634184153756585,
          -0.27038521256839504,
          -0.27264576626406145,
          -0.2726902103712874,
          -0.27636121449443674,
          -0.28099840589345937,
          -0.2866502030385719,
          -0.2960815250260669,
          -0.3007936279304593,
          -0.3012154288799015,
          -0.30170012730231016,
          -0.31571797150841396,
          -0.32638700002110255,
          -0.33210657029203644,
          -0.3329984266343202,
          -0.33372242377237593,
          -0.3363253377940343,
          -0.34064565335208813,
          -0.3462546741806261,
          -0.3509714139076496,
          -0.3520223078236576,
          -0.35303275174693943,
          -0.3534055020325107,
          -0.35686426707438407,
          -0.36209149205444424,
          -0.36976975674827695,
          -0.3706855013652922,
          -0.3708450542290226
         ],
         "yaxis": "y5"
        },
        {
         "line": {
          "color": "#3f3f3f"
         },
         "mode": "lines",
         "name": "PACF",
         "showlegend": false,
         "type": "scattergl",
         "x": [
          0,
          0
         ],
         "xaxis": "x6",
         "y": [
          0,
          1
         ],
         "yaxis": "y6"
        },
        {
         "line": {
          "color": "#3f3f3f"
         },
         "mode": "lines",
         "name": "PACF",
         "showlegend": false,
         "type": "scattergl",
         "x": [
          1,
          1
         ],
         "xaxis": "x6",
         "y": [
          0,
          0.42325568994968493
         ],
         "yaxis": "y6"
        },
        {
         "line": {
          "color": "#3f3f3f"
         },
         "mode": "lines",
         "name": "PACF",
         "showlegend": false,
         "type": "scattergl",
         "x": [
          2,
          2
         ],
         "xaxis": "x6",
         "y": [
          0,
          -0.0026246155486668856
         ],
         "yaxis": "y6"
        },
        {
         "line": {
          "color": "#3f3f3f"
         },
         "mode": "lines",
         "name": "PACF",
         "showlegend": false,
         "type": "scattergl",
         "x": [
          3,
          3
         ],
         "xaxis": "x6",
         "y": [
          0,
          -0.22786198462796592
         ],
         "yaxis": "y6"
        },
        {
         "line": {
          "color": "#3f3f3f"
         },
         "mode": "lines",
         "name": "PACF",
         "showlegend": false,
         "type": "scattergl",
         "x": [
          4,
          4
         ],
         "xaxis": "x6",
         "y": [
          0,
          -0.19332974904230724
         ],
         "yaxis": "y6"
        },
        {
         "line": {
          "color": "#3f3f3f"
         },
         "mode": "lines",
         "name": "PACF",
         "showlegend": false,
         "type": "scattergl",
         "x": [
          5,
          5
         ],
         "xaxis": "x6",
         "y": [
          0,
          -0.022789735221010875
         ],
         "yaxis": "y6"
        },
        {
         "line": {
          "color": "#3f3f3f"
         },
         "mode": "lines",
         "name": "PACF",
         "showlegend": false,
         "type": "scattergl",
         "x": [
          6,
          6
         ],
         "xaxis": "x6",
         "y": [
          0,
          -0.173534803888067
         ],
         "yaxis": "y6"
        },
        {
         "line": {
          "color": "#3f3f3f"
         },
         "mode": "lines",
         "name": "PACF",
         "showlegend": false,
         "type": "scattergl",
         "x": [
          7,
          7
         ],
         "xaxis": "x6",
         "y": [
          0,
          -0.1994262212649355
         ],
         "yaxis": "y6"
        },
        {
         "line": {
          "color": "#3f3f3f"
         },
         "mode": "lines",
         "name": "PACF",
         "showlegend": false,
         "type": "scattergl",
         "x": [
          8,
          8
         ],
         "xaxis": "x6",
         "y": [
          0,
          -0.1568902257318357
         ],
         "yaxis": "y6"
        },
        {
         "line": {
          "color": "#3f3f3f"
         },
         "mode": "lines",
         "name": "PACF",
         "showlegend": false,
         "type": "scattergl",
         "x": [
          9,
          9
         ],
         "xaxis": "x6",
         "y": [
          0,
          0.08181165355689747
         ],
         "yaxis": "y6"
        },
        {
         "line": {
          "color": "#3f3f3f"
         },
         "mode": "lines",
         "name": "PACF",
         "showlegend": false,
         "type": "scattergl",
         "x": [
          10,
          10
         ],
         "xaxis": "x6",
         "y": [
          0,
          -0.14637828261325508
         ],
         "yaxis": "y6"
        },
        {
         "line": {
          "color": "#3f3f3f"
         },
         "mode": "lines",
         "name": "PACF",
         "showlegend": false,
         "type": "scattergl",
         "x": [
          11,
          11
         ],
         "xaxis": "x6",
         "y": [
          0,
          0.15748031217003736
         ],
         "yaxis": "y6"
        },
        {
         "line": {
          "color": "#3f3f3f"
         },
         "mode": "lines",
         "name": "PACF",
         "showlegend": false,
         "type": "scattergl",
         "x": [
          12,
          12
         ],
         "xaxis": "x6",
         "y": [
          0,
          0.1270169217048584
         ],
         "yaxis": "y6"
        },
        {
         "line": {
          "color": "#3f3f3f"
         },
         "mode": "lines",
         "name": "PACF",
         "showlegend": false,
         "type": "scattergl",
         "x": [
          13,
          13
         ],
         "xaxis": "x6",
         "y": [
          0,
          0.03533259888233169
         ],
         "yaxis": "y6"
        },
        {
         "line": {
          "color": "#3f3f3f"
         },
         "mode": "lines",
         "name": "PACF",
         "showlegend": false,
         "type": "scattergl",
         "x": [
          14,
          14
         ],
         "xaxis": "x6",
         "y": [
          0,
          -0.04122326090910864
         ],
         "yaxis": "y6"
        },
        {
         "line": {
          "color": "#3f3f3f"
         },
         "mode": "lines",
         "name": "PACF",
         "showlegend": false,
         "type": "scattergl",
         "x": [
          15,
          15
         ],
         "xaxis": "x6",
         "y": [
          0,
          -0.0037853803240233633
         ],
         "yaxis": "y6"
        },
        {
         "line": {
          "color": "#3f3f3f"
         },
         "mode": "lines",
         "name": "PACF",
         "showlegend": false,
         "type": "scattergl",
         "x": [
          16,
          16
         ],
         "xaxis": "x6",
         "y": [
          0,
          -0.13942984187777135
         ],
         "yaxis": "y6"
        },
        {
         "line": {
          "color": "#3f3f3f"
         },
         "mode": "lines",
         "name": "PACF",
         "showlegend": false,
         "type": "scattergl",
         "x": [
          17,
          17
         ],
         "xaxis": "x6",
         "y": [
          0,
          -0.015741298106424745
         ],
         "yaxis": "y6"
        },
        {
         "line": {
          "color": "#3f3f3f"
         },
         "mode": "lines",
         "name": "PACF",
         "showlegend": false,
         "type": "scattergl",
         "x": [
          18,
          18
         ],
         "xaxis": "x6",
         "y": [
          0,
          -0.1079135910842805
         ],
         "yaxis": "y6"
        },
        {
         "line": {
          "color": "#3f3f3f"
         },
         "mode": "lines",
         "name": "PACF",
         "showlegend": false,
         "type": "scattergl",
         "x": [
          19,
          19
         ],
         "xaxis": "x6",
         "y": [
          0,
          -0.22572245824780943
         ],
         "yaxis": "y6"
        },
        {
         "line": {
          "color": "#3f3f3f"
         },
         "mode": "lines",
         "name": "PACF",
         "showlegend": false,
         "type": "scattergl",
         "x": [
          20,
          20
         ],
         "xaxis": "x6",
         "y": [
          0,
          -0.16283528087375487
         ],
         "yaxis": "y6"
        },
        {
         "line": {
          "color": "#3f3f3f"
         },
         "mode": "lines",
         "name": "PACF",
         "showlegend": false,
         "type": "scattergl",
         "x": [
          21,
          21
         ],
         "xaxis": "x6",
         "y": [
          0,
          0.04752734074034383
         ],
         "yaxis": "y6"
        },
        {
         "marker": {
          "color": "#1f77b4",
          "size": 6
         },
         "mode": "markers",
         "name": "PACF",
         "showlegend": false,
         "type": "scattergl",
         "x": [
          0,
          1,
          2,
          3,
          4,
          5,
          6,
          7,
          8,
          9,
          10,
          11,
          12,
          13,
          14,
          15,
          16,
          17,
          18,
          19,
          20,
          21
         ],
         "xaxis": "x6",
         "y": [
          1,
          0.42325568994968493,
          -0.0026246155486668856,
          -0.22786198462796592,
          -0.19332974904230724,
          -0.022789735221010875,
          -0.173534803888067,
          -0.1994262212649355,
          -0.1568902257318357,
          0.08181165355689747,
          -0.14637828261325508,
          0.15748031217003736,
          0.1270169217048584,
          0.03533259888233169,
          -0.04122326090910864,
          -0.0037853803240233633,
          -0.13942984187777135,
          -0.015741298106424745,
          -0.1079135910842805,
          -0.22572245824780943,
          -0.16283528087375487,
          0.04752734074034383
         ],
         "yaxis": "y6"
        },
        {
         "line": {
          "color": "rgba(255,255,255,0)"
         },
         "mode": "lines",
         "name": "UC",
         "showlegend": false,
         "type": "scatter",
         "x": [
          0,
          1,
          2,
          3,
          4,
          5,
          6,
          7,
          8,
          9,
          10,
          11,
          12,
          13,
          14,
          15,
          16,
          17,
          18,
          19,
          20,
          21
         ],
         "xaxis": "x6",
         "y": [
          0,
          0.17190021301938124,
          0.17190021301938124,
          0.17190021301938124,
          0.17190021301938124,
          0.17190021301938124,
          0.17190021301938124,
          0.17190021301938124,
          0.17190021301938124,
          0.17190021301938124,
          0.17190021301938124,
          0.17190021301938127,
          0.17190021301938124,
          0.17190021301938124,
          0.17190021301938124,
          0.17190021301938124,
          0.17190021301938124,
          0.17190021301938124,
          0.17190021301938124,
          0.17190021301938124,
          0.17190021301938124,
          0.17190021301938124
         ],
         "yaxis": "y6"
        },
        {
         "fill": "tonexty",
         "fillcolor": "rgba(32, 146, 230,0.3)",
         "line": {
          "color": "rgba(255,255,255,0)"
         },
         "mode": "lines",
         "name": "LC",
         "showlegend": false,
         "type": "scatter",
         "x": [
          0,
          1,
          2,
          3,
          4,
          5,
          6,
          7,
          8,
          9,
          10,
          11,
          12,
          13,
          14,
          15,
          16,
          17,
          18,
          19,
          20,
          21
         ],
         "xaxis": "x6",
         "y": [
          0,
          -0.17190021301938124,
          -0.17190021301938124,
          -0.17190021301938124,
          -0.17190021301938122,
          -0.17190021301938124,
          -0.17190021301938127,
          -0.17190021301938127,
          -0.17190021301938124,
          -0.17190021301938124,
          -0.17190021301938124,
          -0.17190021301938124,
          -0.17190021301938124,
          -0.17190021301938124,
          -0.17190021301938124,
          -0.17190021301938124,
          -0.17190021301938124,
          -0.17190021301938124,
          -0.17190021301938124,
          -0.17190021301938122,
          -0.17190021301938124,
          -0.17190021301938124
         ],
         "yaxis": "y6"
        }
       ],
       "layout": {
        "annotations": [
         {
          "font": {
           "size": 16
          },
          "showarrow": false,
          "text": "STLF Residuals",
          "x": 0.225,
          "xanchor": "center",
          "xref": "paper",
          "y": 1,
          "yanchor": "bottom",
          "yref": "paper"
         },
         {
          "font": {
           "size": 16
          },
          "showarrow": false,
          "text": "Periodogram",
          "x": 0.775,
          "xanchor": "center",
          "xref": "paper",
          "y": 1,
          "yanchor": "bottom",
          "yref": "paper"
         },
         {
          "font": {
           "size": 16
          },
          "showarrow": false,
          "text": "Histogram",
          "x": 0.225,
          "xanchor": "center",
          "xref": "paper",
          "y": 0.6111111111111112,
          "yanchor": "bottom",
          "yref": "paper"
         },
         {
          "font": {
           "size": 16
          },
          "showarrow": false,
          "text": "Q-Q Plot",
          "x": 0.775,
          "xanchor": "center",
          "xref": "paper",
          "y": 0.6111111111111112,
          "yanchor": "bottom",
          "yref": "paper"
         },
         {
          "font": {
           "size": 16
          },
          "showarrow": false,
          "text": "ACF",
          "x": 0.225,
          "xanchor": "center",
          "xref": "paper",
          "y": 0.22222222222222227,
          "yanchor": "bottom",
          "yref": "paper"
         },
         {
          "font": {
           "size": 16
          },
          "showarrow": false,
          "text": "PACF",
          "x": 0.775,
          "xanchor": "center",
          "xref": "paper",
          "y": 0.22222222222222227,
          "yanchor": "bottom",
          "yref": "paper"
         }
        ],
        "showlegend": false,
        "template": {
         "data": {
          "bar": [
           {
            "error_x": {
             "color": "rgb(51,51,51)"
            },
            "error_y": {
             "color": "rgb(51,51,51)"
            },
            "marker": {
             "line": {
              "color": "rgb(237,237,237)",
              "width": 0.5
             },
             "pattern": {
              "fillmode": "overlay",
              "size": 10,
              "solidity": 0.2
             }
            },
            "type": "bar"
           }
          ],
          "barpolar": [
           {
            "marker": {
             "line": {
              "color": "rgb(237,237,237)",
              "width": 0.5
             },
             "pattern": {
              "fillmode": "overlay",
              "size": 10,
              "solidity": 0.2
             }
            },
            "type": "barpolar"
           }
          ],
          "carpet": [
           {
            "aaxis": {
             "endlinecolor": "rgb(51,51,51)",
             "gridcolor": "white",
             "linecolor": "white",
             "minorgridcolor": "white",
             "startlinecolor": "rgb(51,51,51)"
            },
            "baxis": {
             "endlinecolor": "rgb(51,51,51)",
             "gridcolor": "white",
             "linecolor": "white",
             "minorgridcolor": "white",
             "startlinecolor": "rgb(51,51,51)"
            },
            "type": "carpet"
           }
          ],
          "choropleth": [
           {
            "colorbar": {
             "outlinewidth": 0,
             "tickcolor": "rgb(237,237,237)",
             "ticklen": 6,
             "ticks": "inside"
            },
            "type": "choropleth"
           }
          ],
          "contour": [
           {
            "colorbar": {
             "outlinewidth": 0,
             "tickcolor": "rgb(237,237,237)",
             "ticklen": 6,
             "ticks": "inside"
            },
            "colorscale": [
             [
              0,
              "rgb(20,44,66)"
             ],
             [
              1,
              "rgb(90,179,244)"
             ]
            ],
            "type": "contour"
           }
          ],
          "contourcarpet": [
           {
            "colorbar": {
             "outlinewidth": 0,
             "tickcolor": "rgb(237,237,237)",
             "ticklen": 6,
             "ticks": "inside"
            },
            "type": "contourcarpet"
           }
          ],
          "heatmap": [
           {
            "colorbar": {
             "outlinewidth": 0,
             "tickcolor": "rgb(237,237,237)",
             "ticklen": 6,
             "ticks": "inside"
            },
            "colorscale": [
             [
              0,
              "rgb(20,44,66)"
             ],
             [
              1,
              "rgb(90,179,244)"
             ]
            ],
            "type": "heatmap"
           }
          ],
          "heatmapgl": [
           {
            "colorbar": {
             "outlinewidth": 0,
             "tickcolor": "rgb(237,237,237)",
             "ticklen": 6,
             "ticks": "inside"
            },
            "colorscale": [
             [
              0,
              "rgb(20,44,66)"
             ],
             [
              1,
              "rgb(90,179,244)"
             ]
            ],
            "type": "heatmapgl"
           }
          ],
          "histogram": [
           {
            "marker": {
             "pattern": {
              "fillmode": "overlay",
              "size": 10,
              "solidity": 0.2
             }
            },
            "type": "histogram"
           }
          ],
          "histogram2d": [
           {
            "colorbar": {
             "outlinewidth": 0,
             "tickcolor": "rgb(237,237,237)",
             "ticklen": 6,
             "ticks": "inside"
            },
            "colorscale": [
             [
              0,
              "rgb(20,44,66)"
             ],
             [
              1,
              "rgb(90,179,244)"
             ]
            ],
            "type": "histogram2d"
           }
          ],
          "histogram2dcontour": [
           {
            "colorbar": {
             "outlinewidth": 0,
             "tickcolor": "rgb(237,237,237)",
             "ticklen": 6,
             "ticks": "inside"
            },
            "colorscale": [
             [
              0,
              "rgb(20,44,66)"
             ],
             [
              1,
              "rgb(90,179,244)"
             ]
            ],
            "type": "histogram2dcontour"
           }
          ],
          "mesh3d": [
           {
            "colorbar": {
             "outlinewidth": 0,
             "tickcolor": "rgb(237,237,237)",
             "ticklen": 6,
             "ticks": "inside"
            },
            "type": "mesh3d"
           }
          ],
          "parcoords": [
           {
            "line": {
             "colorbar": {
              "outlinewidth": 0,
              "tickcolor": "rgb(237,237,237)",
              "ticklen": 6,
              "ticks": "inside"
             }
            },
            "type": "parcoords"
           }
          ],
          "pie": [
           {
            "automargin": true,
            "type": "pie"
           }
          ],
          "scatter": [
           {
            "fillpattern": {
             "fillmode": "overlay",
             "size": 10,
             "solidity": 0.2
            },
            "type": "scatter"
           }
          ],
          "scatter3d": [
           {
            "line": {
             "colorbar": {
              "outlinewidth": 0,
              "tickcolor": "rgb(237,237,237)",
              "ticklen": 6,
              "ticks": "inside"
             }
            },
            "marker": {
             "colorbar": {
              "outlinewidth": 0,
              "tickcolor": "rgb(237,237,237)",
              "ticklen": 6,
              "ticks": "inside"
             }
            },
            "type": "scatter3d"
           }
          ],
          "scattercarpet": [
           {
            "marker": {
             "colorbar": {
              "outlinewidth": 0,
              "tickcolor": "rgb(237,237,237)",
              "ticklen": 6,
              "ticks": "inside"
             }
            },
            "type": "scattercarpet"
           }
          ],
          "scattergeo": [
           {
            "marker": {
             "colorbar": {
              "outlinewidth": 0,
              "tickcolor": "rgb(237,237,237)",
              "ticklen": 6,
              "ticks": "inside"
             }
            },
            "type": "scattergeo"
           }
          ],
          "scattergl": [
           {
            "marker": {
             "colorbar": {
              "outlinewidth": 0,
              "tickcolor": "rgb(237,237,237)",
              "ticklen": 6,
              "ticks": "inside"
             }
            },
            "type": "scattergl"
           }
          ],
          "scattermapbox": [
           {
            "marker": {
             "colorbar": {
              "outlinewidth": 0,
              "tickcolor": "rgb(237,237,237)",
              "ticklen": 6,
              "ticks": "inside"
             }
            },
            "type": "scattermapbox"
           }
          ],
          "scatterpolar": [
           {
            "marker": {
             "colorbar": {
              "outlinewidth": 0,
              "tickcolor": "rgb(237,237,237)",
              "ticklen": 6,
              "ticks": "inside"
             }
            },
            "type": "scatterpolar"
           }
          ],
          "scatterpolargl": [
           {
            "marker": {
             "colorbar": {
              "outlinewidth": 0,
              "tickcolor": "rgb(237,237,237)",
              "ticklen": 6,
              "ticks": "inside"
             }
            },
            "type": "scatterpolargl"
           }
          ],
          "scatterternary": [
           {
            "marker": {
             "colorbar": {
              "outlinewidth": 0,
              "tickcolor": "rgb(237,237,237)",
              "ticklen": 6,
              "ticks": "inside"
             }
            },
            "type": "scatterternary"
           }
          ],
          "surface": [
           {
            "colorbar": {
             "outlinewidth": 0,
             "tickcolor": "rgb(237,237,237)",
             "ticklen": 6,
             "ticks": "inside"
            },
            "colorscale": [
             [
              0,
              "rgb(20,44,66)"
             ],
             [
              1,
              "rgb(90,179,244)"
             ]
            ],
            "type": "surface"
           }
          ],
          "table": [
           {
            "cells": {
             "fill": {
              "color": "rgb(237,237,237)"
             },
             "line": {
              "color": "white"
             }
            },
            "header": {
             "fill": {
              "color": "rgb(217,217,217)"
             },
             "line": {
              "color": "white"
             }
            },
            "type": "table"
           }
          ]
         },
         "layout": {
          "annotationdefaults": {
           "arrowhead": 0,
           "arrowwidth": 1
          },
          "autotypenumbers": "strict",
          "coloraxis": {
           "colorbar": {
            "outlinewidth": 0,
            "tickcolor": "rgb(237,237,237)",
            "ticklen": 6,
            "ticks": "inside"
           }
          },
          "colorscale": {
           "sequential": [
            [
             0,
             "rgb(20,44,66)"
            ],
            [
             1,
             "rgb(90,179,244)"
            ]
           ],
           "sequentialminus": [
            [
             0,
             "rgb(20,44,66)"
            ],
            [
             1,
             "rgb(90,179,244)"
            ]
           ]
          },
          "colorway": [
           "#F8766D",
           "#A3A500",
           "#00BF7D",
           "#00B0F6",
           "#E76BF3"
          ],
          "font": {
           "color": "rgb(51,51,51)"
          },
          "geo": {
           "bgcolor": "white",
           "lakecolor": "white",
           "landcolor": "rgb(237,237,237)",
           "showlakes": true,
           "showland": true,
           "subunitcolor": "white"
          },
          "hoverlabel": {
           "align": "left"
          },
          "hovermode": "closest",
          "paper_bgcolor": "white",
          "plot_bgcolor": "rgb(237,237,237)",
          "polar": {
           "angularaxis": {
            "gridcolor": "white",
            "linecolor": "white",
            "showgrid": true,
            "tickcolor": "rgb(51,51,51)",
            "ticks": "outside"
           },
           "bgcolor": "rgb(237,237,237)",
           "radialaxis": {
            "gridcolor": "white",
            "linecolor": "white",
            "showgrid": true,
            "tickcolor": "rgb(51,51,51)",
            "ticks": "outside"
           }
          },
          "scene": {
           "xaxis": {
            "backgroundcolor": "rgb(237,237,237)",
            "gridcolor": "white",
            "gridwidth": 2,
            "linecolor": "white",
            "showbackground": true,
            "showgrid": true,
            "tickcolor": "rgb(51,51,51)",
            "ticks": "outside",
            "zerolinecolor": "white"
           },
           "yaxis": {
            "backgroundcolor": "rgb(237,237,237)",
            "gridcolor": "white",
            "gridwidth": 2,
            "linecolor": "white",
            "showbackground": true,
            "showgrid": true,
            "tickcolor": "rgb(51,51,51)",
            "ticks": "outside",
            "zerolinecolor": "white"
           },
           "zaxis": {
            "backgroundcolor": "rgb(237,237,237)",
            "gridcolor": "white",
            "gridwidth": 2,
            "linecolor": "white",
            "showbackground": true,
            "showgrid": true,
            "tickcolor": "rgb(51,51,51)",
            "ticks": "outside",
            "zerolinecolor": "white"
           }
          },
          "shapedefaults": {
           "fillcolor": "black",
           "line": {
            "width": 0
           },
           "opacity": 0.3
          },
          "ternary": {
           "aaxis": {
            "gridcolor": "white",
            "linecolor": "white",
            "showgrid": true,
            "tickcolor": "rgb(51,51,51)",
            "ticks": "outside"
           },
           "baxis": {
            "gridcolor": "white",
            "linecolor": "white",
            "showgrid": true,
            "tickcolor": "rgb(51,51,51)",
            "ticks": "outside"
           },
           "bgcolor": "rgb(237,237,237)",
           "caxis": {
            "gridcolor": "white",
            "linecolor": "white",
            "showgrid": true,
            "tickcolor": "rgb(51,51,51)",
            "ticks": "outside"
           }
          },
          "xaxis": {
           "automargin": true,
           "gridcolor": "white",
           "linecolor": "white",
           "showgrid": true,
           "tickcolor": "rgb(51,51,51)",
           "ticks": "outside",
           "title": {
            "standoff": 15
           },
           "zerolinecolor": "white"
          },
          "yaxis": {
           "automargin": true,
           "gridcolor": "white",
           "linecolor": "white",
           "showgrid": true,
           "tickcolor": "rgb(51,51,51)",
           "ticks": "outside",
           "title": {
            "standoff": 15
           },
           "zerolinecolor": "white"
          }
         }
        },
        "title": {
         "text": "Diagnostics | Model Residuals"
        },
        "xaxis": {
         "anchor": "y",
         "domain": [
          0,
          0.45
         ]
        },
        "xaxis2": {
         "anchor": "y2",
         "domain": [
          0.55,
          1
         ],
         "range": [
          0,
          0.5
         ]
        },
        "xaxis3": {
         "anchor": "y3",
         "domain": [
          0,
          0.45
         ],
         "title": {
          "text": "Range of Values"
         }
        },
        "xaxis4": {
         "anchor": "y4",
         "domain": [
          0.55,
          1
         ],
         "title": {
          "text": "Theoretical Quantities"
         }
        },
        "xaxis5": {
         "anchor": "y5",
         "domain": [
          0,
          0.45
         ],
         "range": [
          -1,
          42
         ]
        },
        "xaxis6": {
         "anchor": "y6",
         "domain": [
          0.55,
          1
         ],
         "range": [
          -1,
          23
         ]
        },
        "yaxis": {
         "anchor": "x",
         "domain": [
          0.7777777777777779,
          1
         ]
        },
        "yaxis2": {
         "anchor": "x2",
         "domain": [
          0.7777777777777779,
          1
         ]
        },
        "yaxis3": {
         "anchor": "x3",
         "domain": [
          0.38888888888888895,
          0.6111111111111112
         ],
         "title": {
          "text": "PDF"
         }
        },
        "yaxis4": {
         "anchor": "x4",
         "domain": [
          0.38888888888888895,
          0.6111111111111112
         ],
         "title": {
          "text": "Sample Quantities"
         }
        },
        "yaxis5": {
         "anchor": "x5",
         "domain": [
          0,
          0.22222222222222227
         ],
         "range": [
          -1.1,
          1.1
         ],
         "zerolinecolor": "#000000"
        },
        "yaxis6": {
         "anchor": "x6",
         "domain": [
          0,
          0.22222222222222227
         ],
         "range": [
          -1.1,
          1.1
         ],
         "zerolinecolor": "#000000"
        }
       }
      }
     },
     "metadata": {},
     "output_type": "display_data"
    }
   ],
   "source": [
    "# functional API\n",
    "plot_model(best, plot = 'diagnostics')"
   ]
  },
  {
   "cell_type": "code",
   "execution_count": 6,
   "metadata": {},
   "outputs": [
    {
     "data": {
      "application/vnd.plotly.v1+json": {
       "config": {
        "plotlyServerURL": "https://plot.ly"
       },
       "data": [
        {
         "line": {
          "color": "rgb(31, 119, 180)",
          "width": 2
         },
         "marker": {
          "color": "rgb(31, 119, 180)",
          "size": 5
         },
         "mode": "lines+markers",
         "name": "Number of airline passengers",
         "type": "scattergl",
         "x": [
          "1949-01-01T00:00:00",
          "1949-02-01T00:00:00",
          "1949-03-01T00:00:00",
          "1949-04-01T00:00:00",
          "1949-05-01T00:00:00",
          "1949-06-01T00:00:00",
          "1949-07-01T00:00:00",
          "1949-08-01T00:00:00",
          "1949-09-01T00:00:00",
          "1949-10-01T00:00:00",
          "1949-11-01T00:00:00",
          "1949-12-01T00:00:00",
          "1950-01-01T00:00:00",
          "1950-02-01T00:00:00",
          "1950-03-01T00:00:00",
          "1950-04-01T00:00:00",
          "1950-05-01T00:00:00",
          "1950-06-01T00:00:00",
          "1950-07-01T00:00:00",
          "1950-08-01T00:00:00",
          "1950-09-01T00:00:00",
          "1950-10-01T00:00:00",
          "1950-11-01T00:00:00",
          "1950-12-01T00:00:00",
          "1951-01-01T00:00:00",
          "1951-02-01T00:00:00",
          "1951-03-01T00:00:00",
          "1951-04-01T00:00:00",
          "1951-05-01T00:00:00",
          "1951-06-01T00:00:00",
          "1951-07-01T00:00:00",
          "1951-08-01T00:00:00",
          "1951-09-01T00:00:00",
          "1951-10-01T00:00:00",
          "1951-11-01T00:00:00",
          "1951-12-01T00:00:00",
          "1952-01-01T00:00:00",
          "1952-02-01T00:00:00",
          "1952-03-01T00:00:00",
          "1952-04-01T00:00:00",
          "1952-05-01T00:00:00",
          "1952-06-01T00:00:00",
          "1952-07-01T00:00:00",
          "1952-08-01T00:00:00",
          "1952-09-01T00:00:00",
          "1952-10-01T00:00:00",
          "1952-11-01T00:00:00",
          "1952-12-01T00:00:00",
          "1953-01-01T00:00:00",
          "1953-02-01T00:00:00",
          "1953-03-01T00:00:00",
          "1953-04-01T00:00:00",
          "1953-05-01T00:00:00",
          "1953-06-01T00:00:00",
          "1953-07-01T00:00:00",
          "1953-08-01T00:00:00",
          "1953-09-01T00:00:00",
          "1953-10-01T00:00:00",
          "1953-11-01T00:00:00",
          "1953-12-01T00:00:00",
          "1954-01-01T00:00:00",
          "1954-02-01T00:00:00",
          "1954-03-01T00:00:00",
          "1954-04-01T00:00:00",
          "1954-05-01T00:00:00",
          "1954-06-01T00:00:00",
          "1954-07-01T00:00:00",
          "1954-08-01T00:00:00",
          "1954-09-01T00:00:00",
          "1954-10-01T00:00:00",
          "1954-11-01T00:00:00",
          "1954-12-01T00:00:00",
          "1955-01-01T00:00:00",
          "1955-02-01T00:00:00",
          "1955-03-01T00:00:00",
          "1955-04-01T00:00:00",
          "1955-05-01T00:00:00",
          "1955-06-01T00:00:00",
          "1955-07-01T00:00:00",
          "1955-08-01T00:00:00",
          "1955-09-01T00:00:00",
          "1955-10-01T00:00:00",
          "1955-11-01T00:00:00",
          "1955-12-01T00:00:00",
          "1956-01-01T00:00:00",
          "1956-02-01T00:00:00",
          "1956-03-01T00:00:00",
          "1956-04-01T00:00:00",
          "1956-05-01T00:00:00",
          "1956-06-01T00:00:00",
          "1956-07-01T00:00:00",
          "1956-08-01T00:00:00",
          "1956-09-01T00:00:00",
          "1956-10-01T00:00:00",
          "1956-11-01T00:00:00",
          "1956-12-01T00:00:00",
          "1957-01-01T00:00:00",
          "1957-02-01T00:00:00",
          "1957-03-01T00:00:00",
          "1957-04-01T00:00:00",
          "1957-05-01T00:00:00",
          "1957-06-01T00:00:00",
          "1957-07-01T00:00:00",
          "1957-08-01T00:00:00",
          "1957-09-01T00:00:00",
          "1957-10-01T00:00:00",
          "1957-11-01T00:00:00",
          "1957-12-01T00:00:00",
          "1958-01-01T00:00:00",
          "1958-02-01T00:00:00",
          "1958-03-01T00:00:00",
          "1958-04-01T00:00:00",
          "1958-05-01T00:00:00",
          "1958-06-01T00:00:00",
          "1958-07-01T00:00:00",
          "1958-08-01T00:00:00",
          "1958-09-01T00:00:00",
          "1958-10-01T00:00:00",
          "1958-11-01T00:00:00",
          "1958-12-01T00:00:00",
          "1959-01-01T00:00:00",
          "1959-02-01T00:00:00",
          "1959-03-01T00:00:00",
          "1959-04-01T00:00:00",
          "1959-05-01T00:00:00",
          "1959-06-01T00:00:00",
          "1959-07-01T00:00:00",
          "1959-08-01T00:00:00",
          "1959-09-01T00:00:00",
          "1959-10-01T00:00:00",
          "1959-11-01T00:00:00",
          "1959-12-01T00:00:00",
          "1960-01-01T00:00:00",
          "1960-02-01T00:00:00",
          "1960-03-01T00:00:00",
          "1960-04-01T00:00:00",
          "1960-05-01T00:00:00",
          "1960-06-01T00:00:00",
          "1960-07-01T00:00:00",
          "1960-08-01T00:00:00",
          "1960-09-01T00:00:00",
          "1960-10-01T00:00:00",
          "1960-11-01T00:00:00",
          "1960-12-01T00:00:00"
         ],
         "xaxis": "x",
         "y": [
          112,
          118,
          132,
          129,
          121,
          135,
          148,
          148,
          136,
          119,
          104,
          118,
          115,
          126,
          141,
          135,
          125,
          149,
          170,
          170,
          158,
          133,
          114,
          140,
          145,
          150,
          178,
          163,
          172,
          178,
          199,
          199,
          184,
          162,
          146,
          166,
          171,
          180,
          193,
          181,
          183,
          218,
          230,
          242,
          209,
          191,
          172,
          194,
          196,
          196,
          236,
          235,
          229,
          243,
          264,
          272,
          237,
          211,
          180,
          201,
          204,
          188,
          235,
          227,
          234,
          264,
          302,
          293,
          259,
          229,
          203,
          229,
          242,
          233,
          267,
          269,
          270,
          315,
          364,
          347,
          312,
          274,
          237,
          278,
          284,
          277,
          317,
          313,
          318,
          374,
          413,
          405,
          355,
          306,
          271,
          306,
          315,
          301,
          356,
          348,
          355,
          422,
          465,
          467,
          404,
          347,
          305,
          336,
          340,
          318,
          362,
          348,
          363,
          435,
          491,
          505,
          404,
          359,
          310,
          337,
          360,
          342,
          406,
          396,
          420,
          472,
          548,
          559,
          463,
          407,
          362,
          405,
          417,
          391,
          419,
          461,
          472,
          535,
          622,
          606,
          508,
          461,
          390,
          432
         ],
         "yaxis": "y"
        },
        {
         "line": {
          "color": "rgb(255, 127, 14)",
          "width": 2
         },
         "marker": {
          "color": "rgb(255, 127, 14)",
          "size": 5
         },
         "mode": "lines+markers",
         "name": "STLF",
         "type": "scattergl",
         "x": [
          "1949-01-01T00:00:00",
          "1949-02-01T00:00:00",
          "1949-03-01T00:00:00",
          "1949-04-01T00:00:00",
          "1949-05-01T00:00:00",
          "1949-06-01T00:00:00",
          "1949-07-01T00:00:00",
          "1949-08-01T00:00:00",
          "1949-09-01T00:00:00",
          "1949-10-01T00:00:00",
          "1949-11-01T00:00:00",
          "1949-12-01T00:00:00",
          "1950-01-01T00:00:00",
          "1950-02-01T00:00:00",
          "1950-03-01T00:00:00",
          "1950-04-01T00:00:00",
          "1950-05-01T00:00:00",
          "1950-06-01T00:00:00",
          "1950-07-01T00:00:00",
          "1950-08-01T00:00:00",
          "1950-09-01T00:00:00",
          "1950-10-01T00:00:00",
          "1950-11-01T00:00:00",
          "1950-12-01T00:00:00",
          "1951-01-01T00:00:00",
          "1951-02-01T00:00:00",
          "1951-03-01T00:00:00",
          "1951-04-01T00:00:00",
          "1951-05-01T00:00:00",
          "1951-06-01T00:00:00",
          "1951-07-01T00:00:00",
          "1951-08-01T00:00:00",
          "1951-09-01T00:00:00",
          "1951-10-01T00:00:00",
          "1951-11-01T00:00:00",
          "1951-12-01T00:00:00",
          "1952-01-01T00:00:00",
          "1952-02-01T00:00:00",
          "1952-03-01T00:00:00",
          "1952-04-01T00:00:00",
          "1952-05-01T00:00:00",
          "1952-06-01T00:00:00",
          "1952-07-01T00:00:00",
          "1952-08-01T00:00:00",
          "1952-09-01T00:00:00",
          "1952-10-01T00:00:00",
          "1952-11-01T00:00:00",
          "1952-12-01T00:00:00",
          "1953-01-01T00:00:00",
          "1953-02-01T00:00:00",
          "1953-03-01T00:00:00",
          "1953-04-01T00:00:00",
          "1953-05-01T00:00:00",
          "1953-06-01T00:00:00",
          "1953-07-01T00:00:00",
          "1953-08-01T00:00:00",
          "1953-09-01T00:00:00",
          "1953-10-01T00:00:00",
          "1953-11-01T00:00:00",
          "1953-12-01T00:00:00",
          "1954-01-01T00:00:00",
          "1954-02-01T00:00:00",
          "1954-03-01T00:00:00",
          "1954-04-01T00:00:00",
          "1954-05-01T00:00:00",
          "1954-06-01T00:00:00",
          "1954-07-01T00:00:00",
          "1954-08-01T00:00:00",
          "1954-09-01T00:00:00",
          "1954-10-01T00:00:00",
          "1954-11-01T00:00:00",
          "1954-12-01T00:00:00",
          "1955-01-01T00:00:00",
          "1955-02-01T00:00:00",
          "1955-03-01T00:00:00",
          "1955-04-01T00:00:00",
          "1955-05-01T00:00:00",
          "1955-06-01T00:00:00",
          "1955-07-01T00:00:00",
          "1955-08-01T00:00:00",
          "1955-09-01T00:00:00",
          "1955-10-01T00:00:00",
          "1955-11-01T00:00:00",
          "1955-12-01T00:00:00",
          "1956-01-01T00:00:00",
          "1956-02-01T00:00:00",
          "1956-03-01T00:00:00",
          "1956-04-01T00:00:00",
          "1956-05-01T00:00:00",
          "1956-06-01T00:00:00",
          "1956-07-01T00:00:00",
          "1956-08-01T00:00:00",
          "1956-09-01T00:00:00",
          "1956-10-01T00:00:00",
          "1956-11-01T00:00:00",
          "1956-12-01T00:00:00",
          "1957-01-01T00:00:00",
          "1957-02-01T00:00:00",
          "1957-03-01T00:00:00",
          "1957-04-01T00:00:00",
          "1957-05-01T00:00:00",
          "1957-06-01T00:00:00",
          "1957-07-01T00:00:00",
          "1957-08-01T00:00:00",
          "1957-09-01T00:00:00",
          "1957-10-01T00:00:00",
          "1957-11-01T00:00:00",
          "1957-12-01T00:00:00",
          "1958-01-01T00:00:00",
          "1958-02-01T00:00:00",
          "1958-03-01T00:00:00",
          "1958-04-01T00:00:00",
          "1958-05-01T00:00:00",
          "1958-06-01T00:00:00",
          "1958-07-01T00:00:00",
          "1958-08-01T00:00:00",
          "1958-09-01T00:00:00",
          "1958-10-01T00:00:00",
          "1958-11-01T00:00:00",
          "1958-12-01T00:00:00",
          "1959-01-01T00:00:00",
          "1959-02-01T00:00:00",
          "1959-03-01T00:00:00",
          "1959-04-01T00:00:00",
          "1959-05-01T00:00:00",
          "1959-06-01T00:00:00",
          "1959-07-01T00:00:00",
          "1959-08-01T00:00:00",
          "1959-09-01T00:00:00",
          "1959-10-01T00:00:00",
          "1959-11-01T00:00:00",
          "1959-12-01T00:00:00",
          "1960-01-01T00:00:00",
          "1960-02-01T00:00:00",
          "1960-03-01T00:00:00",
          "1960-04-01T00:00:00",
          "1960-05-01T00:00:00",
          "1960-06-01T00:00:00",
          "1960-07-01T00:00:00",
          "1960-08-01T00:00:00",
          "1960-09-01T00:00:00",
          "1960-10-01T00:00:00",
          "1960-11-01T00:00:00",
          "1960-12-01T00:00:00"
         ],
         "xaxis": "x",
         "y": [
          109.8164,
          null,
          null,
          null,
          null,
          null,
          null,
          null,
          null,
          null,
          null,
          null,
          120.2046,
          126.5956,
          141.1172,
          138.7808,
          131.5999,
          146.5873,
          160.765,
          162.1451,
          151.7357,
          136.4862,
          123.3107,
          139.1286,
          139.9996,
          149.0688,
          166.9003,
          162.7333,
          156.2884,
          177.2683,
          195.7801,
          197.5799,
          182.9586,
          161.6522,
          143.6374,
          164.5442,
          166.9925,
          172.9957,
          197.066,
          188.4771,
          188.7384,
          205.9647,
          226.2934,
          228.9716,
          210.7235,
          189.1496,
          170.9513,
          193.2839,
          198.0561,
          202.9426,
          228.0712,
          217.311,
          219.1097,
          240.4717,
          258.4338,
          262.572,
          233.7672,
          209.7819,
          187.0353,
          207.6801,
          210.4138,
          208.3994,
          240.1745,
          232.8578,
          233.7837,
          258.6259,
          283.107,
          287.2727,
          255.215,
          231.1038,
          206.3681,
          231.6637,
          238.2339,
          232.4694,
          272.7776,
          269.741,
          273.1544,
          306.1198,
          340.7439,
          338.6915,
          303.7697,
          274.1311,
          245.618,
          274.9459,
          283.4838,
          274.1889,
          316.2625,
          313.3294,
          317.1222,
          359.4068,
          400.2189,
          391.5891,
          350.8458,
          312.2313,
          278.6508,
          311.7832,
          320.0264,
          308.9738,
          352.1921,
          347.8001,
          353.7316,
          408.1256,
          451.9102,
          444.979,
          391.8381,
          344.7697,
          305.4798,
          337.8702,
          344.6731,
          328.885,
          374.4776,
          364.933,
          372.3597,
          432.3432,
          479.2876,
          479.3361,
          410.6298,
          360.3749,
          319.3672,
          354.1435,
          365.5131,
          348.6202,
          396.9041,
          396.439,
          410.6508,
          474.9171,
          536.0373,
          540.0539,
          458.5696,
          408.3352,
          364.5853,
          399.8807,
          414.4294,
          393.9226,
          441.4254,
          448.8801,
          465.665,
          528.174,
          600.711,
          603.032,
          508.1753,
          null,
          null,
          null
         ],
         "yaxis": "y"
        }
       ],
       "layout": {
        "showlegend": true,
        "template": {
         "data": {
          "bar": [
           {
            "error_x": {
             "color": "rgb(51,51,51)"
            },
            "error_y": {
             "color": "rgb(51,51,51)"
            },
            "marker": {
             "line": {
              "color": "rgb(237,237,237)",
              "width": 0.5
             },
             "pattern": {
              "fillmode": "overlay",
              "size": 10,
              "solidity": 0.2
             }
            },
            "type": "bar"
           }
          ],
          "barpolar": [
           {
            "marker": {
             "line": {
              "color": "rgb(237,237,237)",
              "width": 0.5
             },
             "pattern": {
              "fillmode": "overlay",
              "size": 10,
              "solidity": 0.2
             }
            },
            "type": "barpolar"
           }
          ],
          "carpet": [
           {
            "aaxis": {
             "endlinecolor": "rgb(51,51,51)",
             "gridcolor": "white",
             "linecolor": "white",
             "minorgridcolor": "white",
             "startlinecolor": "rgb(51,51,51)"
            },
            "baxis": {
             "endlinecolor": "rgb(51,51,51)",
             "gridcolor": "white",
             "linecolor": "white",
             "minorgridcolor": "white",
             "startlinecolor": "rgb(51,51,51)"
            },
            "type": "carpet"
           }
          ],
          "choropleth": [
           {
            "colorbar": {
             "outlinewidth": 0,
             "tickcolor": "rgb(237,237,237)",
             "ticklen": 6,
             "ticks": "inside"
            },
            "type": "choropleth"
           }
          ],
          "contour": [
           {
            "colorbar": {
             "outlinewidth": 0,
             "tickcolor": "rgb(237,237,237)",
             "ticklen": 6,
             "ticks": "inside"
            },
            "colorscale": [
             [
              0,
              "rgb(20,44,66)"
             ],
             [
              1,
              "rgb(90,179,244)"
             ]
            ],
            "type": "contour"
           }
          ],
          "contourcarpet": [
           {
            "colorbar": {
             "outlinewidth": 0,
             "tickcolor": "rgb(237,237,237)",
             "ticklen": 6,
             "ticks": "inside"
            },
            "type": "contourcarpet"
           }
          ],
          "heatmap": [
           {
            "colorbar": {
             "outlinewidth": 0,
             "tickcolor": "rgb(237,237,237)",
             "ticklen": 6,
             "ticks": "inside"
            },
            "colorscale": [
             [
              0,
              "rgb(20,44,66)"
             ],
             [
              1,
              "rgb(90,179,244)"
             ]
            ],
            "type": "heatmap"
           }
          ],
          "heatmapgl": [
           {
            "colorbar": {
             "outlinewidth": 0,
             "tickcolor": "rgb(237,237,237)",
             "ticklen": 6,
             "ticks": "inside"
            },
            "colorscale": [
             [
              0,
              "rgb(20,44,66)"
             ],
             [
              1,
              "rgb(90,179,244)"
             ]
            ],
            "type": "heatmapgl"
           }
          ],
          "histogram": [
           {
            "marker": {
             "pattern": {
              "fillmode": "overlay",
              "size": 10,
              "solidity": 0.2
             }
            },
            "type": "histogram"
           }
          ],
          "histogram2d": [
           {
            "colorbar": {
             "outlinewidth": 0,
             "tickcolor": "rgb(237,237,237)",
             "ticklen": 6,
             "ticks": "inside"
            },
            "colorscale": [
             [
              0,
              "rgb(20,44,66)"
             ],
             [
              1,
              "rgb(90,179,244)"
             ]
            ],
            "type": "histogram2d"
           }
          ],
          "histogram2dcontour": [
           {
            "colorbar": {
             "outlinewidth": 0,
             "tickcolor": "rgb(237,237,237)",
             "ticklen": 6,
             "ticks": "inside"
            },
            "colorscale": [
             [
              0,
              "rgb(20,44,66)"
             ],
             [
              1,
              "rgb(90,179,244)"
             ]
            ],
            "type": "histogram2dcontour"
           }
          ],
          "mesh3d": [
           {
            "colorbar": {
             "outlinewidth": 0,
             "tickcolor": "rgb(237,237,237)",
             "ticklen": 6,
             "ticks": "inside"
            },
            "type": "mesh3d"
           }
          ],
          "parcoords": [
           {
            "line": {
             "colorbar": {
              "outlinewidth": 0,
              "tickcolor": "rgb(237,237,237)",
              "ticklen": 6,
              "ticks": "inside"
             }
            },
            "type": "parcoords"
           }
          ],
          "pie": [
           {
            "automargin": true,
            "type": "pie"
           }
          ],
          "scatter": [
           {
            "fillpattern": {
             "fillmode": "overlay",
             "size": 10,
             "solidity": 0.2
            },
            "type": "scatter"
           }
          ],
          "scatter3d": [
           {
            "line": {
             "colorbar": {
              "outlinewidth": 0,
              "tickcolor": "rgb(237,237,237)",
              "ticklen": 6,
              "ticks": "inside"
             }
            },
            "marker": {
             "colorbar": {
              "outlinewidth": 0,
              "tickcolor": "rgb(237,237,237)",
              "ticklen": 6,
              "ticks": "inside"
             }
            },
            "type": "scatter3d"
           }
          ],
          "scattercarpet": [
           {
            "marker": {
             "colorbar": {
              "outlinewidth": 0,
              "tickcolor": "rgb(237,237,237)",
              "ticklen": 6,
              "ticks": "inside"
             }
            },
            "type": "scattercarpet"
           }
          ],
          "scattergeo": [
           {
            "marker": {
             "colorbar": {
              "outlinewidth": 0,
              "tickcolor": "rgb(237,237,237)",
              "ticklen": 6,
              "ticks": "inside"
             }
            },
            "type": "scattergeo"
           }
          ],
          "scattergl": [
           {
            "marker": {
             "colorbar": {
              "outlinewidth": 0,
              "tickcolor": "rgb(237,237,237)",
              "ticklen": 6,
              "ticks": "inside"
             }
            },
            "type": "scattergl"
           }
          ],
          "scattermapbox": [
           {
            "marker": {
             "colorbar": {
              "outlinewidth": 0,
              "tickcolor": "rgb(237,237,237)",
              "ticklen": 6,
              "ticks": "inside"
             }
            },
            "type": "scattermapbox"
           }
          ],
          "scatterpolar": [
           {
            "marker": {
             "colorbar": {
              "outlinewidth": 0,
              "tickcolor": "rgb(237,237,237)",
              "ticklen": 6,
              "ticks": "inside"
             }
            },
            "type": "scatterpolar"
           }
          ],
          "scatterpolargl": [
           {
            "marker": {
             "colorbar": {
              "outlinewidth": 0,
              "tickcolor": "rgb(237,237,237)",
              "ticklen": 6,
              "ticks": "inside"
             }
            },
            "type": "scatterpolargl"
           }
          ],
          "scatterternary": [
           {
            "marker": {
             "colorbar": {
              "outlinewidth": 0,
              "tickcolor": "rgb(237,237,237)",
              "ticklen": 6,
              "ticks": "inside"
             }
            },
            "type": "scatterternary"
           }
          ],
          "surface": [
           {
            "colorbar": {
             "outlinewidth": 0,
             "tickcolor": "rgb(237,237,237)",
             "ticklen": 6,
             "ticks": "inside"
            },
            "colorscale": [
             [
              0,
              "rgb(20,44,66)"
             ],
             [
              1,
              "rgb(90,179,244)"
             ]
            ],
            "type": "surface"
           }
          ],
          "table": [
           {
            "cells": {
             "fill": {
              "color": "rgb(237,237,237)"
             },
             "line": {
              "color": "white"
             }
            },
            "header": {
             "fill": {
              "color": "rgb(217,217,217)"
             },
             "line": {
              "color": "white"
             }
            },
            "type": "table"
           }
          ]
         },
         "layout": {
          "annotationdefaults": {
           "arrowhead": 0,
           "arrowwidth": 1
          },
          "autotypenumbers": "strict",
          "coloraxis": {
           "colorbar": {
            "outlinewidth": 0,
            "tickcolor": "rgb(237,237,237)",
            "ticklen": 6,
            "ticks": "inside"
           }
          },
          "colorscale": {
           "sequential": [
            [
             0,
             "rgb(20,44,66)"
            ],
            [
             1,
             "rgb(90,179,244)"
            ]
           ],
           "sequentialminus": [
            [
             0,
             "rgb(20,44,66)"
            ],
            [
             1,
             "rgb(90,179,244)"
            ]
           ]
          },
          "colorway": [
           "#F8766D",
           "#A3A500",
           "#00BF7D",
           "#00B0F6",
           "#E76BF3"
          ],
          "font": {
           "color": "rgb(51,51,51)"
          },
          "geo": {
           "bgcolor": "white",
           "lakecolor": "white",
           "landcolor": "rgb(237,237,237)",
           "showlakes": true,
           "showland": true,
           "subunitcolor": "white"
          },
          "hoverlabel": {
           "align": "left"
          },
          "hovermode": "closest",
          "paper_bgcolor": "white",
          "plot_bgcolor": "rgb(237,237,237)",
          "polar": {
           "angularaxis": {
            "gridcolor": "white",
            "linecolor": "white",
            "showgrid": true,
            "tickcolor": "rgb(51,51,51)",
            "ticks": "outside"
           },
           "bgcolor": "rgb(237,237,237)",
           "radialaxis": {
            "gridcolor": "white",
            "linecolor": "white",
            "showgrid": true,
            "tickcolor": "rgb(51,51,51)",
            "ticks": "outside"
           }
          },
          "scene": {
           "xaxis": {
            "backgroundcolor": "rgb(237,237,237)",
            "gridcolor": "white",
            "gridwidth": 2,
            "linecolor": "white",
            "showbackground": true,
            "showgrid": true,
            "tickcolor": "rgb(51,51,51)",
            "ticks": "outside",
            "zerolinecolor": "white"
           },
           "yaxis": {
            "backgroundcolor": "rgb(237,237,237)",
            "gridcolor": "white",
            "gridwidth": 2,
            "linecolor": "white",
            "showbackground": true,
            "showgrid": true,
            "tickcolor": "rgb(51,51,51)",
            "ticks": "outside",
            "zerolinecolor": "white"
           },
           "zaxis": {
            "backgroundcolor": "rgb(237,237,237)",
            "gridcolor": "white",
            "gridwidth": 2,
            "linecolor": "white",
            "showbackground": true,
            "showgrid": true,
            "tickcolor": "rgb(51,51,51)",
            "ticks": "outside",
            "zerolinecolor": "white"
           }
          },
          "shapedefaults": {
           "fillcolor": "black",
           "line": {
            "width": 0
           },
           "opacity": 0.3
          },
          "ternary": {
           "aaxis": {
            "gridcolor": "white",
            "linecolor": "white",
            "showgrid": true,
            "tickcolor": "rgb(51,51,51)",
            "ticks": "outside"
           },
           "baxis": {
            "gridcolor": "white",
            "linecolor": "white",
            "showgrid": true,
            "tickcolor": "rgb(51,51,51)",
            "ticks": "outside"
           },
           "bgcolor": "rgb(237,237,237)",
           "caxis": {
            "gridcolor": "white",
            "linecolor": "white",
            "showgrid": true,
            "tickcolor": "rgb(51,51,51)",
            "ticks": "outside"
           }
          },
          "xaxis": {
           "automargin": true,
           "gridcolor": "white",
           "linecolor": "white",
           "showgrid": true,
           "tickcolor": "rgb(51,51,51)",
           "ticks": "outside",
           "title": {
            "standoff": 15
           },
           "zerolinecolor": "white"
          },
          "yaxis": {
           "automargin": true,
           "gridcolor": "white",
           "linecolor": "white",
           "showgrid": true,
           "tickcolor": "rgb(51,51,51)",
           "ticks": "outside",
           "title": {
            "standoff": 15
           },
           "zerolinecolor": "white"
          }
         }
        },
        "title": {
         "text": "Actual vs. Forecast (In-Sample)"
        },
        "xaxis": {
         "anchor": "y",
         "domain": [
          0,
          1
         ]
        },
        "yaxis": {
         "anchor": "x",
         "domain": [
          0,
          1
         ]
        }
       }
      }
     },
     "metadata": {},
     "output_type": "display_data"
    }
   ],
   "source": [
    "# functional API\n",
    "plot_model(best, plot = 'insample')"
   ]
  },
  {
   "cell_type": "markdown",
   "metadata": {},
   "source": [
    "## Predictions"
   ]
  },
  {
   "cell_type": "code",
   "execution_count": 7,
   "metadata": {},
   "outputs": [
    {
     "data": {
      "text/html": [
       "<div>\n",
       "<style scoped>\n",
       "    .dataframe tbody tr th:only-of-type {\n",
       "        vertical-align: middle;\n",
       "    }\n",
       "\n",
       "    .dataframe tbody tr th {\n",
       "        vertical-align: top;\n",
       "    }\n",
       "\n",
       "    .dataframe thead th {\n",
       "        text-align: right;\n",
       "    }\n",
       "</style>\n",
       "<table border=\"1\" class=\"dataframe\">\n",
       "  <thead>\n",
       "    <tr style=\"text-align: right;\">\n",
       "      <th></th>\n",
       "      <th>y_pred</th>\n",
       "    </tr>\n",
       "  </thead>\n",
       "  <tbody>\n",
       "    <tr>\n",
       "      <th>1960-10</th>\n",
       "      <td>455.2909</td>\n",
       "    </tr>\n",
       "    <tr>\n",
       "      <th>1960-11</th>\n",
       "      <td>406.4324</td>\n",
       "    </tr>\n",
       "    <tr>\n",
       "      <th>1960-12</th>\n",
       "      <td>441.5140</td>\n",
       "    </tr>\n",
       "    <tr>\n",
       "      <th>1961-01</th>\n",
       "      <td>456.2386</td>\n",
       "    </tr>\n",
       "    <tr>\n",
       "      <th>1961-02</th>\n",
       "      <td>430.1439</td>\n",
       "    </tr>\n",
       "    <tr>\n",
       "      <th>1961-03</th>\n",
       "      <td>471.7323</td>\n",
       "    </tr>\n",
       "    <tr>\n",
       "      <th>1961-04</th>\n",
       "      <td>490.5395</td>\n",
       "    </tr>\n",
       "    <tr>\n",
       "      <th>1961-05</th>\n",
       "      <td>507.2320</td>\n",
       "    </tr>\n",
       "    <tr>\n",
       "      <th>1961-06</th>\n",
       "      <td>567.3178</td>\n",
       "    </tr>\n",
       "    <tr>\n",
       "      <th>1961-07</th>\n",
       "      <td>650.9920</td>\n",
       "    </tr>\n",
       "    <tr>\n",
       "      <th>1961-08</th>\n",
       "      <td>647.6881</td>\n",
       "    </tr>\n",
       "    <tr>\n",
       "      <th>1961-09</th>\n",
       "      <td>540.2424</td>\n",
       "    </tr>\n",
       "    <tr>\n",
       "      <th>1961-10</th>\n",
       "      <td>486.5606</td>\n",
       "    </tr>\n",
       "    <tr>\n",
       "      <th>1961-11</th>\n",
       "      <td>437.7020</td>\n",
       "    </tr>\n",
       "    <tr>\n",
       "      <th>1961-12</th>\n",
       "      <td>472.7837</td>\n",
       "    </tr>\n",
       "    <tr>\n",
       "      <th>1962-01</th>\n",
       "      <td>487.5083</td>\n",
       "    </tr>\n",
       "    <tr>\n",
       "      <th>1962-02</th>\n",
       "      <td>461.4136</td>\n",
       "    </tr>\n",
       "    <tr>\n",
       "      <th>1962-03</th>\n",
       "      <td>503.0020</td>\n",
       "    </tr>\n",
       "    <tr>\n",
       "      <th>1962-04</th>\n",
       "      <td>521.8092</td>\n",
       "    </tr>\n",
       "    <tr>\n",
       "      <th>1962-05</th>\n",
       "      <td>538.5017</td>\n",
       "    </tr>\n",
       "    <tr>\n",
       "      <th>1962-06</th>\n",
       "      <td>598.5875</td>\n",
       "    </tr>\n",
       "    <tr>\n",
       "      <th>1962-07</th>\n",
       "      <td>682.2617</td>\n",
       "    </tr>\n",
       "    <tr>\n",
       "      <th>1962-08</th>\n",
       "      <td>678.9578</td>\n",
       "    </tr>\n",
       "    <tr>\n",
       "      <th>1962-09</th>\n",
       "      <td>571.5121</td>\n",
       "    </tr>\n",
       "  </tbody>\n",
       "</table>\n",
       "</div>"
      ],
      "text/plain": [
       "           y_pred\n",
       "1960-10  455.2909\n",
       "1960-11  406.4324\n",
       "1960-12  441.5140\n",
       "1961-01  456.2386\n",
       "1961-02  430.1439\n",
       "1961-03  471.7323\n",
       "1961-04  490.5395\n",
       "1961-05  507.2320\n",
       "1961-06  567.3178\n",
       "1961-07  650.9920\n",
       "1961-08  647.6881\n",
       "1961-09  540.2424\n",
       "1961-10  486.5606\n",
       "1961-11  437.7020\n",
       "1961-12  472.7837\n",
       "1962-01  487.5083\n",
       "1962-02  461.4136\n",
       "1962-03  503.0020\n",
       "1962-04  521.8092\n",
       "1962-05  538.5017\n",
       "1962-06  598.5875\n",
       "1962-07  682.2617\n",
       "1962-08  678.9578\n",
       "1962-09  571.5121"
      ]
     },
     "execution_count": 7,
     "metadata": {},
     "output_type": "execute_result"
    }
   ],
   "source": [
    "# functional API\n",
    "final_best = finalize_model(best)\n",
    "predict_model(best, fh = 24)"
   ]
  },
  {
   "cell_type": "markdown",
   "metadata": {},
   "source": [
    "## Save the model"
   ]
  },
  {
   "cell_type": "code",
   "execution_count": 8,
   "metadata": {},
   "outputs": [
    {
     "name": "stdout",
     "output_type": "stream",
     "text": [
      "Transformation Pipeline and Model Successfully Saved\n"
     ]
    },
    {
     "data": {
      "text/plain": [
       "(ForecastingPipeline(steps=[('forecaster',\n",
       "                             TransformedTargetForecaster(steps=[('model',\n",
       "                                                                 ForecastingPipeline(steps=[('forecaster',\n",
       "                                                                                             TransformedTargetForecaster(steps=[('model',\n",
       "                                                                                                                                 STLForecaster(sp=12))]))]))]))]),\n",
       " 'my_final_best_model.pkl')"
      ]
     },
     "execution_count": 8,
     "metadata": {},
     "output_type": "execute_result"
    }
   ],
   "source": [
    "# functional API\n",
    "save_model(final_best, 'my_final_best_model')"
   ]
  },
  {
   "cell_type": "code",
   "execution_count": 9,
   "metadata": {},
   "outputs": [
    {
     "name": "stdout",
     "output_type": "stream",
     "text": [
      "Transformation Pipeline and Model Successfully Loaded\n",
      "ForecastingPipeline(steps=[('forecaster',\n",
      "                            TransformedTargetForecaster(steps=[('model',\n",
      "                                                                ForecastingPipeline(steps=[('forecaster',\n",
      "                                                                                            TransformedTargetForecaster(steps=[('model',\n",
      "                                                                                                                                STLForecaster(sp=12))]))]))]))])\n"
     ]
    }
   ],
   "source": [
    "# To load the model back in the environment:\n",
    "\n",
    "# functional API\n",
    "loaded_model = load_model('my_final_best_model')\n",
    "print(loaded_model)"
   ]
  }
 ],
 "metadata": {
  "kernelspec": {
   "display_name": "ml-notes",
   "language": "python",
   "name": "python3"
  },
  "language_info": {
   "codemirror_mode": {
    "name": "ipython",
    "version": 3
   },
   "file_extension": ".py",
   "mimetype": "text/x-python",
   "name": "python",
   "nbconvert_exporter": "python",
   "pygments_lexer": "ipython3",
   "version": "3.10.12"
  },
  "orig_nbformat": 4
 },
 "nbformat": 4,
 "nbformat_minor": 2
}
