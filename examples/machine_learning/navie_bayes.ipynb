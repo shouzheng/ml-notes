{
 "cells": [
  {
   "cell_type": "markdown",
   "metadata": {},
   "source": [
    "# 基于朴素贝叶斯的垃圾邮件识别\n",
    "\n",
    "使用朴素贝叶斯分类器，对垃圾邮件进行分类。基于贝叶斯定理，通过对邮件中的出现的词语评估邮件是垃圾邮件的概率，从而给出预测结果。\n",
    "\n",
    "如，判断单词Free出现的情况下，是垃圾邮件的概率：\n",
    "\n",
    "$$\n",
    "P(Spam|Free)=\\frac{P(Spam)P(Free|Spam)}{P(Free)}\n",
    "$$\n",
    "\n",
    "分类器应该检查邮件中的每个单词，并确定每个单词对结果评估有多大贡献，所以我们需要用所有可能的单词去训练模型，但要除去\"a\"、\"the\"、\"and\"这种无意义的词。当检查了邮件中所有的单词，可以把每个单词所确定的垃圾邮件的概率相乘，从而得到最终的概率。"
   ]
  },
  {
   "cell_type": "code",
   "execution_count": 1,
   "metadata": {},
   "outputs": [],
   "source": [
    "import os\n",
    "import io\n",
    "import numpy\n",
    "from pandas import DataFrame\n",
    "from sklearn.feature_extraction.text import CountVectorizer\n",
    "from sklearn.naive_bayes import MultinomialNB\n",
    "\n",
    "def readFiles(path):\n",
    "    for root, dirnames, filenames in os.walk(path):\n",
    "        for filename in filenames:\n",
    "            path = os.path.join(root, filename)\n",
    "\n",
    "            inBody = False\n",
    "            lines = []\n",
    "            with io.open(path, 'r', encoding='latin1') as f:\n",
    "                for line in f:\n",
    "                    if inBody:\n",
    "                        lines.append(line)\n",
    "                    elif line == '\\n':\n",
    "                        inBody = True\n",
    "            message = '\\n'.join(lines)\n",
    "            yield path, message\n",
    "\n",
    "\n",
    "def dataFrameFromDirectory(path, classification):\n",
    "    rows = []\n",
    "    index = []\n",
    "    for filename, message in readFiles(path):\n",
    "        rows.append({'message': message, 'class': classification})\n",
    "        index.append(filename)\n",
    "    return DataFrame(rows, index=index)\n",
    "\n",
    "\n",
    "data = DataFrame({'message': [], 'class': []})\n",
    "\n",
    "import pandas as pd\n",
    "data = pd.concat([data, dataFrameFromDirectory('./data/emails/spam', 'spam')])\n",
    "data = pd.concat([data, dataFrameFromDirectory('./data/emails/ham', 'ham')])\n"
   ]
  },
  {
   "cell_type": "code",
   "execution_count": 2,
   "metadata": {},
   "outputs": [
    {
     "data": {
      "text/html": [
       "<div>\n",
       "<style scoped>\n",
       "    .dataframe tbody tr th:only-of-type {\n",
       "        vertical-align: middle;\n",
       "    }\n",
       "\n",
       "    .dataframe tbody tr th {\n",
       "        vertical-align: top;\n",
       "    }\n",
       "\n",
       "    .dataframe thead th {\n",
       "        text-align: right;\n",
       "    }\n",
       "</style>\n",
       "<table border=\"1\" class=\"dataframe\">\n",
       "  <thead>\n",
       "    <tr style=\"text-align: right;\">\n",
       "      <th></th>\n",
       "      <th>message</th>\n",
       "      <th>class</th>\n",
       "    </tr>\n",
       "  </thead>\n",
       "  <tbody>\n",
       "    <tr>\n",
       "      <th>./data/emails/spam\\00001.7848dde101aa985090474a91ec93fcf0</th>\n",
       "      <td>&lt;!DOCTYPE HTML PUBLIC \"-//W3C//DTD HTML 4.0 Tr...</td>\n",
       "      <td>spam</td>\n",
       "    </tr>\n",
       "    <tr>\n",
       "      <th>./data/emails/spam\\00002.d94f1b97e48ed3b553b3508d116e6a09</th>\n",
       "      <td>1) Fight The Risk of Cancer!\\n\\nhttp://www.adc...</td>\n",
       "      <td>spam</td>\n",
       "    </tr>\n",
       "    <tr>\n",
       "      <th>./data/emails/spam\\00003.2ee33bc6eacdb11f38d052c44819ba6c</th>\n",
       "      <td>1) Fight The Risk of Cancer!\\n\\nhttp://www.adc...</td>\n",
       "      <td>spam</td>\n",
       "    </tr>\n",
       "    <tr>\n",
       "      <th>./data/emails/spam\\00004.eac8de8d759b7e74154f142194282724</th>\n",
       "      <td>##############################################...</td>\n",
       "      <td>spam</td>\n",
       "    </tr>\n",
       "    <tr>\n",
       "      <th>./data/emails/spam\\00005.57696a39d7d84318ce497886896bf90d</th>\n",
       "      <td>I thought you might like these:\\n\\n1) Slim Dow...</td>\n",
       "      <td>spam</td>\n",
       "    </tr>\n",
       "  </tbody>\n",
       "</table>\n",
       "</div>"
      ],
      "text/plain": [
       "                                                                                              message  \\\n",
       "./data/emails/spam\\00001.7848dde101aa985090474a...  <!DOCTYPE HTML PUBLIC \"-//W3C//DTD HTML 4.0 Tr...   \n",
       "./data/emails/spam\\00002.d94f1b97e48ed3b553b350...  1) Fight The Risk of Cancer!\\n\\nhttp://www.adc...   \n",
       "./data/emails/spam\\00003.2ee33bc6eacdb11f38d052...  1) Fight The Risk of Cancer!\\n\\nhttp://www.adc...   \n",
       "./data/emails/spam\\00004.eac8de8d759b7e74154f14...  ##############################################...   \n",
       "./data/emails/spam\\00005.57696a39d7d84318ce4978...  I thought you might like these:\\n\\n1) Slim Dow...   \n",
       "\n",
       "                                                   class  \n",
       "./data/emails/spam\\00001.7848dde101aa985090474a...  spam  \n",
       "./data/emails/spam\\00002.d94f1b97e48ed3b553b350...  spam  \n",
       "./data/emails/spam\\00003.2ee33bc6eacdb11f38d052...  spam  \n",
       "./data/emails/spam\\00004.eac8de8d759b7e74154f14...  spam  \n",
       "./data/emails/spam\\00005.57696a39d7d84318ce4978...  spam  "
      ]
     },
     "execution_count": 2,
     "metadata": {},
     "output_type": "execute_result"
    }
   ],
   "source": [
    "data.head()"
   ]
  },
  {
   "cell_type": "code",
   "execution_count": null,
   "metadata": {},
   "outputs": [],
   "source": []
  }
 ],
 "metadata": {
  "interpreter": {
   "hash": "0505a141b7028e128ad26f15436d60bea4d56aa176bee2811f6c124dab9ff921"
  },
  "kernelspec": {
   "display_name": "Python 3.8.5 ('machine-learning')",
   "language": "python",
   "name": "python3"
  },
  "language_info": {
   "codemirror_mode": {
    "name": "ipython",
    "version": 3
   },
   "file_extension": ".py",
   "mimetype": "text/x-python",
   "name": "python",
   "nbconvert_exporter": "python",
   "pygments_lexer": "ipython3",
   "version": "3.10.12"
  },
  "orig_nbformat": 4
 },
 "nbformat": 4,
 "nbformat_minor": 2
}
