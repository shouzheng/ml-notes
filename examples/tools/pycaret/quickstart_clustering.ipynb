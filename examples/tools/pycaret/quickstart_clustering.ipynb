{
 "cells": [
  {
   "cell_type": "markdown",
   "metadata": {},
   "source": [
    "# [Clustering](https://pycaret.gitbook.io/docs/get-started/quickstart#clustering)"
   ]
  },
  {
   "cell_type": "markdown",
   "metadata": {},
   "source": [
    "## Setup"
   ]
  },
  {
   "cell_type": "code",
   "execution_count": 1,
   "metadata": {},
   "outputs": [
    {
     "data": {
      "text/html": [
       "<div>\n",
       "<style scoped>\n",
       "    .dataframe tbody tr th:only-of-type {\n",
       "        vertical-align: middle;\n",
       "    }\n",
       "\n",
       "    .dataframe tbody tr th {\n",
       "        vertical-align: top;\n",
       "    }\n",
       "\n",
       "    .dataframe thead th {\n",
       "        text-align: right;\n",
       "    }\n",
       "</style>\n",
       "<table border=\"1\" class=\"dataframe\">\n",
       "  <thead>\n",
       "    <tr style=\"text-align: right;\">\n",
       "      <th></th>\n",
       "      <th>Age</th>\n",
       "      <th>Income</th>\n",
       "      <th>SpendingScore</th>\n",
       "      <th>Savings</th>\n",
       "    </tr>\n",
       "  </thead>\n",
       "  <tbody>\n",
       "    <tr>\n",
       "      <th>0</th>\n",
       "      <td>58</td>\n",
       "      <td>77769</td>\n",
       "      <td>0.791329</td>\n",
       "      <td>6559.829923</td>\n",
       "    </tr>\n",
       "    <tr>\n",
       "      <th>1</th>\n",
       "      <td>59</td>\n",
       "      <td>81799</td>\n",
       "      <td>0.791082</td>\n",
       "      <td>5417.661426</td>\n",
       "    </tr>\n",
       "    <tr>\n",
       "      <th>2</th>\n",
       "      <td>62</td>\n",
       "      <td>74751</td>\n",
       "      <td>0.702657</td>\n",
       "      <td>9258.992965</td>\n",
       "    </tr>\n",
       "    <tr>\n",
       "      <th>3</th>\n",
       "      <td>59</td>\n",
       "      <td>74373</td>\n",
       "      <td>0.765680</td>\n",
       "      <td>7346.334504</td>\n",
       "    </tr>\n",
       "    <tr>\n",
       "      <th>4</th>\n",
       "      <td>87</td>\n",
       "      <td>17760</td>\n",
       "      <td>0.348778</td>\n",
       "      <td>16869.507130</td>\n",
       "    </tr>\n",
       "  </tbody>\n",
       "</table>\n",
       "</div>"
      ],
      "text/plain": [
       "   Age  Income  SpendingScore       Savings\n",
       "0   58   77769       0.791329   6559.829923\n",
       "1   59   81799       0.791082   5417.661426\n",
       "2   62   74751       0.702657   9258.992965\n",
       "3   59   74373       0.765680   7346.334504\n",
       "4   87   17760       0.348778  16869.507130"
      ]
     },
     "metadata": {},
     "output_type": "display_data"
    }
   ],
   "source": [
    "# load sample dataset\n",
    "from pycaret.datasets import get_data\n",
    "data = get_data('jewellery')"
   ]
  },
  {
   "cell_type": "code",
   "execution_count": 2,
   "metadata": {},
   "outputs": [
    {
     "data": {
      "text/html": [
       "<style type=\"text/css\">\n",
       "#T_128a1_row4_col1, #T_128a1_row8_col1 {\n",
       "  background-color: lightgreen;\n",
       "}\n",
       "</style>\n",
       "<table id=\"T_128a1\">\n",
       "  <thead>\n",
       "    <tr>\n",
       "      <th class=\"blank level0\" >&nbsp;</th>\n",
       "      <th id=\"T_128a1_level0_col0\" class=\"col_heading level0 col0\" >Description</th>\n",
       "      <th id=\"T_128a1_level0_col1\" class=\"col_heading level0 col1\" >Value</th>\n",
       "    </tr>\n",
       "  </thead>\n",
       "  <tbody>\n",
       "    <tr>\n",
       "      <th id=\"T_128a1_level0_row0\" class=\"row_heading level0 row0\" >0</th>\n",
       "      <td id=\"T_128a1_row0_col0\" class=\"data row0 col0\" >Session id</td>\n",
       "      <td id=\"T_128a1_row0_col1\" class=\"data row0 col1\" >3554</td>\n",
       "    </tr>\n",
       "    <tr>\n",
       "      <th id=\"T_128a1_level0_row1\" class=\"row_heading level0 row1\" >1</th>\n",
       "      <td id=\"T_128a1_row1_col0\" class=\"data row1 col0\" >Original data shape</td>\n",
       "      <td id=\"T_128a1_row1_col1\" class=\"data row1 col1\" >(505, 4)</td>\n",
       "    </tr>\n",
       "    <tr>\n",
       "      <th id=\"T_128a1_level0_row2\" class=\"row_heading level0 row2\" >2</th>\n",
       "      <td id=\"T_128a1_row2_col0\" class=\"data row2 col0\" >Transformed data shape</td>\n",
       "      <td id=\"T_128a1_row2_col1\" class=\"data row2 col1\" >(505, 4)</td>\n",
       "    </tr>\n",
       "    <tr>\n",
       "      <th id=\"T_128a1_level0_row3\" class=\"row_heading level0 row3\" >3</th>\n",
       "      <td id=\"T_128a1_row3_col0\" class=\"data row3 col0\" >Numeric features</td>\n",
       "      <td id=\"T_128a1_row3_col1\" class=\"data row3 col1\" >4</td>\n",
       "    </tr>\n",
       "    <tr>\n",
       "      <th id=\"T_128a1_level0_row4\" class=\"row_heading level0 row4\" >4</th>\n",
       "      <td id=\"T_128a1_row4_col0\" class=\"data row4 col0\" >Preprocess</td>\n",
       "      <td id=\"T_128a1_row4_col1\" class=\"data row4 col1\" >True</td>\n",
       "    </tr>\n",
       "    <tr>\n",
       "      <th id=\"T_128a1_level0_row5\" class=\"row_heading level0 row5\" >5</th>\n",
       "      <td id=\"T_128a1_row5_col0\" class=\"data row5 col0\" >Imputation type</td>\n",
       "      <td id=\"T_128a1_row5_col1\" class=\"data row5 col1\" >simple</td>\n",
       "    </tr>\n",
       "    <tr>\n",
       "      <th id=\"T_128a1_level0_row6\" class=\"row_heading level0 row6\" >6</th>\n",
       "      <td id=\"T_128a1_row6_col0\" class=\"data row6 col0\" >Numeric imputation</td>\n",
       "      <td id=\"T_128a1_row6_col1\" class=\"data row6 col1\" >mean</td>\n",
       "    </tr>\n",
       "    <tr>\n",
       "      <th id=\"T_128a1_level0_row7\" class=\"row_heading level0 row7\" >7</th>\n",
       "      <td id=\"T_128a1_row7_col0\" class=\"data row7 col0\" >Categorical imputation</td>\n",
       "      <td id=\"T_128a1_row7_col1\" class=\"data row7 col1\" >mode</td>\n",
       "    </tr>\n",
       "    <tr>\n",
       "      <th id=\"T_128a1_level0_row8\" class=\"row_heading level0 row8\" >8</th>\n",
       "      <td id=\"T_128a1_row8_col0\" class=\"data row8 col0\" >Normalize</td>\n",
       "      <td id=\"T_128a1_row8_col1\" class=\"data row8 col1\" >True</td>\n",
       "    </tr>\n",
       "    <tr>\n",
       "      <th id=\"T_128a1_level0_row9\" class=\"row_heading level0 row9\" >9</th>\n",
       "      <td id=\"T_128a1_row9_col0\" class=\"data row9 col0\" >Normalize method</td>\n",
       "      <td id=\"T_128a1_row9_col1\" class=\"data row9 col1\" >zscore</td>\n",
       "    </tr>\n",
       "    <tr>\n",
       "      <th id=\"T_128a1_level0_row10\" class=\"row_heading level0 row10\" >10</th>\n",
       "      <td id=\"T_128a1_row10_col0\" class=\"data row10 col0\" >CPU Jobs</td>\n",
       "      <td id=\"T_128a1_row10_col1\" class=\"data row10 col1\" >-1</td>\n",
       "    </tr>\n",
       "    <tr>\n",
       "      <th id=\"T_128a1_level0_row11\" class=\"row_heading level0 row11\" >11</th>\n",
       "      <td id=\"T_128a1_row11_col0\" class=\"data row11 col0\" >Use GPU</td>\n",
       "      <td id=\"T_128a1_row11_col1\" class=\"data row11 col1\" >False</td>\n",
       "    </tr>\n",
       "    <tr>\n",
       "      <th id=\"T_128a1_level0_row12\" class=\"row_heading level0 row12\" >12</th>\n",
       "      <td id=\"T_128a1_row12_col0\" class=\"data row12 col0\" >Log Experiment</td>\n",
       "      <td id=\"T_128a1_row12_col1\" class=\"data row12 col1\" >False</td>\n",
       "    </tr>\n",
       "    <tr>\n",
       "      <th id=\"T_128a1_level0_row13\" class=\"row_heading level0 row13\" >13</th>\n",
       "      <td id=\"T_128a1_row13_col0\" class=\"data row13 col0\" >Experiment Name</td>\n",
       "      <td id=\"T_128a1_row13_col1\" class=\"data row13 col1\" >cluster-default-name</td>\n",
       "    </tr>\n",
       "    <tr>\n",
       "      <th id=\"T_128a1_level0_row14\" class=\"row_heading level0 row14\" >14</th>\n",
       "      <td id=\"T_128a1_row14_col0\" class=\"data row14 col0\" >USI</td>\n",
       "      <td id=\"T_128a1_row14_col1\" class=\"data row14 col1\" >d572</td>\n",
       "    </tr>\n",
       "  </tbody>\n",
       "</table>\n"
      ],
      "text/plain": [
       "<pandas.io.formats.style.Styler at 0x16bde03a7d0>"
      ]
     },
     "metadata": {},
     "output_type": "display_data"
    }
   ],
   "source": [
    "from pycaret.clustering import *\n",
    "s = setup(data, normalize = True)"
   ]
  },
  {
   "cell_type": "markdown",
   "metadata": {},
   "source": [
    "## Create Model"
   ]
  },
  {
   "cell_type": "code",
   "execution_count": 3,
   "metadata": {},
   "outputs": [
    {
     "data": {
      "text/html": [],
      "text/plain": [
       "<IPython.core.display.HTML object>"
      ]
     },
     "metadata": {},
     "output_type": "display_data"
    },
    {
     "data": {
      "text/html": [
       "<style type=\"text/css\">\n",
       "</style>\n",
       "<table id=\"T_ee3e3\">\n",
       "  <thead>\n",
       "    <tr>\n",
       "      <th class=\"blank level0\" >&nbsp;</th>\n",
       "      <th id=\"T_ee3e3_level0_col0\" class=\"col_heading level0 col0\" >Silhouette</th>\n",
       "      <th id=\"T_ee3e3_level0_col1\" class=\"col_heading level0 col1\" >Calinski-Harabasz</th>\n",
       "      <th id=\"T_ee3e3_level0_col2\" class=\"col_heading level0 col2\" >Davies-Bouldin</th>\n",
       "      <th id=\"T_ee3e3_level0_col3\" class=\"col_heading level0 col3\" >Homogeneity</th>\n",
       "      <th id=\"T_ee3e3_level0_col4\" class=\"col_heading level0 col4\" >Rand Index</th>\n",
       "      <th id=\"T_ee3e3_level0_col5\" class=\"col_heading level0 col5\" >Completeness</th>\n",
       "    </tr>\n",
       "  </thead>\n",
       "  <tbody>\n",
       "    <tr>\n",
       "      <th id=\"T_ee3e3_level0_row0\" class=\"row_heading level0 row0\" >0</th>\n",
       "      <td id=\"T_ee3e3_row0_col0\" class=\"data row0 col0\" >0.7581</td>\n",
       "      <td id=\"T_ee3e3_row0_col1\" class=\"data row0 col1\" >1611.2647</td>\n",
       "      <td id=\"T_ee3e3_row0_col2\" class=\"data row0 col2\" >0.3743</td>\n",
       "      <td id=\"T_ee3e3_row0_col3\" class=\"data row0 col3\" >0</td>\n",
       "      <td id=\"T_ee3e3_row0_col4\" class=\"data row0 col4\" >0</td>\n",
       "      <td id=\"T_ee3e3_row0_col5\" class=\"data row0 col5\" >0</td>\n",
       "    </tr>\n",
       "  </tbody>\n",
       "</table>\n"
      ],
      "text/plain": [
       "<pandas.io.formats.style.Styler at 0x16bc7348b80>"
      ]
     },
     "metadata": {},
     "output_type": "display_data"
    },
    {
     "data": {
      "text/html": [],
      "text/plain": [
       "<IPython.core.display.HTML object>"
      ]
     },
     "metadata": {},
     "output_type": "display_data"
    }
   ],
   "source": [
    "# functional API\n",
    "kmeans = create_model('kmeans')"
   ]
  },
  {
   "cell_type": "code",
   "execution_count": 4,
   "metadata": {},
   "outputs": [
    {
     "name": "stdout",
     "output_type": "stream",
     "text": [
      "KMeans(n_clusters=4, random_state=3554)\n"
     ]
    }
   ],
   "source": [
    "print(kmeans)"
   ]
  },
  {
   "cell_type": "code",
   "execution_count": 6,
   "metadata": {},
   "outputs": [
    {
     "ename": "NameError",
     "evalue": "name 'compare_models' is not defined",
     "output_type": "error",
     "traceback": [
      "\u001b[1;31m---------------------------------------------------------------------------\u001b[0m",
      "\u001b[1;31mNameError\u001b[0m                                 Traceback (most recent call last)",
      "Cell \u001b[1;32mIn[6], line 1\u001b[0m\n\u001b[1;32m----> 1\u001b[0m best \u001b[39m=\u001b[39m compare_models()\n",
      "\u001b[1;31mNameError\u001b[0m: name 'compare_models' is not defined"
     ]
    }
   ],
   "source": [
    "best = compare_models()"
   ]
  },
  {
   "cell_type": "code",
   "execution_count": 5,
   "metadata": {},
   "outputs": [
    {
     "data": {
      "text/html": [
       "<div>\n",
       "<style scoped>\n",
       "    .dataframe tbody tr th:only-of-type {\n",
       "        vertical-align: middle;\n",
       "    }\n",
       "\n",
       "    .dataframe tbody tr th {\n",
       "        vertical-align: top;\n",
       "    }\n",
       "\n",
       "    .dataframe thead th {\n",
       "        text-align: right;\n",
       "    }\n",
       "</style>\n",
       "<table border=\"1\" class=\"dataframe\">\n",
       "  <thead>\n",
       "    <tr style=\"text-align: right;\">\n",
       "      <th></th>\n",
       "      <th>Name</th>\n",
       "      <th>Reference</th>\n",
       "    </tr>\n",
       "    <tr>\n",
       "      <th>ID</th>\n",
       "      <th></th>\n",
       "      <th></th>\n",
       "    </tr>\n",
       "  </thead>\n",
       "  <tbody>\n",
       "    <tr>\n",
       "      <th>kmeans</th>\n",
       "      <td>K-Means Clustering</td>\n",
       "      <td>sklearn.cluster._kmeans.KMeans</td>\n",
       "    </tr>\n",
       "    <tr>\n",
       "      <th>ap</th>\n",
       "      <td>Affinity Propagation</td>\n",
       "      <td>sklearn.cluster._affinity_propagation.Affinity...</td>\n",
       "    </tr>\n",
       "    <tr>\n",
       "      <th>meanshift</th>\n",
       "      <td>Mean Shift Clustering</td>\n",
       "      <td>sklearn.cluster._mean_shift.MeanShift</td>\n",
       "    </tr>\n",
       "    <tr>\n",
       "      <th>sc</th>\n",
       "      <td>Spectral Clustering</td>\n",
       "      <td>sklearn.cluster._spectral.SpectralClustering</td>\n",
       "    </tr>\n",
       "    <tr>\n",
       "      <th>hclust</th>\n",
       "      <td>Agglomerative Clustering</td>\n",
       "      <td>sklearn.cluster._agglomerative.AgglomerativeCl...</td>\n",
       "    </tr>\n",
       "    <tr>\n",
       "      <th>dbscan</th>\n",
       "      <td>Density-Based Spatial Clustering</td>\n",
       "      <td>sklearn.cluster._dbscan.DBSCAN</td>\n",
       "    </tr>\n",
       "    <tr>\n",
       "      <th>optics</th>\n",
       "      <td>OPTICS Clustering</td>\n",
       "      <td>sklearn.cluster._optics.OPTICS</td>\n",
       "    </tr>\n",
       "    <tr>\n",
       "      <th>birch</th>\n",
       "      <td>Birch Clustering</td>\n",
       "      <td>sklearn.cluster._birch.Birch</td>\n",
       "    </tr>\n",
       "    <tr>\n",
       "      <th>kmodes</th>\n",
       "      <td>K-Modes Clustering</td>\n",
       "      <td>kmodes.kmodes.KModes</td>\n",
       "    </tr>\n",
       "  </tbody>\n",
       "</table>\n",
       "</div>"
      ],
      "text/plain": [
       "                                       Name  \\\n",
       "ID                                            \n",
       "kmeans                   K-Means Clustering   \n",
       "ap                     Affinity Propagation   \n",
       "meanshift             Mean Shift Clustering   \n",
       "sc                      Spectral Clustering   \n",
       "hclust             Agglomerative Clustering   \n",
       "dbscan     Density-Based Spatial Clustering   \n",
       "optics                    OPTICS Clustering   \n",
       "birch                      Birch Clustering   \n",
       "kmodes                   K-Modes Clustering   \n",
       "\n",
       "                                                   Reference  \n",
       "ID                                                            \n",
       "kmeans                        sklearn.cluster._kmeans.KMeans  \n",
       "ap         sklearn.cluster._affinity_propagation.Affinity...  \n",
       "meanshift              sklearn.cluster._mean_shift.MeanShift  \n",
       "sc              sklearn.cluster._spectral.SpectralClustering  \n",
       "hclust     sklearn.cluster._agglomerative.AgglomerativeCl...  \n",
       "dbscan                        sklearn.cluster._dbscan.DBSCAN  \n",
       "optics                        sklearn.cluster._optics.OPTICS  \n",
       "birch                           sklearn.cluster._birch.Birch  \n",
       "kmodes                                  kmodes.kmodes.KModes  "
      ]
     },
     "execution_count": 5,
     "metadata": {},
     "output_type": "execute_result"
    }
   ],
   "source": [
    "# functional API\n",
    "models()"
   ]
  },
  {
   "cell_type": "markdown",
   "metadata": {},
   "source": [
    "## Analyze Model"
   ]
  },
  {
   "cell_type": "code",
   "execution_count": 7,
   "metadata": {},
   "outputs": [
    {
     "data": {
      "application/vnd.jupyter.widget-view+json": {
       "model_id": "d85406b4c9d941cfa06118e5cc8191ff",
       "version_major": 2,
       "version_minor": 0
      },
      "text/plain": [
       "interactive(children=(ToggleButtons(description='Plot Type:', icons=('',), options=(('Pipeline Plot', 'pipelin…"
      ]
     },
     "metadata": {},
     "output_type": "display_data"
    },
    {
     "data": {
      "application/vnd.plotly.v1+json": {
       "config": {
        "plotlyServerURL": "https://plot.ly"
       },
       "data": [
        {
         "customdata": [
          [
           58
          ],
          [
           55
          ],
          [
           60
          ],
          [
           56
          ],
          [
           60
          ],
          [
           58
          ],
          [
           56
          ],
          [
           64
          ],
          [
           63
          ],
          [
           62
          ],
          [
           59
          ],
          [
           67
          ],
          [
           58
          ],
          [
           58
          ],
          [
           57
          ],
          [
           66
          ],
          [
           64
          ],
          [
           59
          ],
          [
           68
          ],
          [
           61
          ],
          [
           64
          ],
          [
           63
          ],
          [
           55
          ],
          [
           57
          ],
          [
           57
          ],
          [
           61
          ],
          [
           58
          ],
          [
           59
          ],
          [
           53
          ],
          [
           59
          ],
          [
           62
          ],
          [
           60
          ],
          [
           65
          ],
          [
           60
          ],
          [
           63
          ],
          [
           56
          ],
          [
           58
          ],
          [
           62
          ],
          [
           56
          ],
          [
           59
          ],
          [
           65
          ],
          [
           62
          ],
          [
           59
          ],
          [
           66
          ],
          [
           64
          ],
          [
           62
          ],
          [
           61
          ],
          [
           56
          ],
          [
           62
          ],
          [
           60
          ],
          [
           62
          ],
          [
           64
          ],
          [
           63
          ],
          [
           58
          ],
          [
           62
          ],
          [
           61
          ],
          [
           59
          ],
          [
           59
          ],
          [
           58
          ],
          [
           55
          ],
          [
           51
          ],
          [
           57
          ],
          [
           61
          ],
          [
           60
          ],
          [
           64
          ],
          [
           65
          ],
          [
           59
          ],
          [
           58
          ],
          [
           63
          ],
          [
           61
          ],
          [
           59
          ],
          [
           56
          ],
          [
           61
          ],
          [
           63
          ],
          [
           58
          ],
          [
           62
          ],
          [
           60
          ],
          [
           62
          ],
          [
           65
          ],
          [
           59
          ],
          [
           65
          ],
          [
           58
          ],
          [
           61
          ],
          [
           66
          ],
          [
           58
          ],
          [
           68
          ],
          [
           58
          ],
          [
           67
          ],
          [
           56
          ],
          [
           61
          ],
          [
           56
          ],
          [
           61
          ],
          [
           59
          ],
          [
           62
          ],
          [
           59
          ],
          [
           59
          ],
          [
           59
          ],
          [
           57
          ],
          [
           59
          ],
          [
           61
          ],
          [
           62
          ],
          [
           67
          ],
          [
           56
          ],
          [
           59
          ],
          [
           58
          ],
          [
           61
          ],
          [
           55
          ],
          [
           59
          ],
          [
           59
          ],
          [
           60
          ],
          [
           60
          ],
          [
           67
          ],
          [
           57
          ],
          [
           56
          ],
          [
           63
          ],
          [
           64
          ],
          [
           57
          ],
          [
           60
          ],
          [
           61
          ],
          [
           61
          ],
          [
           57
          ],
          [
           64
          ],
          [
           55
          ],
          [
           59
          ],
          [
           58
          ],
          [
           58
          ],
          [
           59
          ],
          [
           53
          ],
          [
           53
          ],
          [
           59
          ],
          [
           63
          ],
          [
           55
          ],
          [
           62
          ],
          [
           61
          ],
          [
           59
          ],
          [
           55
          ],
          [
           56
          ],
          [
           57
          ],
          [
           66
          ],
          [
           66
          ],
          [
           59
          ],
          [
           59
          ],
          [
           56
          ],
          [
           61
          ],
          [
           61
          ],
          [
           63
          ],
          [
           58
          ],
          [
           62
          ],
          [
           58
          ],
          [
           55
          ],
          [
           58
          ],
          [
           60
          ],
          [
           61
          ],
          [
           57
          ],
          [
           54
          ],
          [
           62
          ],
          [
           64
          ]
         ],
         "hovertemplate": "Cluster=Cluster 0<br>0=%{x}<br>1=%{y}<br>2=%{z}<br>Feature=%{customdata[0]}<extra></extra>",
         "legendgroup": "Cluster 0",
         "marker": {
          "color": "#636efa",
          "opacity": 0.7,
          "symbol": "circle"
         },
         "mode": "markers",
         "name": "Cluster 0",
         "scene": "scene",
         "showlegend": true,
         "type": "scatter3d",
         "x": [
          5.8956113,
          7.463234,
          5.116605,
          0.52773345,
          1.4745586,
          6.718115,
          2.284361,
          3.686636,
          3.7451885,
          3.5762691,
          5.076271,
          3.877047,
          2.1790268,
          5.9669423,
          1.9687382,
          3.187489,
          2.9073052,
          2.462499,
          4.2708592,
          1.2947983,
          3.8266685,
          1.4085251,
          3.460411,
          7.0866876,
          0.24018243,
          3.0183492,
          6.7738886,
          5.5578613,
          1.9103324,
          0.46089503,
          1.4651666,
          4.760745,
          4.010563,
          1.0068611,
          5.2324686,
          5.373287,
          5.0956354,
          1.923249,
          0.3157356,
          0.9096429,
          4.1493006,
          1.080149,
          4.255559,
          4.000497,
          1.9565786,
          1.4448992,
          2.007461,
          4.475904,
          4.301635,
          1.5918909,
          4.226805,
          4.233341,
          2.2977765,
          5.184599,
          2.1866949,
          4.169233,
          3.6239934,
          0.7398455,
          0.87077045,
          0.84116477,
          7.1344643,
          2.265324,
          2.8869019,
          2.8393743,
          1.4525744,
          3.1020753,
          1.6802278,
          5.8564734,
          2.6396785,
          1.6611125,
          4.0419836,
          2.4208393,
          2.904558,
          3.1424787,
          2.475616,
          5.5730386,
          1.2682949,
          5.4221034,
          1.5877942,
          6.4254146,
          3.1924262,
          6.3864646,
          0.56539035,
          2.091472,
          6.54268,
          3.2839894,
          1.6718644,
          4.872632,
          6.0812206,
          5.0146146,
          5.5195346,
          0.8964075,
          2.3471951,
          4.198161,
          2.662516,
          0.4857475,
          5.048865,
          1.0417293,
          0.2579149,
          3.538268,
          3.0355637,
          3.4875598,
          2.8395498,
          6.4839206,
          2.263128,
          5.0815096,
          2.186639,
          5.3033514,
          5.5231895,
          0.89471513,
          5.368093,
          4.48839,
          6.8129697,
          4.921188,
          6.428273,
          5.416343,
          5.8747573,
          3.9776363,
          5.1931877,
          5.129014,
          5.7012525,
          4.4632525,
          1.9621991,
          5.7581496,
          3.0097873,
          0.6308178,
          1.6122414,
          0.45899945,
          3.648551,
          3.3677027,
          5.849169,
          5.1057196,
          2.00667,
          3.7660556,
          4.201039,
          6.6708593,
          0.9000411,
          6.053568,
          4.3576193,
          4.1722784,
          6.2718797,
          3.0793767,
          2.780796,
          4.573287,
          4.655265,
          4.6627884,
          2.6073244,
          2.0193653,
          3.7199013,
          1.9317161,
          1.5731391,
          6.0947385,
          5.772678,
          0.86512965,
          6.447358,
          5.9786797,
          1.4593067
         ],
         "y": [
          -7.8780546,
          -7.0317,
          -7.867588,
          -6.720314,
          -9.834039,
          -7.1288767,
          -6.732615,
          -4.4568186,
          -7.9661174,
          -4.6871,
          -4.234712,
          -3.8408926,
          -4.338369,
          -4.796088,
          -6.809366,
          -6.7309084,
          -6.416635,
          -4.909286,
          -6.029139,
          -5.8246617,
          -5.99839,
          -8.7293,
          -3.7049398,
          -7.0493684,
          -4.9416275,
          -10.893708,
          -7.3617005,
          -7.7997546,
          -10.101531,
          -6.148115,
          -8.4899845,
          -10.034089,
          -5.162252,
          -7.7028184,
          -4.7503066,
          -9.2042265,
          -9.140908,
          -6.7526035,
          -6.636681,
          -6.0498495,
          -5.043895,
          -6.793676,
          -7.9649587,
          -6.368987,
          -5.76817,
          -6.659903,
          -10.516677,
          -10.601033,
          -7.8965807,
          -4.1820416,
          -6.2770576,
          -7.564647,
          -7.407691,
          -8.74833,
          -6.0147753,
          -10.650355,
          -5.427384,
          -5.7201185,
          -7.732811,
          -5.7680044,
          -9.205278,
          -6.713015,
          -7.4874196,
          -8.654756,
          -9.183208,
          -6.9209313,
          -10.3868475,
          -7.858706,
          -9.538874,
          -5.8700976,
          -8.478454,
          -3.963263,
          -7.3874774,
          -7.211045,
          -8.856605,
          -4.3177066,
          -8.232022,
          -5.390954,
          -6.403809,
          -7.0940037,
          -10.732146,
          -8.488361,
          -6.9283323,
          -6.0208497,
          -8.927727,
          -6.114777,
          -10.421641,
          -4.8074374,
          -8.6335535,
          -9.271813,
          -9.30921,
          -7.8691254,
          -9.98117,
          -7.190323,
          -4.778051,
          -7.145342,
          -9.336653,
          -5.3153396,
          -6.458858,
          -5.617165,
          -4.733895,
          -6.480016,
          -10.310381,
          -6.3397717,
          -9.737228,
          -3.5645328,
          -10.076537,
          -9.753447,
          -7.991285,
          -6.033265,
          -4.4788055,
          -6.5534086,
          -6.709143,
          -9.57498,
          -6.4303765,
          -7.4624896,
          -6.1655807,
          -7.963821,
          -4.278588,
          -9.408984,
          -8.510189,
          -7.7491636,
          -9.628813,
          -6.939519,
          -10.013846,
          -6.2238164,
          -7.487065,
          -6.8497977,
          -3.5249856,
          -11.306882,
          -5.099189,
          -10.324881,
          -5.6537995,
          -8.484523,
          -7.469063,
          -8.334847,
          -7.475398,
          -8.063037,
          -6.070939,
          -3.8728685,
          -5.5725164,
          -8.66956,
          -10.685988,
          -7.6822286,
          -8.486085,
          -7.724858,
          -7.9578376,
          -11.085992,
          -3.9991682,
          -9.38142,
          -8.463057,
          -4.958908,
          -4.6910896,
          -7.9281435,
          -8.9501095,
          -5.5155077,
          -8.719811
         ],
         "z": [
          0.13512738,
          0.8728224,
          3.5992785,
          3.8340213,
          3.5282753,
          -0.2650631,
          3.612116,
          3.2289524,
          0.5901009,
          3.343621,
          0.41756043,
          3.446494,
          -0.20856287,
          1.7908505,
          3.6034226,
          0.62267846,
          -1.2649673,
          1.9297861,
          -1.3681303,
          0.8812642,
          -1.1046925,
          4.6267576,
          0.43908566,
          0.42285216,
          1.2208827,
          3.4073687,
          -0.77166194,
          0.5722825,
          1.0091074,
          0.96068877,
          4.223498,
          3.300378,
          3.008628,
          1.4824209,
          -0.6664789,
          -0.6671616,
          1.3229083,
          1.1195581,
          2.3101006,
          1.9341133,
          3.0406656,
          -1.0756941,
          3.3699758,
          -1.7181925,
          -1.1938655,
          1.3586235,
          3.3769732,
          3.281582,
          -0.30600363,
          2.3826718,
          2.622103,
          -2.08028,
          1.1563424,
          0.18373786,
          1.9379746,
          3.4771886,
          4.418509,
          1.8358982,
          0.12547287,
          3.2172723,
          0.5933797,
          2.5875552,
          -0.94935966,
          0.8598117,
          4.2620363,
          0.24716696,
          3.3517067,
          0.048393875,
          -0.88359666,
          1.817432,
          3.263706,
          1.9773812,
          1.5680444,
          1.2923473,
          1.9555063,
          0.8378349,
          3.8149123,
          2.5739899,
          0.122694805,
          3.1342309,
          3.651266,
          3.3823173,
          0.011097904,
          -1.2278465,
          3.2507315,
          0.6859966,
          3.2186782,
          -1.0181519,
          0.3642959,
          3.1443813,
          0.5882889,
          2.5106297,
          -0.2071201,
          2.662763,
          1.9443318,
          -0.97122383,
          2.761945,
          2.8008163,
          0.28859472,
          2.9709828,
          3.1367137,
          0.8670631,
          0.27284893,
          -0.48355946,
          -0.23013592,
          1.2375809,
          0.6949074,
          3.1701648,
          -1.8061638,
          1.227255,
          2.2214694,
          -1.6932344,
          -0.1020185,
          1.6544946,
          3.084622,
          2.867903,
          0.75896627,
          2.7373552,
          0.5232578,
          3.2530944,
          -0.15409541,
          -2.110512,
          1.5221342,
          1.0951837,
          0.5664395,
          1.7327808,
          1.9493207,
          3.9132113,
          0.23398057,
          3.2673767,
          1.7992663,
          1.8048689,
          0.15605156,
          0.38892812,
          3.6815295,
          0.5742515,
          3.9059653,
          0.3283996,
          -0.27425554,
          3.1697898,
          -0.37344363,
          1.0593804,
          -0.28324974,
          3.8894987,
          2.3304794,
          -1.9813638,
          2.4460592,
          2.9596612,
          1.0636109,
          1.6576253,
          0.68831396,
          -0.02909263,
          1.9430902,
          0.26553115,
          0.3964908,
          2.4543111,
          4.525414
         ]
        },
        {
         "customdata": [
          [
           87
          ],
          [
           94
          ],
          [
           86
          ],
          [
           92
          ],
          [
           86
          ],
          [
           91
          ],
          [
           82
          ],
          [
           87
          ],
          [
           89
          ],
          [
           90
          ],
          [
           88
          ],
          [
           93
          ],
          [
           85
          ],
          [
           84
          ],
          [
           86
          ],
          [
           83
          ],
          [
           94
          ],
          [
           83
          ],
          [
           88
          ],
          [
           83
          ],
          [
           91
          ],
          [
           84
          ],
          [
           90
          ],
          [
           90
          ],
          [
           88
          ],
          [
           87
          ],
          [
           83
          ],
          [
           88
          ],
          [
           90
          ],
          [
           91
          ],
          [
           84
          ],
          [
           87
          ],
          [
           91
          ],
          [
           85
          ],
          [
           87
          ],
          [
           88
          ],
          [
           87
          ],
          [
           88
          ],
          [
           90
          ],
          [
           91
          ],
          [
           91
          ],
          [
           91
          ],
          [
           83
          ],
          [
           92
          ],
          [
           87
          ],
          [
           85
          ],
          [
           94
          ],
          [
           86
          ],
          [
           92
          ],
          [
           84
          ],
          [
           83
          ],
          [
           87
          ],
          [
           90
          ],
          [
           87
          ],
          [
           88
          ],
          [
           86
          ],
          [
           84
          ],
          [
           90
          ],
          [
           91
          ],
          [
           92
          ],
          [
           97
          ],
          [
           84
          ],
          [
           92
          ],
          [
           87
          ],
          [
           91
          ],
          [
           93
          ],
          [
           90
          ],
          [
           84
          ],
          [
           87
          ],
          [
           82
          ],
          [
           90
          ],
          [
           83
          ],
          [
           91
          ],
          [
           88
          ],
          [
           91
          ],
          [
           84
          ],
          [
           87
          ],
          [
           89
          ],
          [
           84
          ],
          [
           94
          ],
          [
           86
          ],
          [
           79
          ],
          [
           86
          ],
          [
           85
          ],
          [
           92
          ],
          [
           89
          ],
          [
           88
          ],
          [
           87
          ],
          [
           90
          ],
          [
           89
          ],
          [
           79
          ],
          [
           82
          ],
          [
           87
          ],
          [
           91
          ],
          [
           86
          ],
          [
           89
          ],
          [
           83
          ],
          [
           91
          ],
          [
           89
          ],
          [
           82
          ],
          [
           85
          ],
          [
           92
          ],
          [
           89
          ],
          [
           84
          ],
          [
           87
          ],
          [
           94
          ],
          [
           85
          ],
          [
           88
          ],
          [
           89
          ],
          [
           83
          ],
          [
           89
          ],
          [
           91
          ],
          [
           88
          ],
          [
           88
          ],
          [
           91
          ],
          [
           87
          ],
          [
           87
          ],
          [
           85
          ],
          [
           85
          ],
          [
           88
          ],
          [
           85
          ],
          [
           86
          ],
          [
           89
          ],
          [
           95
          ],
          [
           89
          ],
          [
           90
          ],
          [
           85
          ],
          [
           88
          ],
          [
           87
          ],
          [
           82
          ],
          [
           88
          ],
          [
           84
          ],
          [
           91
          ],
          [
           93
          ],
          [
           88
          ],
          [
           94
          ],
          [
           81
          ],
          [
           91
          ],
          [
           85
          ],
          [
           94
          ],
          [
           91
          ],
          [
           88
          ],
          [
           89
          ],
          [
           84
          ],
          [
           83
          ],
          [
           92
          ],
          [
           84
          ]
         ],
         "hovertemplate": "Cluster=Cluster 1<br>0=%{x}<br>1=%{y}<br>2=%{z}<br>Feature=%{customdata[0]}<extra></extra>",
         "legendgroup": "Cluster 1",
         "marker": {
          "color": "#EF553B",
          "opacity": 0.7,
          "symbol": "circle"
         },
         "mode": "markers",
         "name": "Cluster 1",
         "scene": "scene",
         "showlegend": true,
         "type": "scatter3d",
         "x": [
          -15.986625,
          -13.776421,
          -15.437854,
          -12.822586,
          -10.158243,
          -15.89967,
          -10.335514,
          -12.35402,
          -13.400528,
          -13.309585,
          -12.252802,
          -12.865278,
          -14.880581,
          -12.830587,
          -10.088262,
          -10.832943,
          -13.809947,
          -11.726304,
          -13.696094,
          -10.494281,
          -13.539651,
          -12.78328,
          -12.424806,
          -12.931671,
          -14.249645,
          -14.435245,
          -10.492138,
          -13.008398,
          -12.698905,
          -13.4227295,
          -11.276704,
          -11.083578,
          -13.0857935,
          -10.633635,
          -13.770126,
          -14.827138,
          -12.564838,
          -15.116512,
          -11.858115,
          -12.687761,
          -13.753251,
          -12.378746,
          -15.058737,
          -12.86813,
          -13.3942175,
          -15.721087,
          -13.788838,
          -11.857059,
          -13.593878,
          -11.70263,
          -13.25548,
          -11.178982,
          -13.558473,
          -15.414271,
          -13.880711,
          -14.953819,
          -13.2565775,
          -15.025232,
          -12.356912,
          -15.762435,
          -13.75464,
          -11.623229,
          -12.277402,
          -11.302242,
          -13.418385,
          -12.075246,
          -13.0798025,
          -11.722662,
          -12.684138,
          -11.074452,
          -14.453739,
          -13.007276,
          -10.715243,
          -14.939907,
          -13.900223,
          -11.617654,
          -14.582422,
          -13.59787,
          -15.11588,
          -12.309607,
          -13.522978,
          -11.04234,
          -10.367966,
          -14.561076,
          -12.920907,
          -14.601741,
          -13.281353,
          -13.936588,
          -12.218258,
          -14.022721,
          -12.6103,
          -11.425216,
          -16.129885,
          -14.431522,
          -13.188056,
          -15.227662,
          -11.341261,
          -12.764373,
          -14.5301895,
          -15.314759,
          -12.142304,
          -12.562442,
          -14.845035,
          -14.382995,
          -12.741932,
          -14.59377,
          -11.638444,
          -15.436749,
          -12.7990465,
          -14.862085,
          -15.606609,
          -10.329001,
          -14.399494,
          -14.222148,
          -13.450477,
          -14.561828,
          -14.295322,
          -14.289982,
          -10.917594,
          -10.42636,
          -15.231149,
          -10.978662,
          -12.513773,
          -12.717795,
          -15.398268,
          -14.105151,
          -11.287366,
          -13.893529,
          -14.942674,
          -11.144578,
          -13.415137,
          -10.9469595,
          -10.899752,
          -13.58653,
          -12.481713,
          -12.848736,
          -10.772695,
          -13.165787,
          -11.484554,
          -13.887432,
          -14.4185705,
          -11.984292,
          -11.178941,
          -10.94454,
          -11.202256,
          -13.448022,
          -10.015613
         ],
         "y": [
          -3.961644,
          -5.6332035,
          -3.4033716,
          -5.7518015,
          -4.5027537,
          -4.2572656,
          -2.6248674,
          -1.5863655,
          -2.9742465,
          -0.1795491,
          -0.21562535,
          -6.2558894,
          -3.453183,
          -5.507736,
          -4.894656,
          -2.5688996,
          -1.386559,
          -3.2543552,
          -5.0300117,
          -1.6724752,
          -3.212716,
          -2.7435489,
          -1.5638639,
          -4.3066387,
          -1.3750263,
          -3.0400522,
          -3.1987858,
          -0.10460743,
          -1.7817427,
          -4.1818647,
          -0.73885316,
          0.77800107,
          -4.1500854,
          -3.5932498,
          -0.40007576,
          -3.7544234,
          -3.3785062,
          -0.17692718,
          -6.1533403,
          1.2311791,
          -2.8737297,
          -4.6346946,
          -3.8455281,
          0.4224399,
          -2.0296288,
          -0.44363725,
          -4.7836537,
          -2.9199564,
          -4.9494286,
          -2.666858,
          0.5979403,
          -0.21808036,
          -1.419179,
          -3.5276093,
          -0.09168528,
          -1.8537248,
          -1.1171781,
          -2.3366766,
          -4.6530805,
          -2.3755746,
          -1.4733285,
          -0.5585534,
          1.1797918,
          -3.514417,
          -1.2510986,
          -6.5137553,
          0.8787402,
          -3.4897456,
          -1.1049434,
          -1.6823903,
          -1.7185482,
          0.25551215,
          -5.478404,
          -3.0149055,
          -2.0055578,
          -2.6821113,
          -1.084292,
          -3.1440766,
          -2.8243778,
          1.4888016,
          -0.9891985,
          -0.38208717,
          -1.8071914,
          -0.06948528,
          0.7441846,
          0.73194164,
          -5.487646,
          -0.5025409,
          0.6606839,
          -1.1625056,
          0.557735,
          -3.5459843,
          -0.6968399,
          -2.1700597,
          -5.470151,
          -2.6062753,
          -2.699208,
          -4.6251345,
          -0.26983723,
          -1.4249214,
          -0.54262877,
          0.8233433,
          -3.2011733,
          -0.5070142,
          -3.0836208,
          -4.401951,
          -2.4986303,
          -1.8485649,
          0.037362855,
          -0.20083663,
          0.7389546,
          -5.3548827,
          0.75005966,
          -0.5976985,
          -1.3722423,
          -0.9067251,
          -1.7114223,
          -0.59640044,
          -2.5611112,
          -4.919229,
          0.045437664,
          0.579959,
          -4.0823865,
          -5.385513,
          -2.930531,
          0.82455426,
          -1.0717263,
          -0.80014455,
          -3.005315,
          -1.3795989,
          0.17980827,
          0.055073224,
          -5.515785,
          -5.5442877,
          -3.6831374,
          -5.089246,
          -1.0932364,
          -5.437454,
          -3.0916007,
          0.7140213,
          -5.2751784,
          -3.8669276,
          -4.610778,
          -2.9097567,
          -1.0318943,
          0.5377169,
          -4.4464793
         ],
         "z": [
          -0.8794139,
          -2.8676238,
          -0.59159124,
          -3.4233549,
          -1.9501485,
          -1.1825609,
          -2.4758384,
          0.71228373,
          -0.8465347,
          -4.2530737,
          -4.0666776,
          -2.8492227,
          0.53772676,
          0.19172889,
          -3.6961322,
          -3.016464,
          2.533293,
          -0.34497806,
          0.3143086,
          0.13545996,
          -0.7020202,
          -4.25545,
          1.5707545,
          -2.8839545,
          1.5023713,
          0.2906331,
          -3.0721183,
          -3.0248358,
          1.0658201,
          -2.8801625,
          -3.3537226,
          -0.010039792,
          -3.851644,
          -3.3533013,
          0.62095606,
          -0.35111994,
          -4.113228,
          1.5848452,
          -2.296515,
          -2.3405871,
          0.37667796,
          -2.6910806,
          0.831849,
          -4.398741,
          -3.847849,
          1.2585481,
          -1.6166521,
          -1.607124,
          -2.062145,
          -3.8536694,
          0.5875553,
          -4.00838,
          1.1005565,
          -1.5650381,
          -2.2948813,
          1.4789592,
          -3.0520253,
          -0.9891966,
          -2.017848,
          0.33768684,
          2.8168676,
          -2.12457,
          -3.897908,
          -3.6136343,
          1.4225845,
          -1.5148944,
          -2.16255,
          0.3831826,
          -0.31728312,
          -3.5401742,
          1.8071169,
          0.6368603,
          -3.1294408,
          -1.8851755,
          -0.094746664,
          -0.814772,
          0.75623906,
          -0.7411697,
          -2.7050648,
          -3.6157384,
          -0.70606065,
          -2.0465791,
          0.16247946,
          -0.4641305,
          -4.080214,
          0.71988684,
          -0.11918207,
          -2.6515229,
          -3.9203093,
          -0.052627455,
          0.6441447,
          0.14454842,
          0.9301111,
          1.8810809,
          0.239246,
          -2.0334952,
          -3.5782769,
          -1.7554194,
          1.7251651,
          -3.4220479,
          -2.5829244,
          -4.1013684,
          0.07150504,
          -0.72504467,
          -4.0236416,
          -1.2462215,
          -1.3427478,
          -3.3878343,
          -3.7102318,
          -1.4880441,
          -0.3601654,
          -3.1382308,
          -1.398057,
          -2.8865938,
          1.7988735,
          -1.7115948,
          0.35743228,
          -1.5922188,
          -0.92250645,
          -3.2545578,
          1.7235111,
          -0.08750393,
          -1.5462832,
          -3.133669,
          -2.0512862,
          -1.317774,
          -0.54474115,
          -3.229106,
          1.5173295,
          -1.5052029,
          -0.5334104,
          -0.30562505,
          -2.942853,
          -1.8133367,
          -1.4446474,
          -1.9392225,
          -0.08853419,
          -3.6735134,
          -3.651966,
          -4.3371696,
          -1.5155452,
          -1.695021,
          -1.9555043,
          -3.3380344,
          -1.0816364,
          -4.000497,
          -1.6781859
         ]
        },
        {
         "customdata": [
          [
           87
          ],
          [
           30
          ],
          [
           36
          ],
          [
           39
          ],
          [
           89
          ],
          [
           31
          ],
          [
           30
          ],
          [
           31
          ],
          [
           29
          ],
          [
           33
          ],
          [
           37
          ],
          [
           37
          ],
          [
           37
          ],
          [
           29
          ],
          [
           36
          ],
          [
           33
          ],
          [
           38
          ],
          [
           28
          ],
          [
           27
          ],
          [
           34
          ],
          [
           44
          ],
          [
           31
          ],
          [
           36
          ],
          [
           33
          ],
          [
           88
          ],
          [
           31
          ],
          [
           86
          ],
          [
           36
          ],
          [
           35
          ],
          [
           32
          ],
          [
           36
          ],
          [
           85
          ],
          [
           31
          ],
          [
           31
          ],
          [
           33
          ],
          [
           33
          ],
          [
           82
          ],
          [
           32
          ],
          [
           30
          ],
          [
           33
          ],
          [
           34
          ],
          [
           35
          ],
          [
           31
          ],
          [
           35
          ],
          [
           82
          ],
          [
           35
          ],
          [
           28
          ],
          [
           30
          ],
          [
           28
          ],
          [
           32
          ],
          [
           38
          ],
          [
           28
          ],
          [
           31
          ],
          [
           30
          ],
          [
           84
          ],
          [
           30
          ],
          [
           37
          ],
          [
           88
          ],
          [
           35
          ],
          [
           28
          ],
          [
           34
          ],
          [
           34
          ],
          [
           22
          ],
          [
           36
          ],
          [
           34
          ],
          [
           86
          ],
          [
           92
          ],
          [
           31
          ],
          [
           31
          ],
          [
           93
          ],
          [
           35
          ],
          [
           32
          ],
          [
           28
          ],
          [
           33
          ],
          [
           86
          ],
          [
           29
          ],
          [
           30
          ],
          [
           38
          ],
          [
           88
          ],
          [
           29
          ],
          [
           36
          ],
          [
           31
          ],
          [
           33
          ],
          [
           29
          ],
          [
           33
          ],
          [
           31
          ],
          [
           84
          ],
          [
           26
          ],
          [
           24
          ],
          [
           36
          ],
          [
           33
          ],
          [
           31
          ],
          [
           29
          ],
          [
           36
          ],
          [
           83
          ],
          [
           85
          ],
          [
           40
          ],
          [
           31
          ],
          [
           37
          ],
          [
           83
          ],
          [
           31
          ],
          [
           29
          ],
          [
           33
          ],
          [
           30
          ],
          [
           34
          ],
          [
           30
          ],
          [
           34
          ],
          [
           31
          ],
          [
           29
          ],
          [
           90
          ],
          [
           30
          ],
          [
           37
          ],
          [
           30
          ],
          [
           33
          ],
          [
           37
          ],
          [
           38
          ],
          [
           35
          ],
          [
           25
          ],
          [
           42
          ],
          [
           33
          ],
          [
           29
          ],
          [
           39
          ],
          [
           83
          ],
          [
           32
          ],
          [
           84
          ],
          [
           34
          ],
          [
           37
          ],
          [
           35
          ],
          [
           43
          ],
          [
           77
          ],
          [
           34
          ],
          [
           91
          ],
          [
           36
          ],
          [
           33
          ],
          [
           31
          ],
          [
           28
          ],
          [
           29
          ],
          [
           35
          ],
          [
           37
          ],
          [
           32
          ],
          [
           37
          ],
          [
           29
          ],
          [
           35
          ],
          [
           31
          ],
          [
           84
          ],
          [
           25
          ],
          [
           90
          ],
          [
           34
          ],
          [
           39
          ],
          [
           32
          ],
          [
           34
          ]
         ],
         "hovertemplate": "Cluster=Cluster 2<br>0=%{x}<br>1=%{y}<br>2=%{z}<br>Feature=%{customdata[0]}<extra></extra>",
         "legendgroup": "Cluster 2",
         "marker": {
          "color": "#00cc96",
          "opacity": 0.7,
          "symbol": "circle"
         },
         "mode": "markers",
         "name": "Cluster 2",
         "scene": "scene",
         "showlegend": true,
         "type": "scatter3d",
         "x": [
          -2.834477,
          -1.7263447,
          1.8717548,
          0.9128103,
          -3.1966836,
          2.61,
          2.7114575,
          2.336824,
          3.26676,
          -1.3068315,
          1.5837717,
          0.5602583,
          -2.1088042,
          -0.6317531,
          0.9157467,
          1.1548164,
          1.7896224,
          -1.5844994,
          -1.5952214,
          0.068620056,
          1.6970102,
          -0.63292885,
          0.80933493,
          0.22067338,
          -3.473513,
          1.8781635,
          -3.4665604,
          1.3548628,
          -1.0516757,
          3.0719273,
          -1.6929057,
          -3.5514383,
          -0.3909846,
          1.8018428,
          -0.16784751,
          1.8382825,
          -2.7226388,
          -0.17168947,
          1.7283467,
          -2.2901487,
          1.3987286,
          -0.5290471,
          0.13563547,
          1.683966,
          -3.0160263,
          -1.4023483,
          -0.83347243,
          2.127459,
          2.5295062,
          -0.30160695,
          1.852037,
          -1.3021246,
          1.4131829,
          2.0907466,
          -2.7909057,
          0.19339132,
          1.4001837,
          -3.4343972,
          0.771745,
          1.1922354,
          1.5039283,
          -0.5672082,
          0.39990374,
          -0.41361246,
          -1.7863759,
          -2.7991924,
          -3.6551998,
          1.4587379,
          2.5641615,
          -3.885866,
          0.5202673,
          2.0547445,
          -1.8784838,
          3.0999734,
          -3.5889,
          2.5506396,
          1.7206414,
          1.8711306,
          -3.3543944,
          3.6091797,
          -1.3155538,
          0.6241849,
          1.1766587,
          0.122933835,
          1.8348286,
          2.722567,
          -2.6629772,
          -1.6133626,
          0.096794605,
          0.75157404,
          2.2697425,
          -1.5456759,
          3.7019434,
          -1.6468146,
          -3.1779761,
          -2.6220481,
          -2.0354736,
          2.531172,
          -2.0799093,
          -2.328439,
          1.0198874,
          -0.16672365,
          1.5927331,
          2.0228822,
          -0.25958624,
          0.2098585,
          -2.8438506,
          0.86840147,
          3.8279645,
          -3.805235,
          1.5012087,
          0.4784266,
          -1.7675159,
          0.3964534,
          1.2290958,
          0.83878845,
          2.692245,
          -1.4988396,
          0.9646351,
          -0.8415666,
          2.1665382,
          0.97560185,
          -2.6520355,
          1.2158821,
          -2.991693,
          2.2607658,
          1.5309974,
          2.140049,
          0.6049414,
          -2.9086978,
          2.9213028,
          -3.924702,
          0.81894594,
          1.5121176,
          2.0462317,
          3.3769886,
          1.1225106,
          0.8815189,
          0.4784474,
          -1.8905282,
          0.21063082,
          -1.159077,
          1.1415111,
          3.0488105,
          -2.5495892,
          1.503259,
          -3.3296292,
          1.1033509,
          -2.7690063,
          -0.2657252,
          1.9884754
         ],
         "y": [
          5.341664,
          9.681738,
          9.842383,
          5.714553,
          5.215798,
          8.551865,
          8.796955,
          8.160986,
          10.643015,
          9.1173725,
          11.21314,
          10.044946,
          8.990749,
          10.150747,
          8.765952,
          10.025098,
          6.064934,
          9.147124,
          10.286583,
          9.264906,
          11.443937,
          7.758051,
          7.465861,
          9.28137,
          6.384635,
          8.848783,
          5.269663,
          10.543907,
          8.708088,
          11.581156,
          7.626578,
          5.463428,
          6.9127083,
          7.9651055,
          11.679648,
          9.288711,
          6.210393,
          7.680848,
          10.144794,
          9.137047,
          9.126905,
          9.959953,
          11.046487,
          9.963866,
          6.44,
          8.683615,
          9.072487,
          7.021241,
          8.190452,
          11.634524,
          10.686751,
          8.61465,
          12.49947,
          7.647929,
          6.185697,
          10.098701,
          11.604708,
          5.3745055,
          7.052612,
          13.184125,
          8.468101,
          7.2917295,
          6.6052895,
          12.980406,
          8.607834,
          6.0313344,
          5.813181,
          12.181691,
          11.916136,
          6.207604,
          10.2816105,
          11.916526,
          9.30017,
          9.824042,
          6.3100214,
          8.664646,
          11.371663,
          11.107127,
          5.6252217,
          9.846499,
          7.4213552,
          12.5113325,
          9.958232,
          9.724766,
          10.05043,
          11.981682,
          5.3612356,
          8.668479,
          6.824318,
          8.491381,
          12.587782,
          9.406227,
          9.768226,
          7.7365694,
          6.1237183,
          5.3567023,
          7.329846,
          11.40266,
          7.7835236,
          5.525206,
          12.798777,
          12.1197815,
          8.700776,
          7.901033,
          12.41346,
          12.585527,
          8.955786,
          11.931073,
          9.950625,
          6.0328226,
          12.797767,
          6.3349476,
          9.436208,
          13.0125065,
          8.448611,
          5.5857105,
          9.105628,
          9.50314,
          11.480545,
          7.6500545,
          7.6848917,
          5.699031,
          5.8690686,
          11.039455,
          5.0463443,
          10.303159,
          11.911712,
          12.23492,
          11.971769,
          6.6864066,
          9.284176,
          5.575653,
          10.9833975,
          8.32843,
          12.1426525,
          10.195885,
          7.155077,
          8.673855,
          10.797656,
          8.49281,
          10.8869,
          8.516426,
          8.392356,
          10.874005,
          5.9677415,
          6.652875,
          5.648761,
          10.211021,
          8.3678,
          6.6821313,
          10.693032
         ],
         "z": [
          10.178664,
          0.21532479,
          -0.10528702,
          -0.22532816,
          9.079239,
          1.1881423,
          -1.8696239,
          -1.751188,
          -1.3743213,
          1.0660808,
          0.4076702,
          0.75299674,
          0.9905801,
          -2.5957072,
          -1.6686183,
          -4.5690446,
          -0.73330325,
          -2.477088,
          -2.4236395,
          -1.0346613,
          1.5841553,
          0.85993475,
          0.6424842,
          -1.6565914,
          10.083748,
          -3.1791685,
          9.56265,
          -3.5946164,
          0.96609664,
          -0.70668435,
          -0.06668282,
          8.972875,
          0.4338265,
          -0.43788934,
          -1.5256263,
          -0.93414086,
          9.03973,
          0.99933696,
          -3.9767392,
          -0.72319055,
          -0.5472868,
          -0.84349054,
          -2.1340911,
          -3.300093,
          9.735048,
          0.8894448,
          -3.0165186,
          -2.477554,
          -2.662688,
          -2.167821,
          1.04025,
          -2.9328716,
          -2.3439767,
          -2.83583,
          10.078739,
          -2.9119873,
          0.22674225,
          9.958266,
          0.35274616,
          -1.7300237,
          -2.8854637,
          -0.87814134,
          -3.0965877,
          -2.485468,
          -0.03881679,
          10.379877,
          10.237049,
          -2.1116624,
          -3.582493,
          9.85191,
          0.44939053,
          -1.6106863,
          -2.1577792,
          0.6515573,
          9.155966,
          -1.7110612,
          -1.8089968,
          0.8005066,
          8.535873,
          -1.7604669,
          -0.7185427,
          -2.9933593,
          -4.318699,
          -2.8997648,
          -3.7868297,
          -1.2603426,
          8.865618,
          -2.9260547,
          -3.4025853,
          0.41300052,
          -1.1813084,
          -1.5732745,
          -0.0120764,
          -1.0443141,
          8.981186,
          9.755252,
          -0.34434158,
          -1.5820199,
          -0.3910225,
          9.564785,
          -2.3607059,
          -3.8197348,
          -0.78838193,
          -0.13066182,
          -2.3068788,
          -1.8281392,
          -0.05264334,
          -2.213609,
          -0.15208398,
          9.404759,
          -2.9562454,
          0.82981515,
          -1.6433513,
          -2.7529323,
          -2.8572,
          -0.34905666,
          1.292943,
          -3.0233166,
          1.5308253,
          -1.2292844,
          0.369414,
          -0.28504905,
          9.15182,
          -1.7831861,
          9.549345,
          -0.32974645,
          0.23865096,
          -0.6650747,
          1.8058125,
          9.485831,
          1.2114344,
          9.745144,
          -0.29165998,
          -0.15040116,
          -1.6536746,
          -1.8780596,
          -1.2225711,
          -0.67557627,
          0.27301586,
          -1.4904448,
          0.0069484934,
          -2.5397134,
          -0.3411564,
          -1.1724315,
          9.730921,
          -2.342885,
          10.530741,
          -4.863737,
          -0.07558425,
          0.6444083,
          -3.420065
         ]
        },
        {
         "customdata": [
          [
           22
          ],
          [
           25
          ],
          [
           26
          ],
          [
           28
          ],
          [
           29
          ],
          [
           22
          ],
          [
           24
          ],
          [
           24
          ],
          [
           26
          ],
          [
           28
          ],
          [
           26
          ],
          [
           23
          ],
          [
           25
          ],
          [
           29
          ],
          [
           17
          ],
          [
           18
          ],
          [
           26
          ],
          [
           18
          ],
          [
           21
          ],
          [
           30
          ],
          [
           17
          ],
          [
           25
          ],
          [
           20
          ],
          [
           20
          ],
          [
           28
          ],
          [
           20
          ],
          [
           28
          ],
          [
           25
          ],
          [
           31
          ],
          [
           27
          ],
          [
           21
          ],
          [
           22
          ],
          [
           24
          ],
          [
           17
          ],
          [
           28
          ],
          [
           23
          ],
          [
           28
          ],
          [
           17
          ],
          [
           26
          ],
          [
           27
          ],
          [
           24
          ],
          [
           25
          ],
          [
           29
          ],
          [
           24
          ],
          [
           23
          ],
          [
           23
          ],
          [
           25
          ],
          [
           24
          ],
          [
           27
          ],
          [
           24
          ]
         ],
         "hovertemplate": "Cluster=Cluster 3<br>0=%{x}<br>1=%{y}<br>2=%{z}<br>Feature=%{customdata[0]}<extra></extra>",
         "legendgroup": "Cluster 3",
         "marker": {
          "color": "#ab63fa",
          "opacity": 0.7,
          "symbol": "circle"
         },
         "mode": "markers",
         "name": "Cluster 3",
         "scene": "scene",
         "showlegend": true,
         "type": "scatter3d",
         "x": [
          12.630817,
          14.594615,
          15.420373,
          14.964946,
          15.800178,
          15.865109,
          14.64424,
          15.298951,
          14.924542,
          13.806704,
          13.352985,
          15.418081,
          14.528646,
          15.233025,
          14.661259,
          14.977818,
          12.81083,
          13.824156,
          13.933099,
          13.118057,
          14.696984,
          13.121335,
          13.568108,
          13.6493635,
          13.3811865,
          13.426993,
          16.16345,
          14.836494,
          14.833042,
          14.5104685,
          15.749831,
          14.425635,
          14.551638,
          16.809036,
          13.380893,
          15.628067,
          13.556166,
          13.741233,
          14.040075,
          13.81035,
          15.713165,
          14.259103,
          15.129722,
          13.263893,
          14.976812,
          13.50016,
          15.631506,
          15.514482,
          13.079272,
          16.451769
         ],
         "y": [
          3.651356,
          2.1565201,
          3.96861,
          4.5574985,
          2.9260626,
          3.8600192,
          2.9757712,
          4.1091475,
          2.6253262,
          4.688346,
          4.3081913,
          3.4738014,
          1.7502245,
          2.0105138,
          3.4573436,
          2.1310306,
          2.2325823,
          2.2444806,
          3.3612485,
          1.842378,
          3.330467,
          2.2622736,
          3.1681554,
          2.0550592,
          2.542771,
          2.6963062,
          4.872709,
          3.4202707,
          4.480923,
          4.7818947,
          3.4000885,
          1.9494256,
          3.0022657,
          4.5853887,
          2.0712898,
          3.821893,
          1.8462265,
          3.9773755,
          1.5744835,
          3.5419772,
          3.1176138,
          2.989321,
          4.6501617,
          3.059933,
          2.8240771,
          2.917539,
          4.186349,
          3.0818717,
          3.0447083,
          4.352438
         ],
         "z": [
          0.45160887,
          -0.19420299,
          -0.92489207,
          -0.35493568,
          -0.6885311,
          -0.07025763,
          0.90118885,
          -0.47859356,
          -0.072256684,
          -0.29260072,
          -0.053569976,
          -0.92478657,
          -0.8602145,
          1.2863562,
          1.5991398,
          -1.5886887,
          0.023617702,
          1.0441523,
          0.97015333,
          -0.9605988,
          1.5322279,
          -0.72735,
          -0.053195305,
          0.6673874,
          -1.4758828,
          1.0231142,
          -1.1362883,
          0.16784197,
          -1.2805482,
          -0.4050657,
          -1.4793355,
          0.46654987,
          0.3576148,
          -0.61155033,
          -1.1532451,
          0.7557963,
          -0.44039276,
          1.0874364,
          -0.83506167,
          -0.7993475,
          -1.0797793,
          0.40992227,
          -1.1572526,
          -0.57517177,
          -0.24785654,
          -0.7875607,
          0.66686535,
          0.037284046,
          -0.65614086,
          -0.3478647
         ]
        }
       ],
       "layout": {
        "height": 800,
        "legend": {
         "title": {
          "text": "Cluster"
         },
         "tracegroupgap": 0
        },
        "scene": {
         "domain": {
          "x": [
           0,
           1
          ],
          "y": [
           0,
           1
          ]
         },
         "xaxis": {
          "title": {
           "text": "0"
          }
         },
         "yaxis": {
          "title": {
           "text": "1"
          }
         },
         "zaxis": {
          "title": {
           "text": "2"
          }
         }
        },
        "template": {
         "data": {
          "bar": [
           {
            "error_x": {
             "color": "#2a3f5f"
            },
            "error_y": {
             "color": "#2a3f5f"
            },
            "marker": {
             "line": {
              "color": "#E5ECF6",
              "width": 0.5
             },
             "pattern": {
              "fillmode": "overlay",
              "size": 10,
              "solidity": 0.2
             }
            },
            "type": "bar"
           }
          ],
          "barpolar": [
           {
            "marker": {
             "line": {
              "color": "#E5ECF6",
              "width": 0.5
             },
             "pattern": {
              "fillmode": "overlay",
              "size": 10,
              "solidity": 0.2
             }
            },
            "type": "barpolar"
           }
          ],
          "carpet": [
           {
            "aaxis": {
             "endlinecolor": "#2a3f5f",
             "gridcolor": "white",
             "linecolor": "white",
             "minorgridcolor": "white",
             "startlinecolor": "#2a3f5f"
            },
            "baxis": {
             "endlinecolor": "#2a3f5f",
             "gridcolor": "white",
             "linecolor": "white",
             "minorgridcolor": "white",
             "startlinecolor": "#2a3f5f"
            },
            "type": "carpet"
           }
          ],
          "choropleth": [
           {
            "colorbar": {
             "outlinewidth": 0,
             "ticks": ""
            },
            "type": "choropleth"
           }
          ],
          "contour": [
           {
            "colorbar": {
             "outlinewidth": 0,
             "ticks": ""
            },
            "colorscale": [
             [
              0,
              "#0d0887"
             ],
             [
              0.1111111111111111,
              "#46039f"
             ],
             [
              0.2222222222222222,
              "#7201a8"
             ],
             [
              0.3333333333333333,
              "#9c179e"
             ],
             [
              0.4444444444444444,
              "#bd3786"
             ],
             [
              0.5555555555555556,
              "#d8576b"
             ],
             [
              0.6666666666666666,
              "#ed7953"
             ],
             [
              0.7777777777777778,
              "#fb9f3a"
             ],
             [
              0.8888888888888888,
              "#fdca26"
             ],
             [
              1,
              "#f0f921"
             ]
            ],
            "type": "contour"
           }
          ],
          "contourcarpet": [
           {
            "colorbar": {
             "outlinewidth": 0,
             "ticks": ""
            },
            "type": "contourcarpet"
           }
          ],
          "heatmap": [
           {
            "colorbar": {
             "outlinewidth": 0,
             "ticks": ""
            },
            "colorscale": [
             [
              0,
              "#0d0887"
             ],
             [
              0.1111111111111111,
              "#46039f"
             ],
             [
              0.2222222222222222,
              "#7201a8"
             ],
             [
              0.3333333333333333,
              "#9c179e"
             ],
             [
              0.4444444444444444,
              "#bd3786"
             ],
             [
              0.5555555555555556,
              "#d8576b"
             ],
             [
              0.6666666666666666,
              "#ed7953"
             ],
             [
              0.7777777777777778,
              "#fb9f3a"
             ],
             [
              0.8888888888888888,
              "#fdca26"
             ],
             [
              1,
              "#f0f921"
             ]
            ],
            "type": "heatmap"
           }
          ],
          "heatmapgl": [
           {
            "colorbar": {
             "outlinewidth": 0,
             "ticks": ""
            },
            "colorscale": [
             [
              0,
              "#0d0887"
             ],
             [
              0.1111111111111111,
              "#46039f"
             ],
             [
              0.2222222222222222,
              "#7201a8"
             ],
             [
              0.3333333333333333,
              "#9c179e"
             ],
             [
              0.4444444444444444,
              "#bd3786"
             ],
             [
              0.5555555555555556,
              "#d8576b"
             ],
             [
              0.6666666666666666,
              "#ed7953"
             ],
             [
              0.7777777777777778,
              "#fb9f3a"
             ],
             [
              0.8888888888888888,
              "#fdca26"
             ],
             [
              1,
              "#f0f921"
             ]
            ],
            "type": "heatmapgl"
           }
          ],
          "histogram": [
           {
            "marker": {
             "pattern": {
              "fillmode": "overlay",
              "size": 10,
              "solidity": 0.2
             }
            },
            "type": "histogram"
           }
          ],
          "histogram2d": [
           {
            "colorbar": {
             "outlinewidth": 0,
             "ticks": ""
            },
            "colorscale": [
             [
              0,
              "#0d0887"
             ],
             [
              0.1111111111111111,
              "#46039f"
             ],
             [
              0.2222222222222222,
              "#7201a8"
             ],
             [
              0.3333333333333333,
              "#9c179e"
             ],
             [
              0.4444444444444444,
              "#bd3786"
             ],
             [
              0.5555555555555556,
              "#d8576b"
             ],
             [
              0.6666666666666666,
              "#ed7953"
             ],
             [
              0.7777777777777778,
              "#fb9f3a"
             ],
             [
              0.8888888888888888,
              "#fdca26"
             ],
             [
              1,
              "#f0f921"
             ]
            ],
            "type": "histogram2d"
           }
          ],
          "histogram2dcontour": [
           {
            "colorbar": {
             "outlinewidth": 0,
             "ticks": ""
            },
            "colorscale": [
             [
              0,
              "#0d0887"
             ],
             [
              0.1111111111111111,
              "#46039f"
             ],
             [
              0.2222222222222222,
              "#7201a8"
             ],
             [
              0.3333333333333333,
              "#9c179e"
             ],
             [
              0.4444444444444444,
              "#bd3786"
             ],
             [
              0.5555555555555556,
              "#d8576b"
             ],
             [
              0.6666666666666666,
              "#ed7953"
             ],
             [
              0.7777777777777778,
              "#fb9f3a"
             ],
             [
              0.8888888888888888,
              "#fdca26"
             ],
             [
              1,
              "#f0f921"
             ]
            ],
            "type": "histogram2dcontour"
           }
          ],
          "mesh3d": [
           {
            "colorbar": {
             "outlinewidth": 0,
             "ticks": ""
            },
            "type": "mesh3d"
           }
          ],
          "parcoords": [
           {
            "line": {
             "colorbar": {
              "outlinewidth": 0,
              "ticks": ""
             }
            },
            "type": "parcoords"
           }
          ],
          "pie": [
           {
            "automargin": true,
            "type": "pie"
           }
          ],
          "scatter": [
           {
            "fillpattern": {
             "fillmode": "overlay",
             "size": 10,
             "solidity": 0.2
            },
            "type": "scatter"
           }
          ],
          "scatter3d": [
           {
            "line": {
             "colorbar": {
              "outlinewidth": 0,
              "ticks": ""
             }
            },
            "marker": {
             "colorbar": {
              "outlinewidth": 0,
              "ticks": ""
             }
            },
            "type": "scatter3d"
           }
          ],
          "scattercarpet": [
           {
            "marker": {
             "colorbar": {
              "outlinewidth": 0,
              "ticks": ""
             }
            },
            "type": "scattercarpet"
           }
          ],
          "scattergeo": [
           {
            "marker": {
             "colorbar": {
              "outlinewidth": 0,
              "ticks": ""
             }
            },
            "type": "scattergeo"
           }
          ],
          "scattergl": [
           {
            "marker": {
             "colorbar": {
              "outlinewidth": 0,
              "ticks": ""
             }
            },
            "type": "scattergl"
           }
          ],
          "scattermapbox": [
           {
            "marker": {
             "colorbar": {
              "outlinewidth": 0,
              "ticks": ""
             }
            },
            "type": "scattermapbox"
           }
          ],
          "scatterpolar": [
           {
            "marker": {
             "colorbar": {
              "outlinewidth": 0,
              "ticks": ""
             }
            },
            "type": "scatterpolar"
           }
          ],
          "scatterpolargl": [
           {
            "marker": {
             "colorbar": {
              "outlinewidth": 0,
              "ticks": ""
             }
            },
            "type": "scatterpolargl"
           }
          ],
          "scatterternary": [
           {
            "marker": {
             "colorbar": {
              "outlinewidth": 0,
              "ticks": ""
             }
            },
            "type": "scatterternary"
           }
          ],
          "surface": [
           {
            "colorbar": {
             "outlinewidth": 0,
             "ticks": ""
            },
            "colorscale": [
             [
              0,
              "#0d0887"
             ],
             [
              0.1111111111111111,
              "#46039f"
             ],
             [
              0.2222222222222222,
              "#7201a8"
             ],
             [
              0.3333333333333333,
              "#9c179e"
             ],
             [
              0.4444444444444444,
              "#bd3786"
             ],
             [
              0.5555555555555556,
              "#d8576b"
             ],
             [
              0.6666666666666666,
              "#ed7953"
             ],
             [
              0.7777777777777778,
              "#fb9f3a"
             ],
             [
              0.8888888888888888,
              "#fdca26"
             ],
             [
              1,
              "#f0f921"
             ]
            ],
            "type": "surface"
           }
          ],
          "table": [
           {
            "cells": {
             "fill": {
              "color": "#EBF0F8"
             },
             "line": {
              "color": "white"
             }
            },
            "header": {
             "fill": {
              "color": "#C8D4E3"
             },
             "line": {
              "color": "white"
             }
            },
            "type": "table"
           }
          ]
         },
         "layout": {
          "annotationdefaults": {
           "arrowcolor": "#2a3f5f",
           "arrowhead": 0,
           "arrowwidth": 1
          },
          "autotypenumbers": "strict",
          "coloraxis": {
           "colorbar": {
            "outlinewidth": 0,
            "ticks": ""
           }
          },
          "colorscale": {
           "diverging": [
            [
             0,
             "#8e0152"
            ],
            [
             0.1,
             "#c51b7d"
            ],
            [
             0.2,
             "#de77ae"
            ],
            [
             0.3,
             "#f1b6da"
            ],
            [
             0.4,
             "#fde0ef"
            ],
            [
             0.5,
             "#f7f7f7"
            ],
            [
             0.6,
             "#e6f5d0"
            ],
            [
             0.7,
             "#b8e186"
            ],
            [
             0.8,
             "#7fbc41"
            ],
            [
             0.9,
             "#4d9221"
            ],
            [
             1,
             "#276419"
            ]
           ],
           "sequential": [
            [
             0,
             "#0d0887"
            ],
            [
             0.1111111111111111,
             "#46039f"
            ],
            [
             0.2222222222222222,
             "#7201a8"
            ],
            [
             0.3333333333333333,
             "#9c179e"
            ],
            [
             0.4444444444444444,
             "#bd3786"
            ],
            [
             0.5555555555555556,
             "#d8576b"
            ],
            [
             0.6666666666666666,
             "#ed7953"
            ],
            [
             0.7777777777777778,
             "#fb9f3a"
            ],
            [
             0.8888888888888888,
             "#fdca26"
            ],
            [
             1,
             "#f0f921"
            ]
           ],
           "sequentialminus": [
            [
             0,
             "#0d0887"
            ],
            [
             0.1111111111111111,
             "#46039f"
            ],
            [
             0.2222222222222222,
             "#7201a8"
            ],
            [
             0.3333333333333333,
             "#9c179e"
            ],
            [
             0.4444444444444444,
             "#bd3786"
            ],
            [
             0.5555555555555556,
             "#d8576b"
            ],
            [
             0.6666666666666666,
             "#ed7953"
            ],
            [
             0.7777777777777778,
             "#fb9f3a"
            ],
            [
             0.8888888888888888,
             "#fdca26"
            ],
            [
             1,
             "#f0f921"
            ]
           ]
          },
          "colorway": [
           "#636efa",
           "#EF553B",
           "#00cc96",
           "#ab63fa",
           "#FFA15A",
           "#19d3f3",
           "#FF6692",
           "#B6E880",
           "#FF97FF",
           "#FECB52"
          ],
          "font": {
           "color": "#2a3f5f"
          },
          "geo": {
           "bgcolor": "white",
           "lakecolor": "white",
           "landcolor": "#E5ECF6",
           "showlakes": true,
           "showland": true,
           "subunitcolor": "white"
          },
          "hoverlabel": {
           "align": "left"
          },
          "hovermode": "closest",
          "mapbox": {
           "style": "light"
          },
          "paper_bgcolor": "white",
          "plot_bgcolor": "#E5ECF6",
          "polar": {
           "angularaxis": {
            "gridcolor": "white",
            "linecolor": "white",
            "ticks": ""
           },
           "bgcolor": "#E5ECF6",
           "radialaxis": {
            "gridcolor": "white",
            "linecolor": "white",
            "ticks": ""
           }
          },
          "scene": {
           "xaxis": {
            "backgroundcolor": "#E5ECF6",
            "gridcolor": "white",
            "gridwidth": 2,
            "linecolor": "white",
            "showbackground": true,
            "ticks": "",
            "zerolinecolor": "white"
           },
           "yaxis": {
            "backgroundcolor": "#E5ECF6",
            "gridcolor": "white",
            "gridwidth": 2,
            "linecolor": "white",
            "showbackground": true,
            "ticks": "",
            "zerolinecolor": "white"
           },
           "zaxis": {
            "backgroundcolor": "#E5ECF6",
            "gridcolor": "white",
            "gridwidth": 2,
            "linecolor": "white",
            "showbackground": true,
            "ticks": "",
            "zerolinecolor": "white"
           }
          },
          "shapedefaults": {
           "line": {
            "color": "#2a3f5f"
           }
          },
          "ternary": {
           "aaxis": {
            "gridcolor": "white",
            "linecolor": "white",
            "ticks": ""
           },
           "baxis": {
            "gridcolor": "white",
            "linecolor": "white",
            "ticks": ""
           },
           "bgcolor": "#E5ECF6",
           "caxis": {
            "gridcolor": "white",
            "linecolor": "white",
            "ticks": ""
           }
          },
          "title": {
           "x": 0.05
          },
          "xaxis": {
           "automargin": true,
           "gridcolor": "white",
           "linecolor": "white",
           "ticks": "",
           "title": {
            "standoff": 15
           },
           "zerolinecolor": "white",
           "zerolinewidth": 2
          },
          "yaxis": {
           "automargin": true,
           "gridcolor": "white",
           "linecolor": "white",
           "ticks": "",
           "title": {
            "standoff": 15
           },
           "zerolinecolor": "white",
           "zerolinewidth": 2
          }
         }
        },
        "title": {
         "text": "3d TSNE Plot for Clusters"
        },
        "width": 900
       }
      }
     },
     "metadata": {},
     "output_type": "display_data"
    }
   ],
   "source": [
    "# functional API\n",
    "evaluate_model(kmeans)"
   ]
  },
  {
   "cell_type": "code",
   "execution_count": 8,
   "metadata": {},
   "outputs": [
    {
     "data": {
      "text/html": [],
      "text/plain": [
       "<IPython.core.display.HTML object>"
      ]
     },
     "metadata": {},
     "output_type": "display_data"
    },
    {
     "data": {
      "image/png": "[encoded data removed]",
      "text/plain": [
       "<Figure size 800x550 with 1 Axes>"
      ]
     },
     "metadata": {},
     "output_type": "display_data"
    }
   ],
   "source": [
    "# functional API\n",
    "plot_model(kmeans, plot = 'elbow')"
   ]
  },
  {
   "cell_type": "code",
   "execution_count": 9,
   "metadata": {},
   "outputs": [
    {
     "data": {
      "text/html": [],
      "text/plain": [
       "<IPython.core.display.HTML object>"
      ]
     },
     "metadata": {},
     "output_type": "display_data"
    },
    {
     "data": {
      "image/png": "[encoded data removed]",
      "text/plain": [
       "<Figure size 800x550 with 1 Axes>"
      ]
     },
     "metadata": {},
     "output_type": "display_data"
    }
   ],
   "source": [
    "# functional API\n",
    "plot_model(kmeans, plot = 'silhouette')"
   ]
  },
  {
   "cell_type": "markdown",
   "metadata": {},
   "source": [
    "## Assign Model"
   ]
  },
  {
   "cell_type": "code",
   "execution_count": 10,
   "metadata": {},
   "outputs": [
    {
     "data": {
      "text/html": [
       "<div>\n",
       "<style scoped>\n",
       "    .dataframe tbody tr th:only-of-type {\n",
       "        vertical-align: middle;\n",
       "    }\n",
       "\n",
       "    .dataframe tbody tr th {\n",
       "        vertical-align: top;\n",
       "    }\n",
       "\n",
       "    .dataframe thead th {\n",
       "        text-align: right;\n",
       "    }\n",
       "</style>\n",
       "<table border=\"1\" class=\"dataframe\">\n",
       "  <thead>\n",
       "    <tr style=\"text-align: right;\">\n",
       "      <th></th>\n",
       "      <th>Age</th>\n",
       "      <th>Income</th>\n",
       "      <th>SpendingScore</th>\n",
       "      <th>Savings</th>\n",
       "      <th>Cluster</th>\n",
       "    </tr>\n",
       "  </thead>\n",
       "  <tbody>\n",
       "    <tr>\n",
       "      <th>0</th>\n",
       "      <td>58</td>\n",
       "      <td>77769</td>\n",
       "      <td>0.791329</td>\n",
       "      <td>6559.830078</td>\n",
       "      <td>Cluster 0</td>\n",
       "    </tr>\n",
       "    <tr>\n",
       "      <th>1</th>\n",
       "      <td>59</td>\n",
       "      <td>81799</td>\n",
       "      <td>0.791082</td>\n",
       "      <td>5417.661621</td>\n",
       "      <td>Cluster 0</td>\n",
       "    </tr>\n",
       "    <tr>\n",
       "      <th>2</th>\n",
       "      <td>62</td>\n",
       "      <td>74751</td>\n",
       "      <td>0.702657</td>\n",
       "      <td>9258.993164</td>\n",
       "      <td>Cluster 0</td>\n",
       "    </tr>\n",
       "    <tr>\n",
       "      <th>3</th>\n",
       "      <td>59</td>\n",
       "      <td>74373</td>\n",
       "      <td>0.765680</td>\n",
       "      <td>7346.334473</td>\n",
       "      <td>Cluster 0</td>\n",
       "    </tr>\n",
       "    <tr>\n",
       "      <th>4</th>\n",
       "      <td>87</td>\n",
       "      <td>17760</td>\n",
       "      <td>0.348778</td>\n",
       "      <td>16869.507812</td>\n",
       "      <td>Cluster 1</td>\n",
       "    </tr>\n",
       "  </tbody>\n",
       "</table>\n",
       "</div>"
      ],
      "text/plain": [
       "   Age  Income  SpendingScore       Savings    Cluster\n",
       "0   58   77769       0.791329   6559.830078  Cluster 0\n",
       "1   59   81799       0.791082   5417.661621  Cluster 0\n",
       "2   62   74751       0.702657   9258.993164  Cluster 0\n",
       "3   59   74373       0.765680   7346.334473  Cluster 0\n",
       "4   87   17760       0.348778  16869.507812  Cluster 1"
      ]
     },
     "execution_count": 10,
     "metadata": {},
     "output_type": "execute_result"
    }
   ],
   "source": [
    "# functional API\n",
    "result = assign_model(kmeans)\n",
    "result.head()"
   ]
  },
  {
   "cell_type": "markdown",
   "metadata": {},
   "source": [
    "## Predictions"
   ]
  },
  {
   "cell_type": "code",
   "execution_count": 11,
   "metadata": {},
   "outputs": [
    {
     "data": {
      "text/html": [
       "<div>\n",
       "<style scoped>\n",
       "    .dataframe tbody tr th:only-of-type {\n",
       "        vertical-align: middle;\n",
       "    }\n",
       "\n",
       "    .dataframe tbody tr th {\n",
       "        vertical-align: top;\n",
       "    }\n",
       "\n",
       "    .dataframe thead th {\n",
       "        text-align: right;\n",
       "    }\n",
       "</style>\n",
       "<table border=\"1\" class=\"dataframe\">\n",
       "  <thead>\n",
       "    <tr style=\"text-align: right;\">\n",
       "      <th></th>\n",
       "      <th>Age</th>\n",
       "      <th>Income</th>\n",
       "      <th>SpendingScore</th>\n",
       "      <th>Savings</th>\n",
       "      <th>Cluster</th>\n",
       "    </tr>\n",
       "  </thead>\n",
       "  <tbody>\n",
       "    <tr>\n",
       "      <th>0</th>\n",
       "      <td>-0.042287</td>\n",
       "      <td>0.062733</td>\n",
       "      <td>1.103593</td>\n",
       "      <td>-1.072467</td>\n",
       "      <td>Cluster 0</td>\n",
       "    </tr>\n",
       "    <tr>\n",
       "      <th>1</th>\n",
       "      <td>-0.000821</td>\n",
       "      <td>0.174811</td>\n",
       "      <td>1.102641</td>\n",
       "      <td>-1.303473</td>\n",
       "      <td>Cluster 0</td>\n",
       "    </tr>\n",
       "    <tr>\n",
       "      <th>2</th>\n",
       "      <td>0.123577</td>\n",
       "      <td>-0.021200</td>\n",
       "      <td>0.761727</td>\n",
       "      <td>-0.526556</td>\n",
       "      <td>Cluster 0</td>\n",
       "    </tr>\n",
       "    <tr>\n",
       "      <th>3</th>\n",
       "      <td>-0.000821</td>\n",
       "      <td>-0.031712</td>\n",
       "      <td>1.004705</td>\n",
       "      <td>-0.913395</td>\n",
       "      <td>Cluster 0</td>\n",
       "    </tr>\n",
       "    <tr>\n",
       "      <th>4</th>\n",
       "      <td>1.160228</td>\n",
       "      <td>-1.606165</td>\n",
       "      <td>-0.602619</td>\n",
       "      <td>1.012686</td>\n",
       "      <td>Cluster 1</td>\n",
       "    </tr>\n",
       "  </tbody>\n",
       "</table>\n",
       "</div>"
      ],
      "text/plain": [
       "        Age    Income  SpendingScore   Savings    Cluster\n",
       "0 -0.042287  0.062733       1.103593 -1.072467  Cluster 0\n",
       "1 -0.000821  0.174811       1.102641 -1.303473  Cluster 0\n",
       "2  0.123577 -0.021200       0.761727 -0.526556  Cluster 0\n",
       "3 -0.000821 -0.031712       1.004705 -0.913395  Cluster 0\n",
       "4  1.160228 -1.606165      -0.602619  1.012686  Cluster 1"
      ]
     },
     "execution_count": 11,
     "metadata": {},
     "output_type": "execute_result"
    }
   ],
   "source": [
    "# functional API\n",
    "predictions = predict_model(kmeans, data = data)\n",
    "predictions.head()"
   ]
  },
  {
   "cell_type": "markdown",
   "metadata": {},
   "source": [
    "## Save the model"
   ]
  },
  {
   "cell_type": "code",
   "execution_count": 12,
   "metadata": {},
   "outputs": [
    {
     "name": "stdout",
     "output_type": "stream",
     "text": [
      "Transformation Pipeline and Model Successfully Saved\n"
     ]
    },
    {
     "data": {
      "text/plain": [
       "(Pipeline(memory=Memory(location=None),\n",
       "          steps=[('numerical_imputer',\n",
       "                  TransformerWrapper(include=['Age', 'Income', 'SpendingScore',\n",
       "                                              'Savings'],\n",
       "                                     transformer=SimpleImputer())),\n",
       "                 ('categorical_imputer',\n",
       "                  TransformerWrapper(include=[],\n",
       "                                     transformer=SimpleImputer(strategy='most_frequent'))),\n",
       "                 ('normalize', TransformerWrapper(transformer=StandardScaler())),\n",
       "                 ('trained_model', KMeans(n_clusters=4, random_state=3554))]),\n",
       " 'kmeans_pipeline.pkl')"
      ]
     },
     "execution_count": 12,
     "metadata": {},
     "output_type": "execute_result"
    }
   ],
   "source": [
    "# functional API\n",
    "save_model(kmeans, 'kmeans_pipeline')"
   ]
  },
  {
   "cell_type": "code",
   "execution_count": 13,
   "metadata": {},
   "outputs": [
    {
     "name": "stdout",
     "output_type": "stream",
     "text": [
      "Transformation Pipeline and Model Successfully Loaded\n",
      "Pipeline(memory=FastMemory(location=C:\\Users\\lijinlong9\\AppData\\Local\\Temp\\joblib),\n",
      "         steps=[('numerical_imputer',\n",
      "                 TransformerWrapper(include=['Age', 'Income', 'SpendingScore',\n",
      "                                             'Savings'],\n",
      "                                    transformer=SimpleImputer())),\n",
      "                ('categorical_imputer',\n",
      "                 TransformerWrapper(include=[],\n",
      "                                    transformer=SimpleImputer(strategy='most_frequent'))),\n",
      "                ('normalize', TransformerWrapper(transformer=StandardScaler())),\n",
      "                ('trained_model', KMeans(n_clusters=4, random_state=3554))])\n"
     ]
    }
   ],
   "source": [
    "# functional API\n",
    "loaded_model = load_model('kmeans_pipeline')\n",
    "print(loaded_model)"
   ]
  },
  {
   "cell_type": "code",
   "execution_count": null,
   "metadata": {},
   "outputs": [],
   "source": []
  }
 ],
 "metadata": {
  "kernelspec": {
   "display_name": "pycaret",
   "language": "python",
   "name": "python3"
  },
  "language_info": {
   "codemirror_mode": {
    "name": "ipython",
    "version": 3
   },
   "file_extension": ".py",
   "mimetype": "text/x-python",
   "name": "python",
   "nbconvert_exporter": "python",
   "pygments_lexer": "ipython3",
   "version": "3.10.13"
  },
  "orig_nbformat": 4
 },
 "nbformat": 4,
 "nbformat_minor": 2
}
